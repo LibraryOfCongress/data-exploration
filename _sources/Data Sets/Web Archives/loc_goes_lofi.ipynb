{
 "cells": [
  {
   "cell_type": "code",
   "execution_count": null,
   "metadata": {},
   "outputs": [],
   "source": [
    "from pydub import AudioSegment\n",
    "from pydub.playback import play\n",
    "from glob import glob\n",
    "import re\n",
    "from random import choice\n",
    "import os"
   ]
  },
  {
   "cell_type": "code",
   "execution_count": null,
   "metadata": {},
   "outputs": [],
   "source": [
    "def speed_change(sound, speed=1.0):\n",
    "    # https://stackoverflow.com/questions/51434897/how-to-change-audio-playback-speed-using-pydub\n",
    "    # Manually override the frame_rate. This tells the computer how many\n",
    "    # samples to play per second\n",
    "    sound_with_altered_frame_rate = sound._spawn(sound.raw_data, overrides={\n",
    "        \"frame_rate\": int(sound.frame_rate * speed)\n",
    "    })\n",
    "\n",
    "    # convert the sound with altered frame rate to a standard frame rate\n",
    "    # so that regular playback programs will work right. They often only\n",
    "    # know how to play audio at standard frame rate (like 44.1k)\n",
    "    return sound_with_altered_frame_rate.set_frame_rate(sound.frame_rate)\n",
    "\n",
    "def get_random_sound():\n",
    "    # pydub supports mp3, wav, and mp4, so \n",
    "    # filter out extensions that are not those\n",
    "    sounds = list(\n",
    "        filter(\n",
    "            lambda x: re.search(r'\\.mp3|\\.wav|\\.mp4', x),\n",
    "            [g for g in glob('lcwa_gov_audio_data/data/*')]))\n",
    "    \n",
    "    # get a random int from the range of 0 - number of items in sounds list\n",
    "    n = choice(range(len(sounds)))\n",
    "    print(sounds[n])\n",
    "    \n",
    "    # play up to 20 seconds of the sample\n",
    "    play(AudioSegment.from_file(sounds[n])[:20000])    "
   ]
  },
  {
   "cell_type": "code",
   "execution_count": null,
   "metadata": {},
   "outputs": [],
   "source": [
    "get_random_sound()"
   ]
  },
  {
   "cell_type": "code",
   "execution_count": null,
   "metadata": {},
   "outputs": [],
   "source": [
    "# sampling sounds that were discovered from the get_random_sound function\n",
    "silence = AudioSegment.silent(duration=1000)\n",
    "opening_bit = AudioSegment\\\n",
    ".from_file('lcwa_gov_audio_data/data/VNHV4ETRBCPFRYMKTDQTBBXP7MDIRSES.mp3')[:10 * 300]\n",
    "outro_speech = AudioSegment\\\n",
    ".from_file('lcwa_gov_audio_data/data/Q526WMMXREAFK6KIGZKC2LO42R2BRKUJ.mp3')[2000:11900]\n",
    "elevator = AudioSegment.from_file('lcwa_gov_audio_data/data/CAQY57V3XBWV3R2MTF5OVIUAYMUSIMYZ.mp3')[:20000]\n",
    "low_reverb = speed_change(\n",
    "            AudioSegment.from_file('lcwa_gov_audio_data/data/EPOMMZ4E5SVGJ25AACNN34XCGC6FE4CK.mp3')[:700], .4\n",
    "        )\n",
    "thud = AudioSegment.from_file('lcwa_gov_audio_data/data/LKXPK4P7QM63MOQXGEDA42DAGKMLEI23.mp3')[600:900]\n",
    "moon = AudioSegment.from_file('lcwa_gov_audio_data/data/KL43UGQ476FFG6YD66AVJSYMDHKE4AXL.wav')[:3000]\n",
    "clap = AudioSegment.from_file('lcwa_gov_audio_data/data/UEMJ2NUMWD2EK74TWU22GTRLBQXXZ5GI.mp3')[:1500]\n",
    "melody = AudioSegment.from_file('lcwa_gov_audio_data/data/UQKFDBADCQXSW7SY73FPKXNFPFAXQLVP.mp3')[1500:8500]\n",
    "giant_bear = AudioSegment.from_file('lcwa_gov_audio_data/data/CD5OAIP5C5DV5K2G5DJKMXD5MMTT32AX.mp3')[1500:4700]\n",
    "no = AudioSegment.from_file('lcwa_gov_audio_data/data/HXZRKQKIZZIE4D5KGT5BGDGSVOO57MIG.mp3')[:2000]\n",
    "good_evening = AudioSegment.from_file('lcwa_gov_audio_data/data/KPE2N7CO5ELM2BR4B2CHV3OFZEXSJICT.mp3')[:3000]\n",
    "low_level_background_noise = AudioSegment\\\n",
    ".from_file('lcwa_gov_audio_data/data/JLCIUWJD2BF4JMIBQSREMANR3SUSTJQA.mp4')[:10 * 2000]"
   ]
  },
  {
   "cell_type": "code",
   "execution_count": null,
   "metadata": {},
   "outputs": [],
   "source": [
    "# combining and remixing some of the samples from above to create longer tracks\n",
    "background = low_level_background_noise.overlay((silence*3).append(low_reverb*11))\n",
    "moon_loop = moon[1000:3000]\\\n",
    "        .append(AudioSegment.silent(100))\\\n",
    "        .append(moon[2700:3000]*3)\\\n",
    "        .append(AudioSegment.silent(100))\\\n",
    "        .append(moon[1000:2000])\\\n",
    "        .append(AudioSegment.silent(100))\\\n",
    "        .append(moon[2600:3000])\\\n",
    "        .append(AudioSegment.silent(100))\\\n",
    "        .append(moon[2100:2400])\\\n",
    "        .append(AudioSegment.silent(100))\\\n",
    "        .append(moon[1000:3000])\\\n",
    "        .append(AudioSegment.silent(400))"
   ]
  },
  {
   "cell_type": "code",
   "execution_count": null,
   "metadata": {},
   "outputs": [],
   "source": [
    "# piecing everything together into one track\n",
    "final_sound = (((background).append(silence*40))\n",
    "     .overlay(opening_bit.fade_in(1000)\n",
    "              .append(silence*4)\n",
    "              .append(good_evening)\n",
    "              .append(silence)\n",
    "              .append(moon_loop.fade_out(1000))\n",
    "              .append(silence*4)\n",
    "              .append(AudioSegment.silent(400))\n",
    "              .append((giant_bear.append(silence*11))\n",
    "                      .overlay((silence*3)\n",
    "                               .append(speed_change(melody, .5)\n",
    "                                       .fade_in(1000)\n",
    "                                       .fade_out(1000)\n",
    "                                      )))\n",
    "              .append(no+10)\n",
    "              .append(AudioSegment.silent(400))\n",
    "              .append((clap.append(clap.reverse())))\n",
    "              .append(silence)\n",
    "              .append(outro_speech.fade_out(1000))\n",
    "             ).overlay(silence\n",
    "                       .append(speed_change(elevator, 1.6)\n",
    "                               .reverse() * 2).append(silence*3)))                                  "
   ]
  },
  {
   "cell_type": "code",
   "execution_count": null,
   "metadata": {},
   "outputs": [],
   "source": [
    "# saving track out with metadata\n",
    "final_sound.export(\"loc_mashup.mp3\", format=\"mp3\", tags={\n",
    "    'artist': 'Various artists',\n",
    "    'creator': 'Chase Dooley',\n",
    "    'album': 'LOC Mashup', \n",
    "    'comments': 'This is a composite of audio tracks taken from the LCWA .gov Audio dataset'})"
   ]
  }
 ],
 "metadata": {
  "kernelspec": {
   "display_name": "Python 3",
   "language": "python",
   "name": "python3"
  },
  "language_info": {
   "codemirror_mode": {
    "name": "ipython",
    "version": 3
   },
   "file_extension": ".py",
   "mimetype": "text/x-python",
   "name": "python",
   "nbconvert_exporter": "python",
   "pygments_lexer": "ipython3",
   "version": "3.6.5"
  }
 },
 "nbformat": 4,
 "nbformat_minor": 2
}

