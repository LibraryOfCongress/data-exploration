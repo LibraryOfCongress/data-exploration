{
 "cells": [
  {
   "cell_type": "markdown",
   "metadata": {},
   "source": [
    "# Exploring the Memegenerator Metadata\n",
    "\n",
    "This notebook demonstrates some of the basic things that can be done with the set of data from memegenerator. \n",
    "[Meme Generator](https://memegenerator.net/) is a site that has been archived by the Library of Congress in its Web Cultures archive. The data explored here is available from the LC Labs experiments page located here: https://labs.loc.gov/experiments/webarchive-datasets/. \n",
    "\n",
    "This notebook has a few sections:\n",
    "\n",
    "1. Initial exploration & verification of the data set\n",
    "2. Count and display information about the memes represented in the data set \n",
    "3. Count & visualize the types of memes in the data set \n",
    "4. Retrieve and display a specific meme "
   ]
  },
  {
   "cell_type": "markdown",
   "metadata": {},
   "source": [
    "## 1. Initial exploration & verification of the data set\n",
    "\n",
    "This example assumes that you have downloaded the zip file, unzipped and located the `memegenerator.csv` file, and saved that file in the same folder as this notebook. \n",
    "The file is available from [this page](https://labs.loc.gov/experiments/webarchive-datasets/). To find the csv, click \"Meme Generator Data Set Download External,\" unzip the file, and move the unzipped files into the same folder as this notebook. The blocks of code below demonstrate a few basic steps that allow you to open up the csv file and count the rows.\n",
    "\n",
    "First, let's open up the csv and take a closer look at it. Before we open the file, we will need to import a few basic modules. We will use the csv module to work with the downloaded data set, the string module provides a few useful string manipulation tools, and pandas supports visualizing the information.   "
   ]
  },
  {
   "cell_type": "code",
   "execution_count": 1,
   "metadata": {
    "collapsed": true
   },
   "outputs": [],
   "source": [
    "import string\n",
    "import csv\n",
    "import pandas as pd\n",
    "import matplotlib.pyplot as plt"
   ]
  },
  {
   "cell_type": "markdown",
   "metadata": {},
   "source": [
    "If we open the csv file using python's csv module, we can read the data into a dictionary, then isolate individual elements according to the associated column heading. Let's find out what the column names are: "
   ]
  },
  {
   "cell_type": "code",
   "execution_count": 2,
   "metadata": {},
   "outputs": [
    {
     "name": "stdout",
     "output_type": "stream",
     "text": [
      "Output fieldnames: ['Meme ID\\tArchived URL\\tBase Meme Name\\tMeme Page URL\\tMD5 Hash\\tFile Size (In Bytes)\\tAlternate Text']\n",
      "Headers output: Meme ID\tArchived URL\tBase Meme Name\tMeme Page URL\tMD5 Hash\tFile Size (In Bytes)\tAlternate Text\n"
     ]
    }
   ],
   "source": [
    "## use the contextual with open() method to open the file and read it\n",
    "## note that the file is a 'utf-16' encoding\n",
    "## to reuse this example you may need to change the filepath\n",
    "with open('memegenerator.csv', 'r', encoding='utf-16') as memedata:\n",
    "    reader = csv.DictReader(memedata)\n",
    "    print('Output fieldnames:',reader.fieldnames)\n",
    "    for heading in reader.fieldnames:\n",
    "        print('Headers output:',heading)"
   ]
  },
  {
   "cell_type": "markdown",
   "metadata": {},
   "source": [
    "Before proceeding, take a careful look at the above output. In `Output fieldnames:`, notice that the printed output appears to be a list (enclosed in square brackets `[]`) with a single string inside of it. That is not what we would expect. Instead, we want a list of the column headers. If you compare that with the `Headers output:`), you'll see that the fieldnames string prints values separated by `\t` and the headers lists has multiple spaces. It turns out that the data fields in this file are separated by `Tab`, not comma. That's okay, but we need to specify the delimiter is a tab, rather than the default comma. \n",
    "\n",
    "It is necessary to specify the encoding, which is `utf-16`. This allows for correct representation of the text  in the file, which contains text in various languages other than English and requires additional character sets. \n",
    "\n",
    "With this knowledge, it's possible to print a clean list of the headers. Adding up the counter variable `column` will allow us to number the column headings."
   ]
  },
  {
   "cell_type": "code",
   "execution_count": 3,
   "metadata": {},
   "outputs": [
    {
     "name": "stdout",
     "output_type": "stream",
     "text": [
      "Header 1: Meme ID\n",
      "Header 2: Archived URL\n",
      "Header 3: Base Meme Name\n",
      "Header 4: Meme Page URL\n",
      "Header 5: MD5 Hash\n",
      "Header 6: File Size (In Bytes)\n",
      "Header 7: Alternate Text\n"
     ]
    }
   ],
   "source": [
    "column = 0\n",
    "with open('memegenerator.csv', 'r', encoding='utf-16') as memedata:\n",
    "    reader = csv.DictReader(memedata, delimiter='\\t')\n",
    "    for header in reader.fieldnames:\n",
    "        column = column + 1\n",
    "        print('Header '+str(column)+': '+header)"
   ]
  },
  {
   "cell_type": "markdown",
   "metadata": {},
   "source": [
    "So with seven headers, we can expect to find up to seven data values for each row. We know the file is encoded in `utf-16`, and we know that the field delimiters are Tabs. \n",
    "\n",
    "Finally, to make the data easier to use, let's create a data object that can be referred back to and easily referenced without using the `with open()` command each time. If you're doing this a lot, it would be a good idea to create a function to do this, but for the purposes of the this exploratory notebook, we will just read the contents of the csv into a list called `memeData`.\n",
    "\n",
    "Tip: python variables are case sensitive. So in the block below, `memeData` and `memedata` are separate variables."
   ]
  },
  {
   "cell_type": "code",
   "execution_count": 4,
   "metadata": {},
   "outputs": [
    {
     "name": "stdout",
     "output_type": "stream",
     "text": [
      "Total records in the memeData list: 57652\n"
     ]
    }
   ],
   "source": [
    "memeData = []\n",
    "\n",
    "with open('memegenerator.csv', 'r', encoding='utf-16') as memedata:\n",
    "    reader = csv.DictReader(memedata, delimiter='\\t')\n",
    "    for row in reader:\n",
    "        memeData.append(row)\n",
    "\n",
    "print('Total records in the memeData list:',len(memeData))"
   ]
  },
  {
   "cell_type": "markdown",
   "metadata": {},
   "source": [
    "The information about the set at [loc.gov](https://labs.loc.gov/experiments/webarchive-datasets/) indicates that the memegenerator set includes 57,652 records. That number matches the tally above, which gives a basic indicator that the data corresponds and the program is looping through it accurately. We've verified that we can successfully open and read through the file!"
   ]
  },
  {
   "cell_type": "markdown",
   "metadata": {},
   "source": [
    "## 2. Count and display information about the memes represented in the data set\n",
    "\n",
    "Now that we know more about the data format, including the column headers, we can loop through the rows to count them. We can also pull out the \"Meme ID\" value for each meme represented in the set, which gives a quick way to refer to individual records in the data set. \n",
    "\n",
    "To set this up, try just counting the first few rows first (below, we have stopped the loop with a break statement, which kicks us out of the loop if the counter value is greater than 2). This sample uses the counter variable `memeCount` to count the rows as the code loops through, and to print out the `Meme ID` and `Base Meme Name` field contents. For testing, this example limits our activity with a break loop, which escapes from the routine when the count exceeds 2."
   ]
  },
  {
   "cell_type": "code",
   "execution_count": 5,
   "metadata": {},
   "outputs": [
    {
     "name": "stdout",
     "output_type": "stream",
     "text": [
      "1 10509464 Spiderman Approves http://memegenerator.net/instance/10509464\n",
      "2 12285257 Alright Then Business Kid http://memegenerator.net/instance/12285257\n"
     ]
    }
   ],
   "source": [
    "memeCount = 0\n",
    "## instead of using the contextual with open() command as above, now just use memeData\n",
    "for record in memeData: \n",
    "    memeCount = memeCount + 1\n",
    "    if memeCount > 2:\n",
    "        break\n",
    "    print(memeCount, record['Meme ID'], record['Base Meme Name'], record['Meme Page URL'])"
   ]
  },
  {
   "cell_type": "markdown",
   "metadata": {},
   "source": [
    "You can try many different ways to experiment with filtering or controlling the data using other `if` statements. For example, could you count only the \"Advice Yoda Gives\" memes?\n",
    "\n",
    "```\n",
    "Hint:\n",
    "    if record['Base Meme Name'] == 'Advice Yoda Gives'\n",
    "```"
   ]
  },
  {
   "cell_type": "markdown",
   "metadata": {},
   "source": [
    "## 3. Count & visualize the types of memes in the dataset\n",
    "\n",
    "The `Base Meme Name` appears to offer a typology of the memes and refers to the \"source\" image that was used to create the meme. How many base meme images are in the set? And how many examples of each are there? We could use a spreadsheet program to answer these questions, but we can also do just a bit more data exploration to see how we can answer those questions using python. \n",
    "\n",
    "The next block uses `memeCount` again for testing. Below, the loop stops after the count exceeds 15, which gives enough sample output to analyze. "
   ]
  },
  {
   "cell_type": "code",
   "execution_count": 6,
   "metadata": {},
   "outputs": [
    {
     "name": "stdout",
     "output_type": "stream",
     "text": [
      "Here's the types and IDs from each row scanned:\n",
      "1 Spiderman Approves 10509464\n",
      "2 Alright Then Business Kid 12285257\n",
      "3 Archer 20612245\n",
      "4 Futurama Fry 20614628\n",
      "5 One Does Not Simply 24194267\n",
      "\n",
      "LIST OF TYPES\n",
      "List of types: ['Alright Then Business Kid', 'Archer', 'Futurama Fry', 'One Does Not Simply', 'Spiderman Approves']\n",
      "Found 5 types in 5 rows.\n",
      "\n",
      "DICTIONARY OF TYPES BY COUNT\n",
      "{'Spiderman Approves': 1, 'Alright Then Business Kid': 1, 'Archer': 1, 'Futurama Fry': 1, 'One Does Not Simply': 1}\n",
      "Spiderman Approves 1\n",
      "Alright Then Business Kid 1\n",
      "Archer 1\n",
      "Futurama Fry 1\n",
      "One Does Not Simply 1\n"
     ]
    }
   ],
   "source": [
    "## set up the counter again, and create a dictionary for the types\n",
    "memeCount = 0\n",
    "types = list()\n",
    "counts = dict()\n",
    "\n",
    "print('Here\\'s the types and IDs from each row scanned:')\n",
    "for record in memeData: \n",
    "    if memeCount > 4:\n",
    "        break\n",
    "    memeCount = memeCount + 1\n",
    "    memeID = record['Meme ID']\n",
    "    kind = record['Base Meme Name']\n",
    "    #uncomment the next row if you want to see the output as the loop goes through each row\n",
    "    print(memeCount,kind,memeID)\n",
    "\n",
    "    ## Using the counts dictionary, above, see if the type is already in the dictionary, \n",
    "    ## if not noted, add it, if it is noted, increase the count...\n",
    "    if kind not in counts:\n",
    "        counts[kind] = 1\n",
    "    else:\n",
    "        counts[kind] = counts[kind] + 1\n",
    "\n",
    "    ## Now add kind to the list of types\n",
    "    if kind in types:\n",
    "        continue\n",
    "    else:\n",
    "        types.append(kind)\n",
    "\n",
    "#sort the list\n",
    "types.sort()\n",
    "print('\\nLIST OF TYPES')\n",
    "print('List of types:',types)\n",
    "print('Found',len(types),'types in',memeCount,'rows.\\n')\n",
    "print('DICTIONARY OF TYPES BY COUNT')\n",
    "print(counts)\n",
    "for x in counts:\n",
    "    print(x, counts[x])"
   ]
  },
  {
   "cell_type": "markdown",
   "metadata": {},
   "source": [
    "The `types` list won't be necessary when the dictionary includes the whole set, so the code below uses a single dictionary (`typesDict`) to count the types of base memes and tally the occurences of each type."
   ]
  },
  {
   "cell_type": "code",
   "execution_count": 7,
   "metadata": {},
   "outputs": [
    {
     "name": "stdout",
     "output_type": "stream",
     "text": [
      "Items in the dictionary: 1914\n"
     ]
    }
   ],
   "source": [
    "## set up the counter again, and create a dictionary for all the types in the dataset\n",
    "memeCount = 0\n",
    "typesDict = dict()\n",
    "\n",
    "for record in memeData: \n",
    "    memeCount = memeCount + 1\n",
    "    memeID = record['Meme ID']\n",
    "    kind = record['Base Meme Name']\n",
    "\n",
    "    ## Using the typesDict dictionary, see if the type is already in the dictionary, \n",
    "    ## if not noted, add it, if it is noted, increase the count...\n",
    "    if kind not in typesDict:\n",
    "        typesDict[kind] = 1\n",
    "    else:\n",
    "        typesDict[kind] += 1\n",
    "\n",
    "print('Items in the dictionary:',len(typesDict))"
   ]
  },
  {
   "cell_type": "markdown",
   "metadata": {},
   "source": [
    "We have noted 1,914 separate indicators describing the base image used in the memes. This is the answer to the first question in this section. How many base meme images are in the set? **1,914**. So this set has nearly two thousand general types of memes. \n",
    "\n",
    "This information would be more interesting if we could chart the more frequent base meme types. To do that, let's use the pandas module to create a graph of the main types. \n",
    "\n",
    "There are a lot of base memes, so the dictionary called `larges` in the next block allows to split out those memes that only have 400 or more exemplars."
   ]
  },
  {
   "cell_type": "code",
   "execution_count": 8,
   "metadata": {},
   "outputs": [
    {
     "name": "stdout",
     "output_type": "stream",
     "text": [
      "This many base memes have more than four hundred instances: 11 <class 'dict'>\n",
      "{'Futurama Fry': 660, 'Insanity Wolf': 610, 'Philosoraptor': 530, 'Foul Bachelor Frog': 469, 'Joseph Ducreux': 414, 'Success Kid': 510, 'Y U No': 766, 'Socially Awkward Penguin': 446, 'Forever Alone': 414, 'Advice Yoda Gives': 419, 'The Most Interesting Man In The World': 507}\n"
     ]
    }
   ],
   "source": [
    "larges = dict()\n",
    "for key, val in typesDict.items():\n",
    "    if val >= 400:\n",
    "        larges[key] = val\n",
    "#print larges.value()\n",
    "print('This many base memes have more than four hundred instances:',len(larges), type(larges))\n",
    "print(larges)"
   ]
  },
  {
   "cell_type": "markdown",
   "metadata": {},
   "source": [
    "Now that the types have been identified and counted, it is possible to visualize the results. We can use the \"pandas\" library to create a bar chart as an initial example. This module allows for many more complex visualizations, which are explained in more detail in the [module's documentation](https://pandas.pydata.org/pandas-docs/stable/). "
   ]
  },
  {
   "cell_type": "code",
   "execution_count": 9,
   "metadata": {},
   "outputs": [
    {
     "data": {
      "image/png": "[encoded data removed]",
      "text/plain": [
       "<matplotlib.figure.Figure at 0x1d1b666e908>"
      ]
     },
     "metadata": {},
     "output_type": "display_data"
    }
   ],
   "source": [
    "## Use pandas to create a bar chart and sort from largest to smallest\n",
    "pd.Series(larges).sort_values()\n",
    "\n",
    "graphable = pd.Series(larges).sort_values(ascending=False)\n",
    "\n",
    "df = pd.DataFrame(graphable, columns=['Occurences'])\n",
    "\n",
    "ax = df.plot.bar(color='Orange').set_title('Most Common Meme Types in the Set')\n",
    "\n",
    "plt.show(ax)"
   ]
  },
  {
   "cell_type": "markdown",
   "metadata": {},
   "source": [
    "## 4. Retrieve and display meme images\n",
    "\n",
    "Now let's see how to actually view the meme images. Each record has an `Archived URL` field, which contains a link to a jpg file. We can check the link like this: "
   ]
  },
  {
   "cell_type": "code",
   "execution_count": 10,
   "metadata": {},
   "outputs": [
    {
     "name": "stdout",
     "output_type": "stream",
     "text": [
      "http://webarchive.loc.gov/all/19960101000000-20160901235959*/http://cdn.meme.am/instances/250x250/10698210.jpg\n"
     ]
    }
   ],
   "source": [
    "archivedURL = ''\n",
    "for row in memeData:\n",
    "    if row['Meme ID'] == '10698210':\n",
    "        archivedURL = row['Archived URL']\n",
    "print(archivedURL)"
   ]
  },
  {
   "cell_type": "markdown",
   "metadata": {},
   "source": [
    "Displaying the image is a bit more challenging since this URL does not directly reference the image; instead, the response to this URL is the archive's datepicker, which allows a user with a browser to choose the image based on the date when it was harvested. Our URLs do not include the specific capture date. \n",
    "\n",
    "We can get around this with a better understanding of the archived URL. The archived URL has four main parts:\n",
    "\n",
    "1. the web archive domain, webarchive.loc.gov\n",
    "1. the access scope, all\n",
    "1. the date range, 19960101000000-20160901235959*\n",
    "1. the original URL of the resource, http://cdn.meme.am/instances/250x250/10698210.jpg\n",
    "\n",
    "The full URL [http://webarchive.loc.gov/all/19960101000000-20160901235959*/http://cdn.meme.am/instances/250x250/10698210.jpg](http://webarchive.loc.gov/all/19960101000000-20160901235959*/http://cdn.meme.am/instances/250x250/10698210.jpg) takes you to a calendar page displaying all the captures for that URL over time.\n",
    "\n",
    "Using the understanding of the Wayback URL structure, we can either jump to the first or last capture by replacing the date range with a `0` or `2`, respectively. More about the Wayback Machine and the URL construction can be found here: [https://github.com/iipc/openwayback/wiki/OpenWayback-Replay-API](https://github.com/iipc/openwayback/wiki/OpenWayback-Replay-API).\n",
    "\n",
    "So let's pull a particular meme out of the data set and see if we can get it to display. Using the `archivedURL` variable set above, we can replace the date range with a `0` to get the first capture."
   ]
  },
  {
   "cell_type": "code",
   "execution_count": 11,
   "metadata": {},
   "outputs": [
    {
     "name": "stdout",
     "output_type": "stream",
     "text": [
      "http://webarchive.loc.gov/all/0/http://cdn.meme.am/instances/250x250/10698210.jpg\n"
     ]
    }
   ],
   "source": [
    "archivedURL = archivedURL.replace('19960101000000-20160901235959*', '0')\n",
    "print(archivedURL)"
   ]
  },
  {
   "cell_type": "markdown",
   "metadata": {},
   "source": [
    "And to actually display images, we'll follow the pattern laid out by the [LoC exploration demo for loc.gov](https://github.com/LibraryOfCongress/data-exploration/blob/master/loc.gov%20JSON%20API/LOC.gov%20JSON%20API.ipynb) and use `Image` from `IPython.display` library. "
   ]
  },
  {
   "cell_type": "code",
   "execution_count": 12,
   "metadata": {},
   "outputs": [
    {
     "data": {
      "text/html": [
       "<img src=\"http://webarchive.loc.gov/all/0/http://cdn.meme.am/instances/250x250/10698210.jpg\"/>"
      ],
      "text/plain": [
       "<IPython.core.display.Image object>"
      ]
     },
     "metadata": {},
     "output_type": "display_data"
    }
   ],
   "source": [
    "from IPython.display import Image, display\n",
    "\n",
    "display(Image(url=archivedURL, format='jpg'))"
   ]
  },
  {
   "cell_type": "markdown",
   "metadata": {},
   "source": [
    "Have fun exploring these memes in more detail! You can read more about how Library of Congress staff analyzed this data set in this post on The Signal blog: http://blogs.loc.gov/thesignal/2018/10/data-mining-memes-in-the-digital-culture-web-archive/. "
   ]
  },
  {
   "cell_type": "markdown",
   "metadata": {},
   "source": [
    "**Contributors include:**\n",
    "Jesse Johnston, Chase Dooley, Aly DesRochers"
   ]
  }
 ],
 "metadata": {
  "kernelspec": {
   "display_name": "Python 3",
   "language": "python",
   "name": "python3"
  },
  "language_info": {
   "codemirror_mode": {
    "name": "ipython",
    "version": 3
   },
   "file_extension": ".py",
   "mimetype": "text/x-python",
   "name": "python",
   "nbconvert_exporter": "python",
   "pygments_lexer": "ipython3",
   "version": "3.6.1"
  }
 },
 "nbformat": 4,
 "nbformat_minor": 2
}
