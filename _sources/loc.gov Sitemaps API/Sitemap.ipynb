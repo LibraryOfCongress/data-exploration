{
 "cells": [
  {
   "cell_type": "markdown",
   "metadata": {},
   "source": [
    "# What are Sitemaps?\n",
    "\n",
    "Google introduced the Sitemaps protocol so web developers can publish lists of links from across their sites. The basic premise is that some sites have a large number of dynamic pages that are only available through the use of forms and user entries. The Sitemap files contains URLs to these pages so that web crawlers can find them. Bing, Google, Yahoo and Ask now jointly support the Sitemaps protocol.\n",
    "\n",
    "You can see LOC's sitemap here: https://www.loc.gov/sitemap.xml\n",
    "Notice that the sitemap contains links to other sitemaps.\n",
    "\n",
    "## OK so what can I do with it?\n",
    "How about we find out how often the WWI sheet music collection is updated?:"
   ]
  },
  {
   "cell_type": "code",
   "execution_count": 8,
   "metadata": {},
   "outputs": [
    {
     "name": "stdout",
     "output_type": "stream",
     "text": [
      "getting the data from the site maps\n",
      "..............\n",
      "13000 items are updated weekly\n"
     ]
    }
   ],
   "source": [
    "import requests\n",
    "from xml.etree import ElementTree\n",
    "\n",
    "\n",
    "def getIndividualUrls(sitemap, count_map):\n",
    "    print('.', end='')\n",
    "    r = requests.get(sitemap)    \n",
    "    if r.status_code != 200:\n",
    "        print(\"\\nProblem getting url %s, response was %s\" % (sitemap, r.status_code))\n",
    "        return\n",
    "    \n",
    "    tree = ElementTree.fromstring(r.content)\n",
    "    if tree.tag == \"{http://www.sitemaps.org/schemas/sitemap/0.9}sitemapindex\":\n",
    "        for element in tree.iter(\"{http://www.sitemaps.org/schemas/sitemap/0.9}loc\"):\n",
    "            getIndividualUrls(element.text, count_map)\n",
    "    else:\n",
    "        for updated in tree.iter(\"{http://www.sitemaps.org/schemas/sitemap/0.9}changefreq\"):\n",
    "            count_map[updated.text] = count_map.get(updated.text, 0) + 1\n",
    "            \n",
    "count = dict()\n",
    "print(\"getting the data from the site maps:\")\n",
    "getIndividualUrls(\"http://www.loc.gov/collections/world-war-i-sheet-music/sitemap.xml\", count)\n",
    "print(\"\")\n",
    "\n",
    "for key,value in count.items():\n",
    "    print(\"%s items are updated %s\" % (value, key))\n",
    "    "
   ]
  },
  {
   "cell_type": "code",
   "execution_count": null,
   "metadata": {
    "collapsed": true
   },
   "outputs": [],
   "source": []
  }
 ],
 "metadata": {
  "kernelspec": {
   "display_name": "Python 3",
   "language": "python",
   "name": "python3"
  },
  "language_info": {
   "codemirror_mode": {
    "name": "ipython",
    "version": 3
   },
   "file_extension": ".py",
   "mimetype": "text/x-python",
   "name": "python",
   "nbconvert_exporter": "python",
   "pygments_lexer": "ipython3",
   "version": "3.6.1"
  }
 },
 "nbformat": 4,
 "nbformat_minor": 2
}
