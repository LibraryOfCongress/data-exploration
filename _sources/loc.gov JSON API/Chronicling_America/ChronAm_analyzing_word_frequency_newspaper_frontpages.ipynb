{
 "cells": [
  {
   "cell_type": "markdown",
   "metadata": {
    "id": "Li56LTTy-R7d"
   },
   "source": [
    "# Using Chronicling America to analyze word frequency in newspaper Front Pages\n",
    "\n",
    "\n",
    "Feel free to download this notebook and run with your own search query.\n",
    "\n",
    "\n",
    "---\n",
    "\n",
    "\n",
    "\n",
    "**Notebook Example:**\n",
    "\n",
    "> On August 18, 1920, Tennessee became the 36th state to ratify the 19th amendment which provided the final ratification necessary to add the amendment to the U.S. Constitution which gave women the right to vote. In this example, we look at the word frequency for the term “Suffrage” on the front pages of the newspapers on August 26, 1920 (when U.S. government officially certified state's ratification of the 19th amendment) and the day after (August 27, 1920).\n"
   ]
  },
  {
   "cell_type": "markdown",
   "metadata": {
    "id": "b2g2vYF5Dl8D"
   },
   "source": [
    "## Importing Modules [Required]\n",
    "The following imports are required for the scripts to run properly:\n",
    "\n",
    "---\n",
    "1. Run the following code below.\n",
    "    * It will import all the modules you need for this notebook.\n",
    "    * Do not change anything."
   ]
  },
  {
   "cell_type": "code",
   "execution_count": 26,
   "metadata": {
    "executionInfo": {
     "elapsed": 993,
     "status": "ok",
     "timestamp": 1712112068331,
     "user": {
      "displayName": "Mike Saelee",
      "userId": "09356275809855701196"
     },
     "user_tz": 240
    },
    "id": "cmWQhXNdLc8j"
   },
   "outputs": [],
   "source": [
    "import time\n",
    "import re\n",
    "import json\n",
    "from urllib.request import urlopen\n",
    "import requests\n",
    "import pandas as pd\n",
    "import pprint"
   ]
  },
  {
   "cell_type": "markdown",
   "metadata": {
    "id": "IryW_02CDuA2"
   },
   "source": [
    "## Perform a Query\n",
    "Note: we are able to search only front pages because we include the parameter \"front_pages_only=true\" in the API URL"
   ]
  },
  {
   "cell_type": "code",
   "execution_count": 2,
   "metadata": {
    "executionInfo": {
     "elapsed": 137,
     "status": "ok",
     "timestamp": 1712112070517,
     "user": {
      "displayName": "Mike Saelee",
      "userId": "09356275809855701196"
     },
     "user_tz": 240
    },
    "id": "JBKT2O-5Dtom"
   },
   "outputs": [],
   "source": [
    "# Perform Query - Paste your API Search Query URL into the searchURL\n",
    "searchURL = 'https://www.loc.gov/collections/chronicling-america/?dl=page&end_date=1920-08-27&front_pages_only=true&ops=AND&qs=suffrage&searchType=advanced&start_date=1920-08-26&fo=json'\n"
   ]
  },
  {
   "cell_type": "markdown",
   "metadata": {
    "id": "c-eM5fx6EO3z"
   },
   "source": [
    "## Run Function\n",
    "Functions and limits define what will be included and excluded in the search for downloads.\n",
    "- The code below will only download the newspaper pages from your search result. It will not download the whole newspaper issue.\n",
    "\n",
    "---\n",
    "1. Run the code below.\n",
    "    * Do not change anything.\n",
    "2. When the script is complete, it will tell you how many Newspaper Pages it found from your search.\n",
    "3. If you are satisfied with the amount of results, proceed to the next section to run the download.\n",
    "4. If you are not satisfied with the amount of results, go back and redo the API Search Query."
   ]
  },
  {
   "cell_type": "code",
   "execution_count": 4,
   "metadata": {
    "colab": {
     "base_uri": "https://localhost:8080/"
    },
    "executionInfo": {
     "elapsed": 22109,
     "status": "ok",
     "timestamp": 1712112095106,
     "user": {
      "displayName": "Mike Saelee",
      "userId": "09356275809855701196"
     },
     "user_tz": 240
    },
    "id": "EH_zFjdHEPVk",
    "outputId": "2f83f0da-3ab1-42f2-b72e-57b5db54c0ca"
   },
   "outputs": [
    {
     "name": "stdout",
     "output_type": "stream",
     "text": [
      "\n",
      "Success! Your API Search Query found 189 related newspaper pages. You may proceed\n"
     ]
    }
   ],
   "source": [
    "def get_item_ids(url, items=[], conditional='True'):\n",
    "    # Check that the query URL is not an item or resource link.\n",
    "    exclude = [\"loc.gov/item\",\"loc.gov/resource\"]\n",
    "    if any(string in url for string in exclude):\n",
    "        raise NameError('Your URL points directly to an item or '\n",
    "                        'resource page (you can tell because \"item\" '\n",
    "                        'or \"resource\" is in the URL). Please use '\n",
    "                        'a search URL instead. For example, instead '\n",
    "                        'of \\\"https://www.loc.gov/item/2009581123/\\\", '\n",
    "                        'try \\\"https://www.loc.gov/maps/?q=2009581123\\\". ')\n",
    "\n",
    "    # request pages of 100 results at a time\n",
    "    params = {\"fo\": \"json\", \"c\": 100, \"at\": \"results,pagination\"}\n",
    "    call = requests.get(url, params=params)\n",
    "    # Check that the API request was successful\n",
    "    if (call.status_code==200) & ('json' in call.headers.get('content-type')):\n",
    "        data = call.json()\n",
    "        results = data['results']\n",
    "        for result in results:\n",
    "            # Filter out anything that's a colletion or web page\n",
    "            filter_out = (\"collection\" in result.get(\"original_format\")) \\\n",
    "                    or (\"web page\" in result.get(\"original_format\")) \\\n",
    "                    or (eval(conditional)==False)\n",
    "            if not filter_out:\n",
    "                # Get the link to the item record\n",
    "                if result.get(\"id\"):\n",
    "                    item = result.get(\"id\")\n",
    "                    # Filter out links to Catalog or other platforms\n",
    "                    if item.startswith(\"http://www.loc.gov/resource\"):\n",
    "                      resource = item  # Assign item to resource\n",
    "                      items.append(resource)\n",
    "                    if item.startswith(\"http://www.loc.gov/item\"):\n",
    "                        items.append(item)\n",
    "        # Repeat the loop on the next page, unless we're on the last page.\n",
    "        if data[\"pagination\"][\"next\"] is not None:\n",
    "            next_url = data[\"pagination\"][\"next\"]\n",
    "            get_item_ids(next_url, items, conditional)\n",
    "\n",
    "        return items\n",
    "    else:\n",
    "            print('There was a problem. Try running the cell again, or check your searchURL.')\n",
    "\n",
    "# Generate a list of records found from performing a query and save these Item IDs. (Create ids_list based on items found in the searchURL result)\n",
    "ids_list = get_item_ids(searchURL, items=[])\n",
    "\n",
    "# Add 'fo=json' to the end of each row in ids_list (All individual ids from from the ids_list are now listed in JSON format in new_ids)\n",
    "ids_list_json = []\n",
    "for id in ids_list:\n",
    "  if not id.endswith('&fo=json'):\n",
    "    id += '&fo=json'\n",
    "  ids_list_json.append(id)\n",
    "ids = ids_list_json\n",
    "\n",
    "print('\\nSuccess! Your API Search Query found '+str(len(ids_list_json))+' related newspaper pages. You may proceed')"
   ]
  },
  {
   "cell_type": "markdown",
   "metadata": {
    "id": "E-pSbCJNEri4"
   },
   "source": [
    "## Get Basic Metadata/Information for your Query and Store It in a List\n",
    "\n",
    "If you need metadata/information for your downloads, run the script below\n",
    "The JSON parameters in the script can be changed per your requirements.\n",
    "\n",
    "---\n",
    "1. Run the code below after the previous step is completed.\n",
    "2. When the script is complete, a message will be shown on the bottom."
   ]
  },
  {
   "cell_type": "code",
   "execution_count": 5,
   "metadata": {
    "colab": {
     "base_uri": "https://localhost:8080/"
    },
    "executionInfo": {
     "elapsed": 355990,
     "status": "ok",
     "timestamp": 1712112454213,
     "user": {
      "displayName": "Mike Saelee",
      "userId": "09356275809855701196"
     },
     "user_tz": 240
    },
    "id": "ZkXEpC0TE7Ep",
    "outputId": "991f363e-1d04-4ee7-e295-19e0b98f5508"
   },
   "outputs": [
    {
     "name": "stdout",
     "output_type": "stream",
     "text": [
      "\n",
      "Ready to proceed to the next step!\n"
     ]
    }
   ],
   "source": [
    "# Create a list of dictionaries to store the item metadata\n",
    "item_metadata_list = []\n",
    "\n",
    "# Iterate over the list of item IDs\n",
    "for item_id in ids_list_json:\n",
    "  item_response = requests.get(item_id)\n",
    "\n",
    "  # Check if the API call was successful and Parse the JSON response\n",
    "  if item_response.status_code == 200:\n",
    "    # Iterate over the ids_list_json list and extract the relevant metadata from each dictionary.\n",
    "    item_data = item_response.json()\n",
    "    if 'location_city' not in item_data['item']:\n",
    "      continue\n",
    "\n",
    "    # Extract the relevant item metadata\n",
    "    Newspaper_Title = item_data['item']['newspaper_title']\n",
    "    Issue_Date = item_data['item']['date']\n",
    "    Page = item_data['pagination']['current']\n",
    "    State = item_data['item']['location_state']\n",
    "    City = item_data['item']['location_city']\n",
    "    LCCN = item_data['item']['number_lccn']\n",
    "    Contributor = item_data['item']['contributor_names']\n",
    "    Batch = item_data['item']['batch']\n",
    "    pdf = item_data['resource']['pdf']\n",
    "\n",
    "    # Add the item metadata to the list\n",
    "    item_metadata_list.append({\n",
    "        'Newspaper Title': Newspaper_Title,\n",
    "        'Issue Date': Issue_Date,\n",
    "        'Page Number': Page,\n",
    "        'LCCN': LCCN,\n",
    "        'City': City,\n",
    "        'State': State,\n",
    "        'Contributor': Contributor,\n",
    "        'Batch': Batch,\n",
    "        'PDF Link': pdf,\n",
    "  })\n",
    "\n",
    "# Change date format to MM-DD-YYYY\n",
    "for item in item_metadata_list:\n",
    "  item['Issue Date'] = pd.to_datetime(item['Issue Date']).strftime('%m-%d-%Y')\n",
    "\n",
    "# Create a Pandas DataFrame from the list of dictionaries\n",
    "df = pd.DataFrame(item_metadata_list)\n",
    "\n",
    "print('\\nReady to proceed to the next step!')"
   ]
  },
  {
   "cell_type": "markdown",
   "metadata": {
    "id": "b-jd7tu-EZoh"
   },
   "source": [
    "## Export Metadata of Search Results to a CSV File\n",
    "\n",
    "---\n",
    "1. Edit your save location and the filename below.\n",
    "2. Then run the code.\n"
   ]
  },
  {
   "cell_type": "code",
   "execution_count": 6,
   "metadata": {
    "executionInfo": {
     "elapsed": 128,
     "status": "ok",
     "timestamp": 1712112599741,
     "user": {
      "displayName": "Mike Saelee",
      "userId": "09356275809855701196"
     },
     "user_tz": 240
    },
    "id": "rTM9CWAJXsKC"
   },
   "outputs": [],
   "source": [
    "# Add your Local saveTo Location (e.g. C:/Downloads/)\n",
    "saveTo = 'output'\n",
    "\n",
    "# Set File Name. Make sure to rename the file so it doesn't overwrite previous!\n",
    "filename = 'MetadataFileName'"
   ]
  },
  {
   "cell_type": "markdown",
   "metadata": {
    "id": "-hoVtEK6XxKT"
   },
   "source": [
    "Press Run to save your file and print out a dataframe preview example below:\n",
    "\n",
    "\n"
   ]
  },
  {
   "cell_type": "code",
   "execution_count": 25,
   "metadata": {
    "colab": {
     "base_uri": "https://localhost:8080/",
     "height": 476
    },
    "executionInfo": {
     "elapsed": 160,
     "status": "ok",
     "timestamp": 1712112601682,
     "user": {
      "displayName": "Mike Saelee",
      "userId": "09356275809855701196"
     },
     "user_tz": 240
    },
    "id": "QdTiy4pmoKbh",
    "outputId": "d8756d4e-a369-454b-82ef-14846c4409de"
   },
   "outputs": [
    {
     "name": "stdout",
     "output_type": "stream",
     "text": [
      "\n",
      "Success! Please check your saveTo location to see the saved csv file. See Preview Below:\n",
      "\n"
     ]
    },
    {
     "data": {
      "text/html": [
       "<div>\n",
       "<style scoped>\n",
       "    .dataframe tbody tr th:only-of-type {\n",
       "        vertical-align: middle;\n",
       "    }\n",
       "\n",
       "    .dataframe tbody tr th {\n",
       "        vertical-align: top;\n",
       "    }\n",
       "\n",
       "    .dataframe thead th {\n",
       "        text-align: right;\n",
       "    }\n",
       "</style>\n",
       "<table border=\"1\" class=\"dataframe\">\n",
       "  <thead>\n",
       "    <tr style=\"text-align: right;\">\n",
       "      <th></th>\n",
       "      <th>Newspaper Title</th>\n",
       "      <th>Issue Date</th>\n",
       "      <th>Page Number</th>\n",
       "      <th>LCCN</th>\n",
       "      <th>City</th>\n",
       "      <th>State</th>\n",
       "      <th>Contributor</th>\n",
       "      <th>Batch</th>\n",
       "      <th>PDF Link</th>\n",
       "    </tr>\n",
       "  </thead>\n",
       "  <tbody>\n",
       "    <tr>\n",
       "      <th>0</th>\n",
       "      <td>[The American issue]</td>\n",
       "      <td>08-27-1920</td>\n",
       "      <td>1</td>\n",
       "      <td>[sn2008060406]</td>\n",
       "      <td>[westerville]</td>\n",
       "      <td>[ohio]</td>\n",
       "      <td>[University of Illinois at Urbana-Champaign Li...</td>\n",
       "      <td>[iune_bismuth_ver01]</td>\n",
       "      <td>https://tile.loc.gov/storage-services/service/...</td>\n",
       "    </tr>\n",
       "    <tr>\n",
       "      <th>1</th>\n",
       "      <td>[The Washington herald.]</td>\n",
       "      <td>08-27-1920</td>\n",
       "      <td>1</td>\n",
       "      <td>[sn83045433]</td>\n",
       "      <td>[washington]</td>\n",
       "      <td>[district of columbia]</td>\n",
       "      <td>[Library of Congress, Washington, DC]</td>\n",
       "      <td>[dlc_frenchbulldog_ver04]</td>\n",
       "      <td>https://tile.loc.gov/storage-services/service/...</td>\n",
       "    </tr>\n",
       "    <tr>\n",
       "      <th>2</th>\n",
       "      <td>[The Chattanooga news.]</td>\n",
       "      <td>08-26-1920</td>\n",
       "      <td>1</td>\n",
       "      <td>[sn85038531]</td>\n",
       "      <td>[chattanooga]</td>\n",
       "      <td>[tennessee]</td>\n",
       "      <td>[University of Tennessee]</td>\n",
       "      <td>[tu_anita_ver01]</td>\n",
       "      <td>https://tile.loc.gov/storage-services/service/...</td>\n",
       "    </tr>\n",
       "    <tr>\n",
       "      <th>3</th>\n",
       "      <td>[The review]</td>\n",
       "      <td>08-26-1920</td>\n",
       "      <td>1</td>\n",
       "      <td>[sn91068415]</td>\n",
       "      <td>[high point]</td>\n",
       "      <td>[north carolina]</td>\n",
       "      <td>[University of North Carolina at Chapel Hill L...</td>\n",
       "      <td>[ncu_elk_ver01]</td>\n",
       "      <td>https://tile.loc.gov/storage-services/service/...</td>\n",
       "    </tr>\n",
       "    <tr>\n",
       "      <th>4</th>\n",
       "      <td>[Washington standard]</td>\n",
       "      <td>08-27-1920</td>\n",
       "      <td>1</td>\n",
       "      <td>[sn84022770]</td>\n",
       "      <td>[olympia]</td>\n",
       "      <td>[washington]</td>\n",
       "      <td>[Washington State Library; Olympia, WA]</td>\n",
       "      <td>[wa_kittitas_ver01]</td>\n",
       "      <td>https://tile.loc.gov/storage-services/service/...</td>\n",
       "    </tr>\n",
       "    <tr>\n",
       "      <th>...</th>\n",
       "      <td>...</td>\n",
       "      <td>...</td>\n",
       "      <td>...</td>\n",
       "      <td>...</td>\n",
       "      <td>...</td>\n",
       "      <td>...</td>\n",
       "      <td>...</td>\n",
       "      <td>...</td>\n",
       "      <td>...</td>\n",
       "    </tr>\n",
       "    <tr>\n",
       "      <th>184</th>\n",
       "      <td>[The Lambertville record]</td>\n",
       "      <td>08-27-1920</td>\n",
       "      <td>1</td>\n",
       "      <td>[sn84026089]</td>\n",
       "      <td>[lambertville]</td>\n",
       "      <td>[new jersey]</td>\n",
       "      <td>[Rutgers University Libraries]</td>\n",
       "      <td>[njr_beachhaven_ver01]</td>\n",
       "      <td>https://tile.loc.gov/storage-services/service/...</td>\n",
       "    </tr>\n",
       "    <tr>\n",
       "      <th>185</th>\n",
       "      <td>[Eagle River review]</td>\n",
       "      <td>08-27-1920</td>\n",
       "      <td>1</td>\n",
       "      <td>[sn85040614]</td>\n",
       "      <td>[eagle river]</td>\n",
       "      <td>[wisconsin]</td>\n",
       "      <td>[Wisconsin Historical Society]</td>\n",
       "      <td>[whi_bobidosh_ver01]</td>\n",
       "      <td>https://tile.loc.gov/storage-services/service/...</td>\n",
       "    </tr>\n",
       "    <tr>\n",
       "      <th>186</th>\n",
       "      <td>[New Mexico state record.]</td>\n",
       "      <td>08-27-1920</td>\n",
       "      <td>1</td>\n",
       "      <td>[sn93061701]</td>\n",
       "      <td>[santa fe.]</td>\n",
       "      <td>[new mexico]</td>\n",
       "      <td>[University of New Mexico]</td>\n",
       "      <td>[nmu_austen_ver01]</td>\n",
       "      <td>https://tile.loc.gov/storage-services/service/...</td>\n",
       "    </tr>\n",
       "    <tr>\n",
       "      <th>187</th>\n",
       "      <td>[Little Falls herald]</td>\n",
       "      <td>08-27-1920</td>\n",
       "      <td>1</td>\n",
       "      <td>[sn89064515]</td>\n",
       "      <td>[little falls]</td>\n",
       "      <td>[minnesota]</td>\n",
       "      <td>[Minnesota Historical Society; Saint Paul, MN]</td>\n",
       "      <td>[mnhi_peugeot_ver01]</td>\n",
       "      <td>https://tile.loc.gov/storage-services/service/...</td>\n",
       "    </tr>\n",
       "    <tr>\n",
       "      <th>188</th>\n",
       "      <td>[Milford chronicle]</td>\n",
       "      <td>08-27-1920</td>\n",
       "      <td>1</td>\n",
       "      <td>[sn87062224]</td>\n",
       "      <td>[milford]</td>\n",
       "      <td>[delaware]</td>\n",
       "      <td>[University of Delaware Library, Newark, DE]</td>\n",
       "      <td>[deu_deadpool_ver01]</td>\n",
       "      <td>https://tile.loc.gov/storage-services/service/...</td>\n",
       "    </tr>\n",
       "  </tbody>\n",
       "</table>\n",
       "<p>189 rows × 9 columns</p>\n",
       "</div>"
      ],
      "text/plain": [
       "                Newspaper Title  Issue Date  Page Number            LCCN  \\\n",
       "0          [The American issue]  08-27-1920            1  [sn2008060406]   \n",
       "1      [The Washington herald.]  08-27-1920            1    [sn83045433]   \n",
       "2       [The Chattanooga news.]  08-26-1920            1    [sn85038531]   \n",
       "3                  [The review]  08-26-1920            1    [sn91068415]   \n",
       "4         [Washington standard]  08-27-1920            1    [sn84022770]   \n",
       "..                          ...         ...          ...             ...   \n",
       "184   [The Lambertville record]  08-27-1920            1    [sn84026089]   \n",
       "185        [Eagle River review]  08-27-1920            1    [sn85040614]   \n",
       "186  [New Mexico state record.]  08-27-1920            1    [sn93061701]   \n",
       "187       [Little Falls herald]  08-27-1920            1    [sn89064515]   \n",
       "188         [Milford chronicle]  08-27-1920            1    [sn87062224]   \n",
       "\n",
       "               City                   State  \\\n",
       "0     [westerville]                  [ohio]   \n",
       "1      [washington]  [district of columbia]   \n",
       "2     [chattanooga]             [tennessee]   \n",
       "3      [high point]        [north carolina]   \n",
       "4         [olympia]            [washington]   \n",
       "..              ...                     ...   \n",
       "184  [lambertville]            [new jersey]   \n",
       "185   [eagle river]             [wisconsin]   \n",
       "186     [santa fe.]            [new mexico]   \n",
       "187  [little falls]             [minnesota]   \n",
       "188       [milford]              [delaware]   \n",
       "\n",
       "                                           Contributor  \\\n",
       "0    [University of Illinois at Urbana-Champaign Li...   \n",
       "1                [Library of Congress, Washington, DC]   \n",
       "2                            [University of Tennessee]   \n",
       "3    [University of North Carolina at Chapel Hill L...   \n",
       "4              [Washington State Library; Olympia, WA]   \n",
       "..                                                 ...   \n",
       "184                     [Rutgers University Libraries]   \n",
       "185                     [Wisconsin Historical Society]   \n",
       "186                         [University of New Mexico]   \n",
       "187     [Minnesota Historical Society; Saint Paul, MN]   \n",
       "188       [University of Delaware Library, Newark, DE]   \n",
       "\n",
       "                         Batch  \\\n",
       "0         [iune_bismuth_ver01]   \n",
       "1    [dlc_frenchbulldog_ver04]   \n",
       "2             [tu_anita_ver01]   \n",
       "3              [ncu_elk_ver01]   \n",
       "4          [wa_kittitas_ver01]   \n",
       "..                         ...   \n",
       "184     [njr_beachhaven_ver01]   \n",
       "185       [whi_bobidosh_ver01]   \n",
       "186         [nmu_austen_ver01]   \n",
       "187       [mnhi_peugeot_ver01]   \n",
       "188       [deu_deadpool_ver01]   \n",
       "\n",
       "                                              PDF Link  \n",
       "0    https://tile.loc.gov/storage-services/service/...  \n",
       "1    https://tile.loc.gov/storage-services/service/...  \n",
       "2    https://tile.loc.gov/storage-services/service/...  \n",
       "3    https://tile.loc.gov/storage-services/service/...  \n",
       "4    https://tile.loc.gov/storage-services/service/...  \n",
       "..                                                 ...  \n",
       "184  https://tile.loc.gov/storage-services/service/...  \n",
       "185  https://tile.loc.gov/storage-services/service/...  \n",
       "186  https://tile.loc.gov/storage-services/service/...  \n",
       "187  https://tile.loc.gov/storage-services/service/...  \n",
       "188  https://tile.loc.gov/storage-services/service/...  \n",
       "\n",
       "[189 rows x 9 columns]"
      ]
     },
     "execution_count": 25,
     "metadata": {},
     "output_type": "execute_result"
    }
   ],
   "source": [
    "print('\\nSuccess! Please check your saveTo location to see the saved csv file. See Preview Below:\\n')\n",
    "\n",
    "metadata_dataframe = pd.DataFrame(item_metadata_list)\n",
    "metadata_dataframe.to_csv(saveTo + '/' + filename + '.csv')\n",
    "metadata_dataframe"
   ]
  },
  {
   "cell_type": "markdown",
   "metadata": {
    "id": "vQ3f3cvnvCuO"
   },
   "source": [
    "From data we've collected from newspapers found in Chronicling America:\n",
    "\n",
    "> During August 26, 1920 to August 27, 1920, the state of Tennessee had 14 different front pages with the term \"Suffrage\" when the U.S. Government certified the state's ratification of the 19th Amendment on August 26, 1920. These 14 front pages came from 12 different Tennessee newspaper titles. This result is almost double every other state."
   ]
  },
  {
   "cell_type": "code",
   "execution_count": null,
   "metadata": {},
   "outputs": [],
   "source": []
  }
 ],
 "metadata": {
  "colab": {
   "authorship_tag": "ABX9TyO3htrHtZfUYwtgyKI4kaf5",
   "provenance": []
  },
  "kernelspec": {
   "display_name": "Python 3",
   "language": "python",
   "name": "python3"
  },
  "language_info": {
   "codemirror_mode": {
    "name": "ipython",
    "version": 3
   },
   "file_extension": ".py",
   "mimetype": "text/x-python",
   "name": "python",
   "nbconvert_exporter": "python",
   "pygments_lexer": "ipython3",
   "version": "3.8.5"
  }
 },
 "nbformat": 4,
 "nbformat_minor": 1
}
