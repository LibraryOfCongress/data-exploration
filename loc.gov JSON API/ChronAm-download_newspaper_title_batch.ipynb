{
 "cells": [
  {
   "cell_type": "markdown",
   "metadata": {
    "id": "ZSQ6LhmqW2-r"
   },
   "source": [
    "# Downloading Newspaper Titles and Batches from Chronicling America"
   ]
  },
  {
   "cell_type": "markdown",
   "metadata": {
    "id": "LjoiwiOAXSz9"
   },
   "source": [
    "Downloading newspaper titles and batches can be achieved with similar methods. The only difference is in how the API Search Query URL is constructed.\n",
    "\n",
    "In this notebook, we will Query and Download all newspaper issues found in Chronicling America for the *Daily Critic* (LCCN: sn8201440) from 1880-1881:\n",
    "\n",
    "    https://www.loc.gov/collections/chronicling-america/?fa=number_lccn:sn82014402&start_date=1880-01-01&end_date=1881-12-31&fo=json"
   ]
  },
  {
   "cell_type": "markdown",
   "metadata": {
    "id": "cJ61A6MYW8C8"
   },
   "source": [
    "## Importing Modules [Required]\n",
    "The following imports are required for the scripts to run properly:\n",
    "\n",
    "---\n",
    "1. Run the following code below.\n",
    "    * It will import all the modules you need for this notebook.\n",
    "    * Do not change anything."
   ]
  },
  {
   "cell_type": "code",
   "execution_count": 1,
   "metadata": {
    "id": "zfDoaVRQW99p"
   },
   "outputs": [],
   "source": [
    "import requests\n",
    "import os\n",
    "import pandas as pd\n",
    "import time\n",
    "import os\n",
    "import re"
   ]
  },
  {
   "cell_type": "markdown",
   "metadata": {
    "id": "zB4GuvljXtBJ"
   },
   "source": [
    "## Run Functions and Limits [Required]\n",
    "Functions and limits define what will be included and excluded in the search for downloads.\n",
    "\n",
    "---\n",
    "1. Run the code below.\n",
    "    * Do not change anything.\n",
    "2. When the script is complete, it will tell you how many Newspaper Pages it found from your search.\n",
    "3. If you are satisfied with the amount of results, proceed to the next section to run the download.\n",
    "4. If you are not satisfied with the amount of results, go back and redo the API Search Query."
   ]
  },
  {
   "cell_type": "code",
   "execution_count": 2,
   "metadata": {
    "id": "L_YRxV6XXtcA"
   },
   "outputs": [],
   "source": [
    "'''Run P1 search and get a list of results.'''\n",
    "def get_item_ids(url, items=[], conditional='True'):\n",
    "    # Check that the query URL is not an item or resource link.\n",
    "    exclude = [\"loc.gov/item\",\"loc.gov/resource\"]\n",
    "    if any(string in url for string in exclude):\n",
    "        raise NameError('Your URL points directly to an item or '\n",
    "                        'resource page (you can tell because \"item\" '\n",
    "                        'or \"resource\" is in the URL). Please use '\n",
    "                        'a search URL instead. For example, instead '\n",
    "                        'of \\\"https://www.loc.gov/item/2009581123/\\\", '\n",
    "                        'try \\\"https://www.loc.gov/maps/?q=2009581123\\\". ')\n",
    "\n",
    "    # request pages of 100 results at a time\n",
    "    params = {\"fo\": \"json\", \"c\": 100, \"at\": \"results,pagination\"}\n",
    "    call = requests.get(url, params=params)\n",
    "    # Check that the API request was successful\n",
    "    if (call.status_code==200) & ('json' in call.headers.get('content-type')):\n",
    "        data = call.json()\n",
    "        results = data['results']\n",
    "        for result in results:\n",
    "            # Filter out anything that's a colletion or web page\n",
    "            filter_out = (\"collection\" in result.get(\"original_format\")) \\\n",
    "                    or (\"web page\" in result.get(\"original_format\")) \\\n",
    "                    or (eval(conditional)==False)\n",
    "            if not filter_out:\n",
    "                # Get the link to the item record\n",
    "                if result.get(\"id\"):\n",
    "                    item = result.get(\"id\")\n",
    "                    # Filter out links to Catalog or other platforms\n",
    "                    if item.startswith(\"http://www.loc.gov/item\"):\n",
    "                        items.append(item)\n",
    "        # Repeat the loop on the next page, unless we're on the last page.\n",
    "        if data[\"pagination\"][\"next\"] is not None:\n",
    "            next_url = data[\"pagination\"][\"next\"]\n",
    "            get_item_ids(next_url, items, conditional)\n",
    "\n",
    "        return items\n",
    "    else:\n",
    "            print('There was a problem. Try running the cell again, or check your searchURL.')\n",
    "\n",
    "\n",
    "'''Get a list of image URLs from those results\n",
    "If an item has 2+ copies/pages, all copies/pages\n",
    "are included. User selects file format (e.g., tiff).'''\n",
    "def get_image_urls(id_list, mimetype, items = []):\n",
    "    print('Generating a list of files to download . . . ')\n",
    "    #Standardize any spelling varieties supplied by user.\n",
    "    if mimetype == 'tif':\n",
    "        mimetype = 'tiff'\n",
    "    if mimetype == 'jpg':\n",
    "        mimetype = 'jpeg'\n",
    "    params = {\"fo\": \"json\"}\n",
    "    for item in id_list:\n",
    "        call = requests.get(item, params=params)\n",
    "        if call.status_code == 200:\n",
    "            data = call.json()\n",
    "        elif call.status_code == 429:\n",
    "            print('Too many requests to API. Stopping early.')\n",
    "            break\n",
    "        else:\n",
    "            try:\n",
    "                time.sleep(15)\n",
    "                call = requests.get(item, params=params)\n",
    "                data = call.json()\n",
    "            except:\n",
    "                print('Skipping: '+ item)\n",
    "                continue\n",
    "        resources = data['resources']\n",
    "        for resource_index,resource in enumerate(resources):\n",
    "            resource_url = data['item']['resources'][resource_index]['url']\n",
    "            for index,file in enumerate(resource['files']):\n",
    "                image_df = pd.DataFrame(file)\n",
    "\n",
    "                if mimetype == 'pdf':\n",
    "                    full_mimetype = 'application/' + mimetype\n",
    "                else:\n",
    "                    full_mimetype = 'image/' + mimetype\n",
    "                selected_format_df = image_df[\n",
    "                    image_df['mimetype']==full_mimetype\n",
    "                ]\n",
    "                try:\n",
    "                    last_selected_format = selected_format_df.iloc[-1]['url']\n",
    "                    file_info = {}\n",
    "                    file_info['image_url'] = last_selected_format\n",
    "                    file_info['item_id'] = item\n",
    "                    items.append(file_info)\n",
    "                except:\n",
    "                    print('Note: No ' + mimetype +\n",
    "                          ' files found in '+\n",
    "                          resource_url + '?sp=' + str(index+1))\n",
    "        #Pause between requests\n",
    "        time.sleep(2)\n",
    "    print('\\nFound '+str(len(id_list))+' items')\n",
    "    print('Found '+str(len(items))+' files to download')\n",
    "    return items\n"
   ]
  },
  {
   "cell_type": "markdown",
   "metadata": {
    "id": "TETohHUGXBUN"
   },
   "source": [
    "## Define your API Search Query and Generating Download List\n",
    "After running the *Importing Modules* code (above),\n",
    "1. Paste your Search Query URL below, into the `searchURL = '{URL}'`\n",
    "2. Edit the file type you wish to download in `fileExtension = '{filetype}'`. PDF works best. But options Include:\n",
    "     * pdf\n",
    "     * jp2\n",
    "     * Note: If you wish to download the jpg version of the files, we recommend you follow the IIIF example at: https://github.com/LibraryOfCongress/data-exploration/tree/master/loc.gov%20IIIF%20API.\n",
    "3. Add the location where you want your files saved to in \"saveTo\"\n",
    "4. When ready, Run the code. This will provide a list of items to be downloaded."
   ]
  },
  {
   "cell_type": "code",
   "execution_count": 3,
   "metadata": {
    "colab": {
     "base_uri": "https://localhost:8080/"
    },
    "executionInfo": {
     "elapsed": 50342,
     "status": "ok",
     "timestamp": 1711557694020,
     "user": {
      "displayName": "Mike Saelee",
      "userId": "09356275809855701196"
     },
     "user_tz": 240
    },
    "id": "8fo1cMImXEc9",
    "outputId": "d51a7af7-f055-4a9e-b558-33fbd54bd212"
   },
   "outputs": [
    {
     "name": "stdout",
     "output_type": "stream",
     "text": [
      "Generating a list of files to download . . . \n",
      "\n",
      "Found 16 items\n",
      "Found 64 files to download\n",
      "\n",
      "List of files to be downloaded:\n",
      "https://tile.loc.gov/storage-services/service/ndnp/dlc/batch_dlc_chester_ver02/data/sn82014402/00211102986/1880052201/0006.pdf\n",
      "https://tile.loc.gov/storage-services/service/ndnp/dlc/batch_dlc_chester_ver02/data/sn82014402/00211102986/1880052201/0007.pdf\n",
      "https://tile.loc.gov/storage-services/service/ndnp/dlc/batch_dlc_chester_ver02/data/sn82014402/00211102986/1880052201/0008.pdf\n",
      "https://tile.loc.gov/storage-services/service/ndnp/dlc/batch_dlc_chester_ver02/data/sn82014402/00211102986/1880052201/0009.pdf\n",
      "https://tile.loc.gov/storage-services/service/ndnp/dlc/batch_dlc_chester_ver02/data/sn82014402/00211102986/1880052201/0010.pdf\n",
      "https://tile.loc.gov/storage-services/service/ndnp/dlc/batch_dlc_chester_ver02/data/sn82014402/00211102986/1880052201/0011.pdf\n",
      "https://tile.loc.gov/storage-services/service/ndnp/dlc/batch_dlc_chester_ver02/data/sn82014402/00211102986/1880052201/0012.pdf\n",
      "https://tile.loc.gov/storage-services/service/ndnp/dlc/batch_dlc_chester_ver02/data/sn82014402/00211102986/1880052201/0013.pdf\n",
      "https://tile.loc.gov/storage-services/service/ndnp/dlc/batch_dlc_chester_ver02/data/sn82014402/00211102986/1880062801/0015.pdf\n",
      "https://tile.loc.gov/storage-services/service/ndnp/dlc/batch_dlc_chester_ver02/data/sn82014402/00211102986/1880062801/0016.pdf\n",
      "https://tile.loc.gov/storage-services/service/ndnp/dlc/batch_dlc_chester_ver02/data/sn82014402/00211102986/1880062801/0018.pdf\n",
      "https://tile.loc.gov/storage-services/service/ndnp/dlc/batch_dlc_chester_ver02/data/sn82014402/00211102986/1880062801/0019.pdf\n",
      "https://tile.loc.gov/storage-services/service/ndnp/dlc/batch_dlc_chester_ver02/data/sn82014402/00211102986/1880070301/0021.pdf\n",
      "https://tile.loc.gov/storage-services/service/ndnp/dlc/batch_dlc_chester_ver02/data/sn82014402/00211102986/1880070301/0023.pdf\n",
      "https://tile.loc.gov/storage-services/service/ndnp/dlc/batch_dlc_chester_ver02/data/sn82014402/00211102986/1880070301/0024.pdf\n",
      "https://tile.loc.gov/storage-services/service/ndnp/dlc/batch_dlc_chester_ver02/data/sn82014402/00211102986/1880070301/0025.pdf\n",
      "https://tile.loc.gov/storage-services/service/ndnp/dlc/batch_dlc_chester_ver02/data/sn82014402/00211102986/1880082801/0027.pdf\n",
      "https://tile.loc.gov/storage-services/service/ndnp/dlc/batch_dlc_chester_ver02/data/sn82014402/00211102986/1880082801/0029.pdf\n",
      "https://tile.loc.gov/storage-services/service/ndnp/dlc/batch_dlc_chester_ver02/data/sn82014402/00211102986/1880082801/0030.pdf\n",
      "https://tile.loc.gov/storage-services/service/ndnp/dlc/batch_dlc_chester_ver02/data/sn82014402/00211102986/1880082801/0031.pdf\n",
      "https://tile.loc.gov/storage-services/service/ndnp/dlc/batch_dlc_chester_ver02/data/sn82014402/00211102986/1880083101/0033.pdf\n",
      "https://tile.loc.gov/storage-services/service/ndnp/dlc/batch_dlc_chester_ver02/data/sn82014402/00211102986/1880083101/0034.pdf\n",
      "https://tile.loc.gov/storage-services/service/ndnp/dlc/batch_dlc_chester_ver02/data/sn82014402/00211102986/1880083101/0036.pdf\n",
      "https://tile.loc.gov/storage-services/service/ndnp/dlc/batch_dlc_chester_ver02/data/sn82014402/00211102986/1880083101/0037.pdf\n",
      "https://tile.loc.gov/storage-services/service/ndnp/dlc/batch_dlc_chester_ver02/data/sn82014402/00211102822/1881060101/0005.pdf\n",
      "https://tile.loc.gov/storage-services/service/ndnp/dlc/batch_dlc_chester_ver02/data/sn82014402/00211102822/1881060101/0006.pdf\n",
      "https://tile.loc.gov/storage-services/service/ndnp/dlc/batch_dlc_chester_ver02/data/sn82014402/00211102822/1881060101/0007.pdf\n",
      "https://tile.loc.gov/storage-services/service/ndnp/dlc/batch_dlc_chester_ver02/data/sn82014402/00211102822/1881060101/0008.pdf\n",
      "https://tile.loc.gov/storage-services/service/ndnp/dlc/batch_dlc_chester_ver02/data/sn82014402/00211102822/1881060201/0009.pdf\n",
      "https://tile.loc.gov/storage-services/service/ndnp/dlc/batch_dlc_chester_ver02/data/sn82014402/00211102822/1881060201/0010.pdf\n",
      "https://tile.loc.gov/storage-services/service/ndnp/dlc/batch_dlc_chester_ver02/data/sn82014402/00211102822/1881060201/0011.pdf\n",
      "https://tile.loc.gov/storage-services/service/ndnp/dlc/batch_dlc_chester_ver02/data/sn82014402/00211102822/1881060201/0012.pdf\n",
      "https://tile.loc.gov/storage-services/service/ndnp/dlc/batch_dlc_chester_ver02/data/sn82014402/00211102822/1881060301/0013.pdf\n",
      "https://tile.loc.gov/storage-services/service/ndnp/dlc/batch_dlc_chester_ver02/data/sn82014402/00211102822/1881060301/0014.pdf\n",
      "https://tile.loc.gov/storage-services/service/ndnp/dlc/batch_dlc_chester_ver02/data/sn82014402/00211102822/1881060301/0015.pdf\n",
      "https://tile.loc.gov/storage-services/service/ndnp/dlc/batch_dlc_chester_ver02/data/sn82014402/00211102822/1881060301/0016.pdf\n",
      "https://tile.loc.gov/storage-services/service/ndnp/dlc/batch_dlc_chester_ver02/data/sn82014402/00211102822/1881060401/0017.pdf\n",
      "https://tile.loc.gov/storage-services/service/ndnp/dlc/batch_dlc_chester_ver02/data/sn82014402/00211102822/1881060401/0018.pdf\n",
      "https://tile.loc.gov/storage-services/service/ndnp/dlc/batch_dlc_chester_ver02/data/sn82014402/00211102822/1881060401/0019.pdf\n",
      "https://tile.loc.gov/storage-services/service/ndnp/dlc/batch_dlc_chester_ver02/data/sn82014402/00211102822/1881060401/0020.pdf\n",
      "https://tile.loc.gov/storage-services/service/ndnp/dlc/batch_dlc_chester_ver02/data/sn82014402/00211102822/1881060601/0021.pdf\n",
      "https://tile.loc.gov/storage-services/service/ndnp/dlc/batch_dlc_chester_ver02/data/sn82014402/00211102822/1881060601/0022.pdf\n",
      "https://tile.loc.gov/storage-services/service/ndnp/dlc/batch_dlc_chester_ver02/data/sn82014402/00211102822/1881060601/0023.pdf\n",
      "https://tile.loc.gov/storage-services/service/ndnp/dlc/batch_dlc_chester_ver02/data/sn82014402/00211102822/1881060601/0024.pdf\n",
      "https://tile.loc.gov/storage-services/service/ndnp/dlc/batch_dlc_chester_ver02/data/sn82014402/00211102822/1881060701/0025.pdf\n",
      "https://tile.loc.gov/storage-services/service/ndnp/dlc/batch_dlc_chester_ver02/data/sn82014402/00211102822/1881060701/0026.pdf\n",
      "https://tile.loc.gov/storage-services/service/ndnp/dlc/batch_dlc_chester_ver02/data/sn82014402/00211102822/1881060701/0027.pdf\n",
      "https://tile.loc.gov/storage-services/service/ndnp/dlc/batch_dlc_chester_ver02/data/sn82014402/00211102822/1881060701/0028.pdf\n",
      "https://tile.loc.gov/storage-services/service/ndnp/dlc/batch_dlc_chester_ver02/data/sn82014402/00211102822/1881060801/0029.pdf\n",
      "https://tile.loc.gov/storage-services/service/ndnp/dlc/batch_dlc_chester_ver02/data/sn82014402/00211102822/1881060801/0030.pdf\n",
      "https://tile.loc.gov/storage-services/service/ndnp/dlc/batch_dlc_chester_ver02/data/sn82014402/00211102822/1881060801/0031.pdf\n",
      "https://tile.loc.gov/storage-services/service/ndnp/dlc/batch_dlc_chester_ver02/data/sn82014402/00211102822/1881060801/0032.pdf\n",
      "https://tile.loc.gov/storage-services/service/ndnp/dlc/batch_dlc_chester_ver02/data/sn82014402/00211102822/1881060901/0033.pdf\n",
      "https://tile.loc.gov/storage-services/service/ndnp/dlc/batch_dlc_chester_ver02/data/sn82014402/00211102822/1881060901/0034.pdf\n",
      "https://tile.loc.gov/storage-services/service/ndnp/dlc/batch_dlc_chester_ver02/data/sn82014402/00211102822/1881060901/0035.pdf\n",
      "https://tile.loc.gov/storage-services/service/ndnp/dlc/batch_dlc_chester_ver02/data/sn82014402/00211102822/1881060901/0036.pdf\n",
      "https://tile.loc.gov/storage-services/service/ndnp/dlc/batch_dlc_chester_ver02/data/sn82014402/00211102822/1881061001/0037.pdf\n",
      "https://tile.loc.gov/storage-services/service/ndnp/dlc/batch_dlc_chester_ver02/data/sn82014402/00211102822/1881061001/0038.pdf\n",
      "https://tile.loc.gov/storage-services/service/ndnp/dlc/batch_dlc_chester_ver02/data/sn82014402/00211102822/1881061001/0039.pdf\n",
      "https://tile.loc.gov/storage-services/service/ndnp/dlc/batch_dlc_chester_ver02/data/sn82014402/00211102822/1881061001/0040.pdf\n",
      "https://tile.loc.gov/storage-services/service/ndnp/dlc/batch_dlc_chester_ver02/data/sn82014402/00211102822/1881061101/0041.pdf\n",
      "https://tile.loc.gov/storage-services/service/ndnp/dlc/batch_dlc_chester_ver02/data/sn82014402/00211102822/1881061101/0042.pdf\n",
      "https://tile.loc.gov/storage-services/service/ndnp/dlc/batch_dlc_chester_ver02/data/sn82014402/00211102822/1881061101/0043.pdf\n",
      "https://tile.loc.gov/storage-services/service/ndnp/dlc/batch_dlc_chester_ver02/data/sn82014402/00211102822/1881061101/0044.pdf\n"
     ]
    }
   ],
   "source": [
    "# Perform Query - Paste your API Search Query URL into the searchURL\n",
    "searchURL = 'https://www.loc.gov/collections/chronicling-america/?fa=number_lccn:sn82014402&start_date=1880-01-01&end_date=1881-12-31&fo=json'\n",
    "\n",
    "# Add your desired file type (extension). Options Include: pdf, jpeg, and xml (OCR files)\n",
    "fileExtension = 'pdf'\n",
    "\n",
    "# get_item_ids\n",
    "ids = get_item_ids(searchURL, items=[])\n",
    "\n",
    "# get_image_urls\n",
    "image_urls_list = get_image_urls(ids, fileExtension, items=[])\n",
    "\n",
    "print('\\nList of files to be downloaded:')\n",
    "for url in image_urls_list:\n",
    "    print(url['image_url'])"
   ]
  },
  {
   "cell_type": "code",
   "execution_count": 4,
   "metadata": {
    "colab": {
     "base_uri": "https://localhost:8080/"
    },
    "executionInfo": {
     "elapsed": 23414,
     "status": "ok",
     "timestamp": 1711557777250,
     "user": {
      "displayName": "Mike Saelee",
      "userId": "09356275809855701196"
     },
     "user_tz": 240
    },
    "id": "sI0zWpdKqOFM",
    "outputId": "6068ce41-71e8-41c6-ff72-597920bbc17b"
   },
   "outputs": [
    {
     "name": "stdout",
     "output_type": "stream",
     "text": [
      "\n",
      "Success! Please check your saveTo location to see the saved files.\n",
      "You can also redownload the selected files using the links above.\n"
     ]
    }
   ],
   "source": [
    "# Add your Local saveTo Location (e.g. C:/Downloads/)\n",
    "saveTo = 'output'\n",
    "\n",
    "# prompt: create the folder and subfolder if they don't exist\n",
    "\n",
    "for url in image_urls_list:\n",
    "    # Extract the folder and filename from the URL\n",
    "    image_url = url['image_url']  # Extract the image_url value from the dictionary\n",
    "    batch_name = image_url.split('/')[-6]\n",
    "    lccn_name = image_url.split('/')[-4]\n",
    "    reel_name = image_url.split('/')[-3]\n",
    "    issue_name = image_url.split('/')[-2]\n",
    "    filename = image_url.split('/')[-1]\n",
    "\n",
    "    # Create the batch folder if it doesn't exist\n",
    "    batch_path = os.path.join(saveTo, batch_name)\n",
    "    if not os.path.exists(batch_path):\n",
    "        os.makedirs(batch_path)\n",
    "\n",
    "    # Create the lccn folder if it doesn't exist\n",
    "    lccn_path = os.path.join(saveTo, batch_name, lccn_name)\n",
    "    if not os.path.exists(lccn_path):\n",
    "        os.makedirs(lccn_path)\n",
    "\n",
    "    # Create the reel folder if it doesn't exist\n",
    "    reel_path = os.path.join(saveTo, batch_name, lccn_name, reel_name)\n",
    "    if not os.path.exists(reel_path):\n",
    "        os.makedirs(reel_path)\n",
    "\n",
    "    # Create the issue subfolder if it doesn't exist\n",
    "    issue_path = os.path.join(saveTo, batch_name, lccn_name, reel_name, issue_name)\n",
    "    if not os.path.exists(issue_path):\n",
    "        os.makedirs(issue_path)\n",
    "\n",
    "    # Download the file\n",
    "    response = requests.get(image_url)\n",
    "    file_path = os.path.join(saveTo, batch_name, lccn_name, reel_name, issue_name, filename)\n",
    "    with open(file_path, 'wb') as f:\n",
    "        f.write(response.content)\n",
    "\n",
    "# prompt: when download is complete, print the message\n",
    "print('\\nSuccess! Please check your saveTo location to see the saved files.\\nYou can also redownload the selected files using the links above.')\n"
   ]
  },
  {
   "cell_type": "code",
   "execution_count": null,
   "metadata": {},
   "outputs": [],
   "source": []
  }
 ],
 "metadata": {
  "colab": {
   "authorship_tag": "ABX9TyPbVHZ4VeEJOrX0hm+P1Hqz",
   "provenance": []
  },
  "kernelspec": {
   "display_name": "Python 3",
   "language": "python",
   "name": "python3"
  },
  "language_info": {
   "codemirror_mode": {
    "name": "ipython",
    "version": 3
   },
   "file_extension": ".py",
   "mimetype": "text/x-python",
   "name": "python",
   "nbconvert_exporter": "python",
   "pygments_lexer": "ipython3",
   "version": "3.8.5"
  }
 },
 "nbformat": 4,
 "nbformat_minor": 1
}
