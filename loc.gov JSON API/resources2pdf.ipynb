{
 "cells": [
  {
   "cell_type": "markdown",
   "metadata": {},
   "source": [
    "## LoC Data Package Tutorial: Image Resources to PDF\n",
    "\n",
    "The loc.gov API provides structured data about Library of Congress collections in JSON and YAML formats. This notebook shows how you can take use the API to access image resources, belonging to an LoC Item, and aggregate them into a single PDF file. \n",
    "\n",
    "### Understanding API Responses Review:\n",
    "**JSON Response Objects**\n",
    "Each of the endpoint types has a distinct response format, but they can be broadly grouped into two categories:\n",
    "- responses to queries for a list of items, or Search Results Responses \n",
    "- responses to queries for a **single item**, or Item and Resource Responses\n",
    "\n",
    "Furthermore, this notebook will focus on the **JSON Response Object** for a **single item** and formatting its corresponding Resources (files that make-up an item, e.g. pictures of book) into a .pdf file.\n",
    "\n",
    "### Prerequisites\n",
    "\n",
    "There are no prequisites in order to run this notebook, besides the installation of libraries listed in the imports section.\n"
   ]
  },
  {
   "cell_type": "markdown",
   "metadata": {},
   "source": [
    "### I. Imports:\n"
   ]
  },
  {
   "cell_type": "code",
   "execution_count": 131,
   "metadata": {},
   "outputs": [],
   "source": [
    "from PIL import Image\n",
    "import os\n",
    "from io import BytesIO\n",
    "import requests"
   ]
  },
  {
   "cell_type": "markdown",
   "metadata": {},
   "source": [
    "### II. Create a request URL\n",
    "\n",
    "First, we will start by ensuring we have a link to an item of interest.\n",
    " In this instance we will look at the _Benjamin Harrison Papers: Series 13, Venezuela Boundary Dispute, 1895-1899; Part 2, 1895-1899_ as an example.\n",
    "\n",
    "Notice the format of the link to this item: `'https://www.loc.gov/item/mss250640164/?%'`\n"
   ]
  },
  {
   "cell_type": "code",
   "execution_count": 132,
   "metadata": {},
   "outputs": [
    {
     "name": "stdout",
     "output_type": "stream",
     "text": [
      "Item API Request URL: https://www.loc.gov/item/mss250640164/?fo=json\n"
     ]
    }
   ],
   "source": [
    "item_link=\"https://www.loc.gov/item/mss250640164/?\"\n",
    "request_url = item_link + \"fo=json\"\n",
    "\n",
    "# Note: The addition of the \"fo=json\" string ensures that the item request is in JSON format\n",
    "\n",
    "print(f'Item API Request URL: {request_url}')"
   ]
  },
  {
   "cell_type": "markdown",
   "metadata": {},
   "source": [
    "### III. Request Data and Reviewing Item data:"
   ]
  },
  {
   "cell_type": "code",
   "execution_count": 133,
   "metadata": {},
   "outputs": [
    {
     "name": "stdout",
     "output_type": "stream",
     "text": [
      "Data for exploration:\n",
      "articles_and_essays, cite_this, item, more_like_this, options, related_items, resources, timestamp, type\n",
      "\n",
      "Item Data:\n",
      "_version_, access_restricted, aka, call_number, campaigns, contributor_names, contributors, created_published, date, dates, digital_id, digitized, display_offsite, extract_timestamp, extract_urls, format, genre, group, hassegments, id, image_url, index, item, language, languages, location, locations, mime_type, online_format, original_format, other_formats, other_title, partof, related_items, repository, resources, rights, score, shard, shelf_id, site, source_collection, source_modified, subject, subject_headings, subjects, timestamp, title, type, url\n",
      "\n",
      "Citation Information of the Item: Harrison, B. (1895) <cite>Benjamin Harrison Papers: Series 13, Venezuela Boundary Dispute, -1899; Part 2, -1899</cite>. - 1899. [Manuscript/Mixed Material] Retrieved from the Library of Congress, https://www.loc.gov/item/mss250640164/. \n"
     ]
    }
   ],
   "source": [
    "# Generates request from LOC API to extract data in JSON format\n",
    "r = requests.get(request_url)\n",
    "data = r.json()\n",
    "# print(data)\n",
    "\n",
    "# Here is a quick way at looking at the structure of the data\n",
    "\n",
    "print(\"Data for exploration:\\n\" + \", \".join(value for value in data.keys()))\n",
    "\n",
    "# Here is another way at looking at the structure of the data\n",
    "# print('Data for exploration:')\n",
    "# for value in data.keys():\n",
    "#     print(value)\n",
    "# print(data.keys())\n",
    "\n",
    "# For demonstration purposes these are details about the item that you could explore if you want.\n",
    "print(\"\\nItem Data:\\n\" + \", \".join(value for value in data[\"item\"].keys()))\n",
    "\n",
    "#Printing out the citation is a simple way to verify that you have the correct item.\n",
    "citation = data['cite_this']['apa']\n",
    "print(f'\\nCitation Information of the Item: {citation} ')"
   ]
  },
  {
   "cell_type": "markdown",
   "metadata": {},
   "source": [
    "### IV. Resource Data and Extracting Resource URLS:\n",
    "\n",
    "In the previous code cell, you can see that the content itself has a lot of Metadata to that can be explored. However, in this notebook we will focus on access to information about the resources.\n",
    "\n",
    "As opposed to looking at item with `data['item']` we will look at the resources through `data['resources]`. Furthermore, we will be creating a list of all of the resources image urls with the best resolution (based on the largest height)."
   ]
  },
  {
   "cell_type": "code",
   "execution_count": 134,
   "metadata": {},
   "outputs": [
    {
     "name": "stdout",
     "output_type": "stream",
     "text": [
      "Total # of Resources: 1143\n",
      "Resource Data: caption, files, image, url\n"
     ]
    }
   ],
   "source": [
    "resources = data['resources'][0]\n",
    "files = data['resources'][0]['files']\n",
    "\n",
    "num_resources = len(resources['files'])\n",
    "print(f'Total # of Resources: {num_resources}')\n",
    "\n",
    "print('Resource Data: ' + \", \".join(key for key in resources.keys()))\n",
    "\n",
    "# Another way to review information\n",
    "# for key in data['resources'][0].keys():\n",
    "#     print(key)"
   ]
  },
  {
   "cell_type": "code",
   "execution_count": 135,
   "metadata": {},
   "outputs": [],
   "source": [
    "# This is a simple function that returns the url of the resource page based on the height of the image (which is our standard for resolution)\n",
    "def best_resolution(page):\n",
    "    heights = []\n",
    "    # Loops through the image '.jpg' files to find the best resolution of a page (based on height of the image)\n",
    "    for img in files[page]:\n",
    "        if '.jpg' in img['url']:\n",
    "            heights.append(img['height'])\n",
    "        else:\n",
    "            continue\n",
    "        max_height =  max(heights)\n",
    "        \n",
    "    # Returns the url that corresponds to the height\n",
    "    for img in files[page]:\n",
    "        if img['height'] == max_height:\n",
    "            return img['url']"
   ]
  },
  {
   "cell_type": "code",
   "execution_count": 136,
   "metadata": {},
   "outputs": [
    {
     "name": "stdout",
     "output_type": "stream",
     "text": [
      "['https://tile.loc.gov/image-services/iiif/service:mss:mss25064:mss25064-141:0018/full/pct:100/0/default.jpg', 'https://tile.loc.gov/image-services/iiif/service:mss:mss25064:mss25064-141:0019/full/pct:100/0/default.jpg', 'https://tile.loc.gov/image-services/iiif/service:mss:mss25064:mss25064-141:0020/full/pct:100/0/default.jpg', 'https://tile.loc.gov/image-services/iiif/service:mss:mss25064:mss25064-141:0021/full/pct:100/0/default.jpg', 'https://tile.loc.gov/image-services/iiif/service:mss:mss25064:mss25064-141:0022/full/pct:100/0/default.jpg', 'https://tile.loc.gov/image-services/iiif/service:mss:mss25064:mss25064-141:0023/full/pct:100/0/default.jpg', 'https://tile.loc.gov/image-services/iiif/service:mss:mss25064:mss25064-141:0024/full/pct:100/0/default.jpg', 'https://tile.loc.gov/image-services/iiif/service:mss:mss25064:mss25064-141:0025/full/pct:100/0/default.jpg', 'https://tile.loc.gov/image-services/iiif/service:mss:mss25064:mss25064-141:0026/full/pct:100/0/default.jpg', 'https://tile.loc.gov/image-services/iiif/service:mss:mss25064:mss25064-141:0027/full/pct:100/0/default.jpg']\n"
     ]
    }
   ],
   "source": [
    "# By default the function will generate a list of the urls from pages 0-10 of the item, but you can change the range.\n",
    "\n",
    "def generate_url_list(start=0,end=10):\n",
    "    url_list = []\n",
    "    for i in range(start,end):\n",
    "        #URL with Best resolution for the designated page\n",
    "        url = best_resolution(i)\n",
    "        url_list.append(url)\n",
    "    return url_list\n",
    "\n",
    "# This is a list of the urls, that correspond to the image resources, used to generate the pdf\n",
    "print(generate_url_list())"
   ]
  },
  {
   "cell_type": "code",
   "execution_count": 137,
   "metadata": {},
   "outputs": [],
   "source": [
    "# Function that facilitates the download of the image using it's url\n",
    "def download_image(url):\n",
    "    response = requests.get(url)\n",
    "    return Image.open(BytesIO(response.content))"
   ]
  },
  {
   "cell_type": "code",
   "execution_count": 138,
   "metadata": {},
   "outputs": [],
   "source": [
    "# Leveraging the list of urls, this function allows you to create the final .pdf file with the aggregate resources.\n",
    "def create_pdf(image_urls, pdf_name):\n",
    "    images = []\n",
    "    for url in image_urls:\n",
    "        image = download_image(url)\n",
    "        images.append(image)\n",
    "\n",
    "    images[0].save(\n",
    "        pdf_name, \"PDF\", resolution=100.0, save_all=True, append_images=images[1:]\n",
    "    )\n",
    "\n",
    "    print(\"LOC Item Resources have been saved as pdf: \"+ pdf_name)"
   ]
  },
  {
   "cell_type": "markdown",
   "metadata": {},
   "source": [
    "### V. Putting it all Together: Generating a PDF from Item Resources using the LoC API\n"
   ]
  },
  {
   "cell_type": "code",
   "execution_count": 139,
   "metadata": {},
   "outputs": [],
   "source": [
    "# Requesting Data from the LoC API\n",
    "item_link=\"https://www.loc.gov/item/mss250640164/?\"\n",
    "request_url = item_link + \"fo=json\"\n",
    "r = requests.get(request_url)\n",
    "data = r.json()\n",
    "\n",
    "# Extracting Resource and File data\n",
    "resources = data['resources'][0]\n",
    "files = data['resources'][0]['files']\n",
    "\n",
    "# Generating URL list from my range\n",
    "start = 0\n",
    "end = 10\n",
    "image_urls = generate_url_list(start,end)\n"
   ]
  },
  {
   "cell_type": "code",
   "execution_count": 140,
   "metadata": {},
   "outputs": [
    {
     "name": "stdout",
     "output_type": "stream",
     "text": [
      "LOC Item Resources have been saved as pdf: sample.pdf\n"
     ]
    }
   ],
   "source": [
    "# creating the PDF\n",
    "pdf_name = 'sample.pdf'\n",
    "create_pdf(image_urls, pdf_name)"
   ]
  }
 ],
 "metadata": {
  "kernelspec": {
   "display_name": "Python (LOC)",
   "language": "python",
   "name": "loc-env"
  },
  "language_info": {
   "codemirror_mode": {
    "name": "ipython",
    "version": 3
   },
   "file_extension": ".py",
   "mimetype": "text/x-python",
   "name": "python",
   "nbconvert_exporter": "python",
   "pygments_lexer": "ipython3",
   "version": "3.9.16"
  }
 },
 "nbformat": 4,
 "nbformat_minor": 2
}
