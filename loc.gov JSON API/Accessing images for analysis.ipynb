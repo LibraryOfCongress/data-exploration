{
 "cells": [
  {
   "cell_type": "markdown",
   "metadata": {},
   "source": [
    "# Accessing images from the loc.gov JSON API for image analysis\n",
    "\n",
    "The digital collections' images available from the [Library of Congress website](https://www.loc.gov) are an amazing resource for study and analysis using digital methods. This notebook shows how you can use the loc.gov JSON API and Python to access sets of images.\n",
    "\n",
    "More information about API is at [About the loc.gov JSON API](https://libraryofcongress.github.io/data-exploration/). For more example code in Jupyter notebooks, check out [LC for Robots](https://labs.loc.gov/lc-for-robots). \n",
    "\n",
    "This tutorial contains several stages:\n",
    "\n",
    "1. [Context](#Context)\n",
    "2. [Identifying items](#Identifying-items)\n",
    "3. [Calling the API and retrieving image URLs](#Calling-the-API-and-retrieving-image-URLs)\n",
    "4. [Accessing images](#Accessing-images)\n",
    "5. [Conclusion](#Conclusion)\n",
    "   \n",
    "## Version\n",
    "---\n",
    "Version: 2\n",
    "\n",
    "Last Run: July 14, 2025 (Python 3.12)\n",
    "\n",
    "\n",
    "---\n",
    "Author Information:\n",
    "\n",
    "\n",
    "Written by Laura Wrubel, Visiting Scholar 2018\n",
    "\n",
    "Edited by Sabrina Templeton, Junior Fellow 2025\n",
    "\n",
    "---\n",
    "\n",
    "## Prerequisites\n",
    "None. However, note that running this notebook will download files onto your machine. \n",
    " "
   ]
  },
  {
   "cell_type": "markdown",
   "metadata": {},
   "source": [
    "## Context\n",
    "\n",
    "### Rights and access\n",
    "Rights and restrictions, including copyright, affect how you can use images, particularly if you want to publish, display, or otherwise distribute them. You can read more in [About Copyright and the Collections](https://www.loc.gov/legal/). This notebook uses images from the Prints & Photographs Division (P&P), and you can read more about restrictions guidance for these materials at [Copyright and Other Restrictions That Apply to Publication/Distribution of Images:\n",
    "Assessing the Risk of Using a P&P Image](http://www.loc.gov/rr/print/195_copr.html). There is also information about rights specific to the collection and item in several fields in the API response. See the end of this notebook for relevant fields.\n",
    "\n",
    "### Image sizes and information about collections\n",
    "In many cases, the images from the Prints & Photographs Division available via the API are a small thumbnail (150px on one side). Consider whether this is sufficient for your research methods and needs. If you need to work with higher resolution images than are available via the API, you'll need to consult with staff who work with the collection(s) to determine whether those are available for use on-site at the Library of Congress and what restrictions apply. Here are some examples of images that are 150px on one side: \n",
    "\n",
    "![https://www.loc.gov/item/2017691815/](https://cdn.loc.gov/service/pnp/fsa/8b02000/8b02800/8b02895_150px.jpg)\n",
    "![https://www.loc.gov/item/2011645392/](https://cdn.loc.gov/service/pnp/ppmsca/31200/31267_150px.jpg)\n",
    "\n",
    "It can also be helpful to discuss with staff your intended analysis, as factors such as the sources of metadata and how items were digitized may affect your findings. The [Ask a Librarian](http://www.loc.gov/rr/askalib/) service can help you get in touch with staff who work with the collections.\n",
    "\n",
    "### More APIs for working with images\n",
    "Outside of the Prints & Photographs Division images, most of the Library of Congress images are available from an [IIIF API](https://www.loc.gov/apis/micro-services/image-services/), including for example those of newspapers in the [Chronicling America](https://chroniclingamerica.loc.gov/) collection, [images from the Mansucript Division](https://www.loc.gov/search/?fa=online-format:image%7Cpartof:manuscript+division), and [images of maps](https://www.loc.gov/maps/?fa=online-format:image). The IIIF API allows you to zoom, rotate, resize, and work with images in more complex ways. For a brief intro to using the IIIF API, see [this Jupyter notebook on IIIF](https://github.com/LibraryOfCongress/data-exploration/blob/master/loc.gov%20IIIF%20API/IIIF.ipynb). \n",
    " "
   ]
  },
  {
   "cell_type": "markdown",
   "metadata": {},
   "source": [
    "## Identifying items "
   ]
  },
  {
   "cell_type": "markdown",
   "metadata": {},
   "source": [
    "So let's get started accessing images! If you haven't already, browse or search the [Library of Congress Digital Collections](https://www.loc.gov/collections) website to see what is available and refine your search parameters. The website lets you search over 500 curated collections by keyword, format, topic, and division. While the API documentation has [detailed information on parameters](https://www.loc.gov/apis/json-and-yaml/) you can use in your search, searching the collections often gives you good context that is useful in understanding the context of an image within its collection.\n",
    "\n",
    "Once you've found a search that targets the items that interest you, **copy the URL**. That will be the **base URL** for your API request. \n",
    "\n",
    "For example: \n",
    "\n",
    "``https://www.loc.gov/collections/baseball-cards/``\n",
    "\n",
    "``https://www.loc.gov/photos/?q=bridges&dates=1800/1899``\n",
    "\n",
    "### Calling the API and retrieving image URLs\n",
    "\n",
    "The function below will call the API, adding the following parameters:\n",
    "* ``fo=json`` to get JSON format in response\n",
    "* ``c=100`` a count of 100 results in each response, rather than the default 25\n",
    "* ``at=results,pagination`` provide only the ``results`` and ``pagination`` parts of the response. The API response is otherwise very long with information\n",
    "we don't need.\n",
    "\n",
    "\n",
    "Each of the results in the `results` field will have a field called ``image_url``: \n",
    "\n",
    "``\n",
    "\"image_url\": [\n",
    "\"//cdn.loc.gov/service/pnp/cph/3f00000/3f05000/3f05300/3f05332_150px.jpg\",\n",
    "\"//cdn.loc.gov/service/pnp/cph/3f00000/3f05000/3f05300/3f05332_150px.jpg#h=150&w=100\",\n",
    "\"//cdn.loc.gov/service/pnp/cph/3f00000/3f05000/3f05300/3f05332t.gif#h=150&w=100\",\n",
    "\"//cdn.loc.gov/service/pnp/cph/3f00000/3f05000/3f05300/3f05332r.jpg#h=640&w=425\",\n",
    "\"//cdn.loc.gov/service/pnp/cph/3f00000/3f05000/3f05300/3f05332v.jpg#h=1024&w=680\"\n",
    "],\n",
    "``\n",
    "\n",
    "For images from the Prints & Photographs Division, the last one listed is usually the largest of the image files publicly available. Below, the function retrieves the last item in the ``image_url`` array. "
   ]
  },
  {
   "cell_type": "code",
   "execution_count": 1,
   "metadata": {},
   "outputs": [],
   "source": [
    "import requests\n",
    "\n",
    "def get_image_urls(url, items=[]):\n",
    "    '''\n",
    "    Retrieves the image URLs for items that have public URLs available. \n",
    "    Skips over items that are for the colletion as a whole or web pages about the collection.\n",
    "    Handles pagination. \n",
    "\n",
    "    Args: \n",
    "        url (str): The URL to request a collection.\n",
    "        items (list, optional): The list that fetched item URLs will get added to.\n",
    "\n",
    "    Returns:\n",
    "        list: The item URLS from the collection.  \n",
    "    '''\n",
    "    \n",
    "    # request pages of 100 results at a time\n",
    "    params = {\"fo\": \"json\", \"c\": 100, \"at\": \"results,pagination\"} \n",
    "    call = requests.get(url, params=params)\n",
    "    data = call.json()\n",
    "    results = data['results']\n",
    "    for result in results:\n",
    "        # don't try to get images from the collection-level result\n",
    "        if \"collection\" not in result.get(\"original_format\") and \"web page\" not in result.get(\"original_format\"):\n",
    "            # take the last URL listed in the image_url array\n",
    "            if result.get(\"image_url\"):\n",
    "                item = result.get(\"image_url\")[-1]\n",
    "                items.append(item)\n",
    "    if data[\"pagination\"][\"next\"] is not None: # make sure we haven't hit the end of the pages\n",
    "        next_url = data[\"pagination\"][\"next\"]\n",
    "        print(\"getting next page: {0}\".format(next_url))\n",
    "        time.sleep(3) # timer to avoid API rate limits\n",
    "        get_image_urls(next_url, items)\n",
    "        \n",
    "    return items\n"
   ]
  },
  {
   "cell_type": "markdown",
   "metadata": {},
   "source": [
    "The Library of Congress has a digitized collection of Baseball Cards collection from the late 19th and eary 20th century. Here's an example:\n",
    "\n",
    "![\"https://www.loc.gov/collections/static/baseball-cards/images/Ward0006.jpg\"](https://www.loc.gov/collections/static/baseball-cards/images/Ward0006.jpg)\n",
    "\n",
    "Let's retrieve URLs for images in the Baseball Cards collection. The base URL below will filter the results to those from the year 1888, allowing us to work with a more manageable number of files for the purpose of this notebook:"
   ]
  },
  {
   "cell_type": "code",
   "execution_count": 2,
   "metadata": {
    "scrolled": true
   },
   "outputs": [],
   "source": [
    "image_urls = get_image_urls(\"https://www.loc.gov/collections/baseball-cards/?dates=1888\", items=[]) # remove the date parameter here to download the entire collection"
   ]
  },
  {
   "cell_type": "markdown",
   "metadata": {},
   "source": [
    "How many URLs were retrieved?"
   ]
  },
  {
   "cell_type": "code",
   "execution_count": 3,
   "metadata": {},
   "outputs": [
    {
     "data": {
      "text/plain": [
       "58"
      ]
     },
     "execution_count": 3,
     "metadata": {},
     "output_type": "execute_result"
    }
   ],
   "source": [
    "len(image_urls)"
   ]
  },
  {
   "cell_type": "markdown",
   "metadata": {},
   "source": [
    "As mentioned above, we filtered by date to receive a more manageable number of images for the purposes of this tutorial, as the total number of images in the Baseball Cards collection is over 2000. You can easily remove the date parameter above if you want to download the entirety of the collection."
   ]
  },
  {
   "cell_type": "markdown",
   "metadata": {},
   "source": [
    "Here are the URLs retrieved from the ``image_url`` field in the first five results in the API response. As you can see by the way the files have been named, these have one dimension being 1024 pixels. "
   ]
  },
  {
   "cell_type": "code",
   "execution_count": 4,
   "metadata": {},
   "outputs": [
    {
     "data": {
      "text/plain": [
       "['https://tile.loc.gov/storage-services/service/pnp/bbc/0300/0380/0382fv.jpg#h=1024&w=572',\n",
       " 'https://tile.loc.gov/storage-services/service/pnp/bbc/0500/0530/0536fv.jpg#h=1024&w=561',\n",
       " 'https://tile.loc.gov/storage-services/service/pnp/bbc/0500/0530/0537fv.jpg#h=1024&w=569',\n",
       " 'https://tile.loc.gov/storage-services/service/pnp/bbc/0500/0550/0550fv.jpg#h=1024&w=554',\n",
       " 'https://tile.loc.gov/storage-services/service/pnp/bbc/0500/0550/0551fv.jpg#h=1024&w=554']"
      ]
     },
     "execution_count": 4,
     "metadata": {},
     "output_type": "execute_result"
    }
   ],
   "source": [
    "image_urls[:5]"
   ]
  },
  {
   "cell_type": "markdown",
   "metadata": {},
   "source": [
    "You could pass this list of URLs to a tool like wget to collect the images. A helpful tutorial is [Automated Downloading with wget](https://programminghistorian.org/lessons/automated-downloading-with-wget). "
   ]
  },
  {
   "cell_type": "markdown",
   "metadata": {},
   "source": [
    "### Rights and restrictions data in the API\n",
    "\n",
    "The API response also contains data about rights and restrictions, just as seen on the loc.gov website. The field may vary by collection, but can usually be found in `rights` and possibly also `rights_information` and `rights_advisory`. The `rights` field typically contains the rights statement from the collection level. For our collection, Baseball Cards, all three fields are present. Other collections may return errors, if `rights_information` and `rights_advisory` aren't used. The `access restricted` field is also a True/False boolean field used for toggling various rights restrictiosn and should not be taken as a comprehensive statement of the absense of all restrictions of any sort. \n",
    "\n",
    "To make an API request for a single item, use the URL in the ``id`` field of the results section and add ``fo=json``. \n",
    "\n",
    "We'll request item information for a specific item in the Works Progress Administration Posters collection and look at the rights associated with it: "
   ]
  },
  {
   "cell_type": "code",
   "execution_count": 5,
   "metadata": {},
   "outputs": [],
   "source": [
    "import json\n",
    "\n",
    "# request JSON for a single item\n",
    "r = requests.get(\"https://www.loc.gov/item/98513999/?fo=json\")\n",
    "r_data = r.json()"
   ]
  },
  {
   "cell_type": "markdown",
   "metadata": {},
   "source": [
    "**rights_information**"
   ]
  },
  {
   "cell_type": "code",
   "execution_count": 6,
   "metadata": {},
   "outputs": [
    {
     "name": "stdout",
     "output_type": "stream",
     "text": [
      "\"No known restrictions on publication.\"\n"
     ]
    }
   ],
   "source": [
    "print(json.dumps(r_data[\"item\"][\"rights_information\"], indent=2))"
   ]
  },
  {
   "cell_type": "markdown",
   "metadata": {},
   "source": [
    "**rights_advisory**"
   ]
  },
  {
   "cell_type": "code",
   "execution_count": 7,
   "metadata": {},
   "outputs": [
    {
     "name": "stdout",
     "output_type": "stream",
     "text": [
      "\"No known restrictions on publication.\"\n"
     ]
    }
   ],
   "source": [
    "print(json.dumps(r_data[\"item\"][\"rights_advisory\"], indent=2))"
   ]
  },
  {
   "cell_type": "markdown",
   "metadata": {},
   "source": [
    "**rights**"
   ]
  },
  {
   "cell_type": "code",
   "execution_count": 8,
   "metadata": {},
   "outputs": [
    {
     "name": "stdout",
     "output_type": "stream",
     "text": [
      "[\n",
      "  \"<p>The Library of Congress does not&nbsp;own rights to material  in its collections. Therefore, it does not license or charge permission fees  for use of such material and cannot grant or deny permission to publish or  otherwise distribute the material. </p>\\n<p>Ultimately, it is the researcher's obligation to assess copyright or other use restrictions and  obtain permission from third parties when necessary before publishing or  otherwise distributing materials found in the Library's collections. </p>\\n<p>For information about reproducing,  publishing, and citing material from this collection, as well as access to the  original items, see: <a href=\\\"https://www.loc.gov/rr/print/res/217_wpa.html\\\">Work Projects Administration Posters - Rights and Restrictions Information</a> </p>\\n\\n\"\n",
      "]\n"
     ]
    }
   ],
   "source": [
    "print(json.dumps(r_data[\"item\"][\"rights\"], indent=2))"
   ]
  },
  {
   "cell_type": "markdown",
   "metadata": {},
   "source": [
    "**access_restricted**\n",
    "\n",
    "If access is restricted, this field will be true. "
   ]
  },
  {
   "cell_type": "code",
   "execution_count": 9,
   "metadata": {},
   "outputs": [
    {
     "name": "stdout",
     "output_type": "stream",
     "text": [
      "false\n"
     ]
    }
   ],
   "source": [
    "print(json.dumps(r_data[\"item\"][\"access_restricted\"], indent=2))"
   ]
  },
  {
   "cell_type": "markdown",
   "metadata": {},
   "source": [
    "## Accessing images\n",
    "\n",
    "Now that you have the URLs for images, you can access them as part of your image analysis or download them. Just be sure to check out the rights and restrictions information about how you can distribute or display them.\n",
    "\n",
    "The code below will acccess and save the images located the URLs you saved earlier. It saves them to a directory, so if you haven't already created a directory where you want to save the files, do that now. "
   ]
  },
  {
   "cell_type": "code",
   "execution_count": 10,
   "metadata": {},
   "outputs": [],
   "source": [
    "import os"
   ]
  },
  {
   "cell_type": "code",
   "execution_count": 11,
   "metadata": {},
   "outputs": [],
   "source": [
    "os.mkdir(\"images\")"
   ]
  },
  {
   "cell_type": "code",
   "execution_count": 12,
   "metadata": {
    "jupyter": {
     "source_hidden": true
    }
   },
   "outputs": [],
   "source": [
    "def get_image_files(image_urls_list, path):\n",
    "    '''\n",
    "    Takes as input a list of URLs for loc.gov item pages and \n",
    "    a path to a directory in which to save image files, e.g. \"data\". \n",
    "\n",
    "    Args: \n",
    "        images_urls_list (list): The list of urls for which fetch the image files.\n",
    "        path (str): The path to a directory in which image files will be saved. \n",
    "\n",
    "    Returns:\n",
    "        None\n",
    "    '''\n",
    " \n",
    "    for count, url in enumerate(image_urls_list):\n",
    "        if count % 10 == 0: # if you are getting 100s of images, change the 10 to 100 here to print more infrequently\n",
    "            print(\"at item {0}\".format(count))\n",
    "        try:\n",
    "            #filename = create a filename based on the last part of the URL.\n",
    "            filename = url.split('/')[-1]\n",
    "            filename = os.path.join(path, filename)\n",
    "            # request the image and write to path\n",
    "            image_response = requests.get(url, stream=True)\n",
    "           \n",
    "            with open(filename, 'wb') as fd:\n",
    "                for chunk in image_response.iter_content(chunk_size=100000):\n",
    "                    fd.write(chunk)\n",
    "        except ConnectionError as e:\n",
    "            print(e)"
   ]
  },
  {
   "cell_type": "code",
   "execution_count": 13,
   "metadata": {},
   "outputs": [
    {
     "name": "stdout",
     "output_type": "stream",
     "text": [
      "at item 0\n",
      "at item 10\n",
      "at item 20\n",
      "at item 30\n",
      "at item 40\n",
      "at item 50\n"
     ]
    }
   ],
   "source": [
    "get_image_files(image_urls, \"images\")"
   ]
  },
  {
   "cell_type": "markdown",
   "metadata": {},
   "source": [
    "Let's see what we downloaded."
   ]
  },
  {
   "cell_type": "code",
   "execution_count": 14,
   "metadata": {},
   "outputs": [
    {
     "data": {
      "text/plain": [
       "['0382fv.jpg#h=1024&w=572',\n",
       " '0536fv.jpg#h=1024&w=561',\n",
       " '0537fv.jpg#h=1024&w=569',\n",
       " '0550fv.jpg#h=1024&w=554',\n",
       " '0551fv.jpg#h=1024&w=554',\n",
       " '0552fv.jpg#h=1024&w=563',\n",
       " '0553fv.jpg#h=1024&w=547',\n",
       " '0554fv.jpg#h=1024&w=579',\n",
       " '0555fv.jpg#h=1024&w=595',\n",
       " '0556fv.jpg#h=1024&w=582',\n",
       " '0557fv.jpg#h=1024&w=587',\n",
       " '0558fv.jpg#h=1024&w=598',\n",
       " '0559fv.jpg#h=1024&w=588',\n",
       " '0560fv.jpg#h=1024&w=583',\n",
       " '0561fv.jpg#h=1024&w=547',\n",
       " '0562fv.jpg#h=1024&w=551',\n",
       " '0563fv.jpg#h=1024&w=567',\n",
       " '0564fv.jpg#h=1024&w=580',\n",
       " '0565fv.jpg#h=1024&w=544',\n",
       " '0566fv.jpg#h=1024&w=559',\n",
       " '0567fv.jpg#h=1024&w=540',\n",
       " '0568fv.jpg#h=1024&w=554',\n",
       " '0569fv.jpg#h=1024&w=660',\n",
       " '0570fv.jpg#h=1024&w=664',\n",
       " '0571fv.jpg#h=1024&w=666',\n",
       " '0572fv.jpg#h=1024&w=669',\n",
       " '0573fv.jpg#h=1024&w=679',\n",
       " '0574fv.jpg#h=1024&w=672',\n",
       " '0575fv.jpg#h=1024&w=657',\n",
       " '0576fv.jpg#h=677&w=1024',\n",
       " '0577fv.jpg#h=1024&w=671',\n",
       " '0578fv.jpg#h=1024&w=656',\n",
       " '0579fv.jpg#h=1024&w=661',\n",
       " '0580fv.jpg#h=1024&w=674',\n",
       " '0581fv.jpg#h=1024&w=661',\n",
       " '0582fv.jpg#h=1024&w=672',\n",
       " '0583fv.jpg#h=1024&w=666',\n",
       " '0584fv.jpg#h=1024&w=658',\n",
       " '0585fv.jpg#h=1024&w=670',\n",
       " '0586fv.jpg#h=1024&w=671',\n",
       " '0587fv.jpg#h=1024&w=666',\n",
       " '0588fv.jpg#h=1024&w=672',\n",
       " '0589fv.jpg#h=1024&w=675',\n",
       " '0590fv.jpg#h=1024&w=689',\n",
       " '0591fv.jpg#h=1024&w=675',\n",
       " '0592fv.jpg#h=1024&w=676',\n",
       " '0593fv.jpg#h=1024&w=675',\n",
       " '0594fv.jpg#h=1024&w=681',\n",
       " '2064fv.jpg#h=926&w=1024',\n",
       " '2065fv.jpg#h=907&w=1024',\n",
       " '2066fv.jpg#h=904&w=1024',\n",
       " '2091fv.jpg#h=908&w=1024',\n",
       " '2092fv.jpg#h=918&w=1024',\n",
       " '2093fv.jpg#h=1024&w=582',\n",
       " '2094fv.jpg#h=1024&w=580',\n",
       " '2095fv.jpg#h=1024&w=591',\n",
       " '2096fv.jpg#h=1024&w=581',\n",
       " '2097fv.jpg#h=1024&w=576']"
      ]
     },
     "execution_count": 14,
     "metadata": {},
     "output_type": "execute_result"
    }
   ],
   "source": [
    "os.listdir(\"images\")"
   ]
  },
  {
   "cell_type": "markdown",
   "metadata": {},
   "source": [
    "This method works for situations where we you need a batch of images from one collection. However, if your images are from more than one collection, you might end up with files with the same name and end up overwriting them. And either way, these filenames don't tell you anything about the item. You might need to look up further metadata. So, here's an alternative approach that renames the file with the identifier used on the loc.gov website. We'll first re-fetch the image URL for each item and download the file, renaming it using the identifier. "
   ]
  },
  {
   "cell_type": "code",
   "execution_count": 15,
   "metadata": {},
   "outputs": [],
   "source": [
    "from urllib.parse import urlparse\n",
    "\n",
    "def get_and_save_images(results_url, path):\n",
    "    '''\n",
    "    Takes as input the url for the collection or results set\n",
    "    e.g. https://www.loc.gov/collections/baseball-cards\n",
    "    and a list of items (used for pagination)\n",
    "\n",
    "    Args:\n",
    "        results_url (str): The url for the collection.\n",
    "        path (str): The path in which images will be saved.\n",
    "    '''\n",
    "    params = {\"fo\": \"json\", \"c\": 100, \"at\": \"results,pagination\", \"dates\": \"1888\"} # remove the date parameter here to download the entire collection\n",
    "    call = requests.get(results_url, params=params)\n",
    "    data = call.json()\n",
    "    results = data['results']\n",
    "    for result in results:\n",
    "        # don't try to get images from the collection-level result or web page results\n",
    "        if \"collection\" not in result.get(\"original_format\") and \"web page\" not in result.get(\"original_format\"):\n",
    "            if result.get(\"image_url\"):\n",
    "                image = result.get(\"image_url\")[-1]\n",
    "                # create a filename that's the identifier portion of the item URL\n",
    "                identifier = urlparse(result[\"id\"])[2].rstrip('/')\n",
    "                identifier = identifier.split('/')[-1]\n",
    "                filename = \"{0}.jpg\".format(identifier)\n",
    "                filename = os.path.join(path, filename)\n",
    "            \n",
    "                # request the image and write to path\n",
    "                image_response = requests.get(image, stream=True)\n",
    "                with open(filename, 'wb') as fd:\n",
    "                    for chunk in image_response.iter_content(chunk_size=100000):\n",
    "                        fd.write(chunk)\n",
    "    \n",
    "    if data[\"pagination\"][\"next\"] is not None: # make sure we haven't hit the end of the pages\n",
    "        next_url = data[\"pagination\"][\"next\"]\n",
    "        print(\"getting next page: {0}\".format(next_url))\n",
    "        time.sleep(3) # timer to avoid API rate limits\n",
    "        get_and_save_images(next_url, path)"
   ]
  },
  {
   "cell_type": "code",
   "execution_count": 16,
   "metadata": {},
   "outputs": [],
   "source": [
    "os.mkdir(\"images-named\")"
   ]
  },
  {
   "cell_type": "code",
   "execution_count": 17,
   "metadata": {},
   "outputs": [],
   "source": [
    "get_and_save_images(\"https://www.loc.gov/collections/baseball-cards/\", \"images-named\")"
   ]
  },
  {
   "cell_type": "markdown",
   "metadata": {},
   "source": [
    "Let's take a quick look at the path for the directory to confirm that the images were downloaded. "
   ]
  },
  {
   "cell_type": "code",
   "execution_count": 18,
   "metadata": {},
   "outputs": [
    {
     "data": {
      "text/plain": [
       "['2007680728.jpg',\n",
       " '2007680729.jpg',\n",
       " '2007680730.jpg',\n",
       " '2007680731.jpg',\n",
       " '2007680732.jpg',\n",
       " '2007680733.jpg',\n",
       " '2007680734.jpg',\n",
       " '2007680735.jpg',\n",
       " '2007680736.jpg',\n",
       " '2007680737.jpg',\n",
       " '2007680738.jpg',\n",
       " '2007680739.jpg',\n",
       " '2007680740.jpg',\n",
       " '2007680741.jpg',\n",
       " '2007680742.jpg',\n",
       " '2007680743.jpg',\n",
       " '2007680744.jpg',\n",
       " '2007680745.jpg',\n",
       " '2007680746.jpg',\n",
       " '2007680747.jpg',\n",
       " '2007680748.jpg',\n",
       " '2007680749.jpg',\n",
       " '2007683700.jpg',\n",
       " '2007683701.jpg',\n",
       " '2007683702.jpg',\n",
       " '2007683703.jpg',\n",
       " '2007683704.jpg',\n",
       " '2007683705.jpg',\n",
       " '2007683706.jpg',\n",
       " '2007683750.jpg',\n",
       " '2007683751.jpg',\n",
       " '2007683752.jpg',\n",
       " '2007683753.jpg',\n",
       " '2007683754.jpg',\n",
       " '2007683755.jpg',\n",
       " '2007683756.jpg',\n",
       " '2007683757.jpg',\n",
       " '2007683758.jpg',\n",
       " '2007683759.jpg',\n",
       " '2007683760.jpg',\n",
       " '2007683761.jpg',\n",
       " '2007683762.jpg',\n",
       " '2007683763.jpg',\n",
       " '2007683764.jpg',\n",
       " '2007683765.jpg',\n",
       " '2007683766.jpg',\n",
       " '2007683767.jpg',\n",
       " '2007683768.jpg',\n",
       " '2007683769.jpg',\n",
       " '2007683770.jpg',\n",
       " '2007683771.jpg',\n",
       " '2007683772.jpg',\n",
       " '2007683773.jpg',\n",
       " '2007683774.jpg',\n",
       " '2007683775.jpg',\n",
       " '2007686953.jpg',\n",
       " '2008675214.jpg',\n",
       " '2008675215.jpg']"
      ]
     },
     "execution_count": 18,
     "metadata": {},
     "output_type": "execute_result"
    }
   ],
   "source": [
    "os.listdir(\"images-named\")"
   ]
  },
  {
   "cell_type": "markdown",
   "metadata": {},
   "source": [
    "### Connecting the image file to the metadata\n",
    "The filename the code creates is the item's identifier, so you reconstruct a URL for the item's metadata. For example, to examine at the metadata for the first item in the list, 2007680728.jpg, you can add ``https://www.loc.gov/item/`` before the identifier. \n",
    "\n",
    "``https://www.loc.gov/item/2007680728``\n",
    "\n",
    "You can also request the metadata in JSON format by adding ``?fo=json&at=item`` at the end. "
   ]
  },
  {
   "cell_type": "code",
   "execution_count": 19,
   "metadata": {},
   "outputs": [
    {
     "name": "stdout",
     "output_type": "stream",
     "text": [
      "{\n",
      "  \"_version_\": 1730886823385759746,\n",
      "  \"access_advisory\": \"Restricted access: Materials in this collection are extremely fragile and cannot be served.\",\n",
      "  \"access_restricted\": false,\n",
      "  \"aka\": [\n",
      "    \"http://www.loc.gov/pictures/collection/bbc/item/2007680728/\",\n",
      "    \"https://hdl.loc.gov/loc.pnp/bbc.0550b\",\n",
      "    \"http://www.loc.gov/item/2007680728/\",\n",
      "    \"http://www.loc.gov/pictures/item/2007680728/\",\n",
      "    \"https://hdl.loc.gov/loc.pnp/bbc.0550f\",\n",
      "    \"http://www.loc.gov/resource/bbc.0550f/\",\n",
      "    \"http://www.loc.gov/resource/bbc.0550b/\",\n",
      "    \"http://lccn.loc.gov/2007680728\"\n",
      "  ],\n",
      "  \"call_number\": \"LOT 13163-06, no. 1 [P&P]\",\n",
      "  \"campaigns\": [],\n",
      "  \"contributor_names\": [\n",
      "    \"Allen & Ginter, sponsor\"\n",
      "  ],\n",
      "  \"contributors\": [\n",
      "    {\n",
      "      \"allen & ginter\": \"https://www.loc.gov/search/?fa=contributor:allen+%26+ginter&fo=json\"\n",
      "    }\n",
      "  ],\n",
      "  \"control_number\": \"\",\n",
      "  \"created\": \"2016-04-21 00:37:59\",\n",
      "  \"created_published\": [\n",
      "    \"1888.\"\n",
      "  ],\n",
      "  \"created_published_date\": \"1888.\",\n",
      "  \"date\": \"1888-01-01\",\n",
      "  \"dates\": [\n",
      "    {\n",
      "      \"1888\": \"https://www.loc.gov/search/?dates=1888/1888&fo=json\"\n",
      "    }\n",
      "  ],\n",
      "  \"description\": [\n",
      "    \"1 print : chromolithograph.\"\n",
      "  ],\n",
      "  \"digital_id\": [\n",
      "    \"bbc 0550f //hdl.loc.gov/loc.pnp/bbc.0550f\",\n",
      "    \"bbc 0550b //hdl.loc.gov/loc.pnp/bbc.0550b\"\n",
      "  ],\n",
      "  \"digitized\": true,\n",
      "  \"display_offsite\": true,\n",
      "  \"extract_timestamp\": \"2021-09-01T23:14:07.225Z\",\n",
      "  \"extract_urls\": [\n",
      "    \"http://www.loc.gov/pictures/collection/bbc/item/2007680728/#bbc\",\n",
      "    \"http://lccn.loc.gov/2007680728#catalog-split-08\"\n",
      "  ],\n",
      "  \"format\": [\n",
      "    {\n",
      "      \"photo, print, drawing\": \"https://www.loc.gov/search/?fa=original_format:photo,+print,+drawing&fo=json\"\n",
      "    }\n",
      "  ],\n",
      "  \"format_headings\": [\n",
      "    \"Baseball cards--1880-1890.\",\n",
      "    \"Chromolithographs--Color--1880-1890.\"\n",
      "  ],\n",
      "  \"genre\": [\n",
      "    \"Baseball cards--1880-1890\",\n",
      "    \"Chromolithographs--Color--1880-1890\"\n",
      "  ],\n",
      "  \"group\": [\n",
      "    \"bbc\",\n",
      "    \"catalog-split-08\",\n",
      "    \"catalog\",\n",
      "    \"baseball-cards\",\n",
      "    \"main-catalog-split-08\",\n",
      "    \"main-catalog\"\n",
      "  ],\n",
      "  \"hassegments\": false,\n",
      "  \"id\": \"http://www.loc.gov/item/2007680728/\",\n",
      "  \"image_url\": [\n",
      "    \"https://tile.loc.gov/storage-services/service/pnp/bbc/0500/0550/0550f_150px.jpg#h=150&w=81\",\n",
      "    \"https://tile.loc.gov/storage-services/service/pnp/bbc/0500/0550/0550ft.gif#h=150&w=81\",\n",
      "    \"https://tile.loc.gov/storage-services/service/pnp/bbc/0500/0550/0550fr.jpg#h=640&w=346\",\n",
      "    \"https://tile.loc.gov/storage-services/service/pnp/bbc/0500/0550/0550fv.jpg#h=1024&w=554\"\n",
      "  ],\n",
      "  \"index\": 1,\n",
      "  \"item\": {\n",
      "    \"access_advisory\": \"Restricted access: Materials in this collection are extremely fragile and cannot be served.\",\n",
      "    \"call_number\": \"LOT 13163-06, no. 1 [P&P]\",\n",
      "    \"contributor_names\": [\n",
      "      \"Allen & Ginter, sponsor \"\n",
      "    ],\n",
      "    \"contributors\": [\n",
      "      \"Allen & Ginter, sponsor.\"\n",
      "    ],\n",
      "    \"control_number\": \"2007680728\",\n",
      "    \"created\": \"2016-04-21 00:37:59\",\n",
      "    \"created_published\": \"1888.\",\n",
      "    \"created_published_date\": \"1888.\",\n",
      "    \"creators\": [\n",
      "      {\n",
      "        \"link\": \"//www.loc.gov/pictures/related/?fi=name&q=Allen%20%26%20Ginter&co=bbc\",\n",
      "        \"role\": \"sponsor\",\n",
      "        \"title\": \"Allen & Ginter\"\n",
      "      }\n",
      "    ],\n",
      "    \"date\": \"1888.\",\n",
      "    \"digital_id\": [\n",
      "      \"bbc 0550f //hdl.loc.gov/loc.pnp/bbc.0550f\",\n",
      "      \"bbc 0550b //hdl.loc.gov/loc.pnp/bbc.0550b\"\n",
      "    ],\n",
      "    \"display_offsite\": true,\n",
      "    \"format\": [\n",
      "      \"still image\"\n",
      "    ],\n",
      "    \"formats\": [\n",
      "      {\n",
      "        \"link\": \"//www.loc.gov/pictures/related/?fi=format&q=Baseball%20cards--1880-1890.&co=bbc\",\n",
      "        \"title\": \"Baseball cards--1880-1890.\"\n",
      "      },\n",
      "      {\n",
      "        \"link\": \"//www.loc.gov/pictures/related/?fi=format&q=Chromolithographs--Color--1880-1890.&co=bbc\",\n",
      "        \"title\": \"Chromolithographs--Color--1880-1890.\"\n",
      "      }\n",
      "    ],\n",
      "    \"genre\": [\n",
      "      \"Baseball cards--1880-1890\",\n",
      "      \"Chromolithographs--Color--1880-1890\"\n",
      "    ],\n",
      "    \"id\": \"2007680728\",\n",
      "    \"language\": [\n",
      "      \"eng\"\n",
      "    ],\n",
      "    \"link\": \"//www.loc.gov/pictures/item/2007680728/\",\n",
      "    \"marc\": \"//www.loc.gov/pictures/item/2007680728/marc/\",\n",
      "    \"medium\": [\n",
      "      \"1 print : chromolithograph.\"\n",
      "    ],\n",
      "    \"medium_brief\": \"1 print :\",\n",
      "    \"mediums\": [\n",
      "      \"1 print : chromolithograph.\"\n",
      "    ],\n",
      "    \"modified\": \"2016-04-21 00:37:59\",\n",
      "    \"notes\": [\n",
      "      \"Baseball card title devised by Library staff.\",\n",
      "      \"Issued by: Allen & Ginter Company\",\n",
      "      \"\\\"Morrell\\\"- -caption on card.\",\n",
      "      \"Forms part of: Baseball cards from the Benjamin K. Edwards Collection.\"\n",
      "    ],\n",
      "    \"other_title\": [\n",
      "      \"Card set: Allen & Ginter World's Champions (N29)\"\n",
      "    ],\n",
      "    \"part_of\": \"Baseball cards from the Benjamin K. Edwards Collection\",\n",
      "    \"repository\": \"Library of Congress Prints and Photographs Division Washington, D.C. 20540 USA\",\n",
      "    \"reproduction_number\": \"LC-DIG-bbc-0550f (digital file from original, front)\\nLC-DIG-bbc-0550b (digital file from original, back)\",\n",
      "    \"resource_links\": [\n",
      "      \"//hdl.loc.gov/loc.pnp/bbc.0550f\",\n",
      "      \"//hdl.loc.gov/loc.pnp/bbc.0550b\"\n",
      "    ],\n",
      "    \"restriction\": \"Restricted access: Materials in this collection are extremely fragile and cannot be served.\",\n",
      "    \"rights_advisory\": \"No known restrictions on publication.\",\n",
      "    \"rights_information\": \"No known restrictions on publication.\",\n",
      "    \"service_low\": \"https://tile.loc.gov/storage-services/service/pnp/bbc/0500/0550/0550f_150px.jpg\",\n",
      "    \"service_medium\": \"https://tile.loc.gov/storage-services/service/pnp/bbc/0500/0550/0550fr.jpg\",\n",
      "    \"sort_date\": \"1888\",\n",
      "    \"source_collection\": [\n",
      "      \"Baseball cards from the Benjamin K. Edwards Collection\"\n",
      "    ],\n",
      "    \"source_created\": \"2007-08-10 00:00:00\",\n",
      "    \"source_modified\": \"2007-08-10 08:00:27\",\n",
      "    \"subject_headings\": [\n",
      "      \"Morrill, John (Team member)\",\n",
      "      \"Boston Beaneaters\",\n",
      "      \"Boston\",\n",
      "      \"National League\",\n",
      "      \"first baseman\"\n",
      "    ],\n",
      "    \"subjects\": [\n",
      "      \"Morrill, John (Team member)\",\n",
      "      \"Boston Beaneaters\",\n",
      "      \"Boston\",\n",
      "      \"National League\",\n",
      "      \"first baseman\"\n",
      "    ],\n",
      "    \"thumb_gallery\": \"https://tile.loc.gov/storage-services/service/pnp/bbc/0500/0550/0550f_150px.jpg\",\n",
      "    \"title\": \"[John Morrill, Boston Beaneaters, baseball card portrait]\"\n",
      "  },\n",
      "  \"language\": [\n",
      "    \"english\"\n",
      "  ],\n",
      "  \"languages\": [\n",
      "    {\n",
      "      \"english\": \"https://www.loc.gov/search/?fa=language:english&fo=json\"\n",
      "    }\n",
      "  ],\n",
      "  \"library_of_congress_control_number\": \"2007680728\",\n",
      "  \"link\": \"//www.loc.gov/pictures/item/2007680728/\",\n",
      "  \"marc\": \"//www.loc.gov/pictures/item/2007680728/marc/\",\n",
      "  \"medium\": [\n",
      "    \"1 print : chromolithograph.\"\n",
      "  ],\n",
      "  \"medium_brief\": \"1 print :\",\n",
      "  \"mime_type\": [\n",
      "    \"image/gif\",\n",
      "    \"image/jpg\",\n",
      "    \"image/tif\"\n",
      "  ],\n",
      "  \"modified\": \"2016-04-21 00:37:59\",\n",
      "  \"notes\": [\n",
      "    \"Baseball card title devised by Library staff.\",\n",
      "    \"Issued by: Allen & Ginter Company\",\n",
      "    \"\\\"Morrell\\\"- -caption on card.\",\n",
      "    \"Forms part of: Baseball cards from the Benjamin K. Edwards Collection.\"\n",
      "  ],\n",
      "  \"number\": [\n",
      "    \"2007-08-10t08:00:27\",\n",
      "    \"2007680728\"\n",
      "  ],\n",
      "  \"number_lccn\": [\n",
      "    \"2007680728\"\n",
      "  ],\n",
      "  \"number_source_modified\": [\n",
      "    \"2007-08-10t08:00:27\"\n",
      "  ],\n",
      "  \"online_format\": [\n",
      "    \"image\"\n",
      "  ],\n",
      "  \"original_format\": [\n",
      "    \"photo, print, drawing\"\n",
      "  ],\n",
      "  \"other_formats\": [\n",
      "    {\n",
      "      \"label\": \"MARCXML Record\",\n",
      "      \"link\": \"https://lccn.loc.gov/2007680728/marcxml\"\n",
      "    },\n",
      "    {\n",
      "      \"label\": \"MODS Record\",\n",
      "      \"link\": \"https://lccn.loc.gov/2007680728/mods\"\n",
      "    },\n",
      "    {\n",
      "      \"label\": \"Dublin Core Record\",\n",
      "      \"link\": \"https://lccn.loc.gov/2007680728/dc\"\n",
      "    }\n",
      "  ],\n",
      "  \"other_title\": [\n",
      "    \"Allen & Ginter World's Champions (N29)\"\n",
      "  ],\n",
      "  \"partof\": [\n",
      "    {\n",
      "      \"count\": 2085,\n",
      "      \"title\": \"lot 13163\",\n",
      "      \"url\": \"https://www.loc.gov/search/?fa=partof:lot+13163&fo=json\"\n",
      "    },\n",
      "    {\n",
      "      \"count\": 2122,\n",
      "      \"title\": \"baseball cards, 1887-1914\",\n",
      "      \"url\": \"https://www.loc.gov/search/?fa=partof:baseball+cards,+1887-1914&fo=json\"\n",
      "    },\n",
      "    {\n",
      "      \"count\": 2129,\n",
      "      \"title\": \"baseball cards\",\n",
      "      \"url\": \"https://www.loc.gov/collections/baseball-cards/?fo=json\"\n",
      "    },\n",
      "    {\n",
      "      \"count\": 437954,\n",
      "      \"title\": \"american memory\",\n",
      "      \"url\": \"https://www.loc.gov/search/?fa=partof:american+memory&fo=json\"\n",
      "    },\n",
      "    {\n",
      "      \"count\": 937114,\n",
      "      \"title\": \"prints & photographs online catalog (library of congress)\",\n",
      "      \"url\": \"https://www.loc.gov/search/?fa=partof:prints+%26+photographs+online+catalog+%28library+of+congress%29&fo=json\"\n",
      "    },\n",
      "    {\n",
      "      \"count\": 1104158,\n",
      "      \"title\": \"prints and photographs division\",\n",
      "      \"url\": \"https://www.loc.gov/search/?fa=partof:prints+and+photographs+division&fo=json\"\n",
      "    },\n",
      "    {\n",
      "      \"count\": 1668717,\n",
      "      \"title\": \"catalog\",\n",
      "      \"url\": \"https://www.loc.gov/search/?fa=partof:catalog&fo=json\"\n",
      "    }\n",
      "  ],\n",
      "  \"related\": {\n",
      "    \"group_record\": \"//www.loc.gov/pictures/search/?q=LOT 13163&fi=number&op=PHRASE&va=exact&co=coll&sg=true\",\n",
      "    \"neighbors\": \"//www.loc.gov/pictures/related/?&co=bbc&pk=2007680728&st=gallery&sb=call_number#focus\"\n",
      "  },\n",
      "  \"repository\": [\n",
      "    \"Library of Congress Prints and Photographs Division Washington, D.C. 20540 USA\"\n",
      "  ],\n",
      "  \"reproduction_number\": \"LC-DIG-bbc-0550f (digital file from original, front)\\nLC-DIG-bbc-0550b (digital file from original, back)\",\n",
      "  \"reproductions\": [],\n",
      "  \"resource_links\": [\n",
      "    \"//hdl.loc.gov/loc.pnp/bbc.0550f\",\n",
      "    \"//hdl.loc.gov/loc.pnp/bbc.0550b\"\n",
      "  ],\n",
      "  \"resources\": [\n",
      "    {\n",
      "      \"caption\": \"digital file from original, front\",\n",
      "      \"files\": 1,\n",
      "      \"image\": \"https://tile.loc.gov/storage-services/service/pnp/bbc/0500/0550/0550f_150px.jpg\",\n",
      "      \"url\": \"https://www.loc.gov/resource/bbc.0550f/\"\n",
      "    },\n",
      "    {\n",
      "      \"caption\": \"digital file from original, back\",\n",
      "      \"files\": 1,\n",
      "      \"image\": \"https://tile.loc.gov/storage-services/service/pnp/bbc/0500/0550/0550b_150px.jpg\",\n",
      "      \"url\": \"https://www.loc.gov/resource/bbc.0550b/\"\n",
      "    }\n",
      "  ],\n",
      "  \"restriction\": \"Restricted access: Materials in this collection are extremely fragile and cannot be served.\",\n",
      "  \"rights\": [\n",
      "    \"<p>The Library of Congress does not&nbsp;own rights to material  in its collections. Therefore, it does not license or charge permission fees  for use of such material and cannot grant or deny permission to publish or  otherwise distribute the material. </p>\\n<p>Ultimately, it is the researcher's obligation to assess copyright or other use restrictions and  obtain permission from third parties when necessary before publishing or  otherwise distributing materials found in the Library's collections. </p>\\n<p>For information about reproducing,  publishing, and citing material from this collection, as well as access to the  original items, see: <a href=\\\"https://www.loc.gov/rr/print/res/620_base.html\\\">Baseball Cards from the Benjamin K. Edwards Collection - Rights and Restrictions Information</a> </p>\\n\\n\"\n",
      "  ],\n",
      "  \"rights_advisory\": \"No known restrictions on publication.\",\n",
      "  \"rights_information\": \"No known restrictions on publication.\",\n",
      "  \"score\": 19.270575,\n",
      "  \"shard\": \"00\",\n",
      "  \"shelf_id\": \"LOT 13163-06, no. 1 [P&P]\",\n",
      "  \"site\": [\n",
      "    \"pictures\",\n",
      "    \"catalog\"\n",
      "  ],\n",
      "  \"sort_date\": \"1888\",\n",
      "  \"source_collection\": \"Baseball cards from the Benjamin K. Edwards Collection\",\n",
      "  \"source_created\": \"2007-08-10 00:00:00\",\n",
      "  \"source_modified\": \"2007-08-10 08:00:27\",\n",
      "  \"subject\": [\n",
      "    \"first baseman\",\n",
      "    \"morrill, john (team member)\",\n",
      "    \"boston\",\n",
      "    \"boston beaneaters\",\n",
      "    \"national league\",\n",
      "    \"chromolithographs\",\n",
      "    \"color\",\n",
      "    \"baseball cards\"\n",
      "  ],\n",
      "  \"subject_headings\": [\n",
      "    \"Morrill, John (Team member)\",\n",
      "    \"Boston Beaneaters\",\n",
      "    \"Boston\",\n",
      "    \"National League\",\n",
      "    \"first baseman\"\n",
      "  ],\n",
      "  \"subjects\": [\n",
      "    {\n",
      "      \"baseball cards\": \"https://www.loc.gov/search/?fa=subject:baseball+cards&fo=json\"\n",
      "    },\n",
      "    {\n",
      "      \"boston\": \"https://www.loc.gov/search/?fa=subject:boston&fo=json\"\n",
      "    },\n",
      "    {\n",
      "      \"boston beaneaters\": \"https://www.loc.gov/search/?fa=subject:boston+beaneaters&fo=json\"\n",
      "    },\n",
      "    {\n",
      "      \"chromolithographs\": \"https://www.loc.gov/search/?fa=subject:chromolithographs&fo=json\"\n",
      "    },\n",
      "    {\n",
      "      \"color\": \"https://www.loc.gov/search/?fa=subject:color&fo=json\"\n",
      "    },\n",
      "    {\n",
      "      \"first baseman\": \"https://www.loc.gov/search/?fa=subject:first+baseman&fo=json\"\n",
      "    },\n",
      "    {\n",
      "      \"morrill, john (team member)\": \"https://www.loc.gov/search/?fa=subject:morrill,+john+%28team+member%29&fo=json\"\n",
      "    },\n",
      "    {\n",
      "      \"national league\": \"https://www.loc.gov/search/?fa=subject:national+league&fo=json\"\n",
      "    }\n",
      "  ],\n",
      "  \"thumb_gallery\": \"https://tile.loc.gov/storage-services/service/pnp/bbc/0500/0550/0550f_150px.jpg\",\n",
      "  \"timestamp\": \"2022-04-23T08:25:07.832Z\",\n",
      "  \"title\": \"[John Morrill, Boston Beaneaters, baseball card portrait]\",\n",
      "  \"type\": [\n",
      "    \"photo, print, drawing\"\n",
      "  ],\n",
      "  \"unrestricted\": true,\n",
      "  \"url\": \"https://www.loc.gov/item/2007680728/\"\n",
      "}\n"
     ]
    }
   ],
   "source": [
    "r = requests.get(\"https://www.loc.gov/item/2007680728/?fo=json\")\n",
    "r_data = r.json()\n",
    "print(json.dumps(r_data[\"item\"], indent=2))"
   ]
  },
  {
   "cell_type": "markdown",
   "metadata": {},
   "source": [
    "## Conclusion\n",
    "\n",
    "Access to batches of images opens up the door to new forms of analysis, research, and experimentation. \n",
    "\n",
    "We've shown where you can find information about rights and restrictions on use of images, how to find the image URLs in the API response, and how to save images if your analysis requires having the files on disk. \n",
    "\n",
    "Best of luck with your searching and let us know how your project goes!"
   ]
  }
 ],
 "metadata": {
  "kernelspec": {
   "display_name": "Python 3 (ipykernel)",
   "language": "python",
   "name": "python3"
  },
  "language_info": {
   "codemirror_mode": {
    "name": "ipython",
    "version": 3
   },
   "file_extension": ".py",
   "mimetype": "text/x-python",
   "name": "python",
   "nbconvert_exporter": "python",
   "pygments_lexer": "ipython3",
   "version": "3.11.10"
  }
 },
 "nbformat": 4,
 "nbformat_minor": 4
}
