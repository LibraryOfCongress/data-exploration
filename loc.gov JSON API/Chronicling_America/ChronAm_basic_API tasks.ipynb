{
 "cells": [
  {
   "cell_type": "markdown",
   "metadata": {
    "id": "KTuN_JfAAMBq"
   },
   "source": [
    "# Learning and Applying Basic API Tasks in Chronicling America\n",
    "\n",
    "This notebook is meant to teach you some of the basic API tasks you'll encounter using the loc.gov API.\n",
    "\n",
    "Feel free to download this notebook and run with your own search query.\n",
    "\n",
    "\n",
    "---\n",
    "\n",
    "The first thing you want to do is import modules. Modules contain Python definitions and statements that you will need in order for the scripts to run."
   ]
  },
  {
   "cell_type": "markdown",
   "metadata": {
    "id": "-oiIj6YHAMk4"
   },
   "source": [
    "## Importing Modules\n",
    "The following modules are some of the most common you will be needing.\n",
    "\n",
    "---\n",
    "To import the modules you need for this notebook, simply run the following code below.\n"
   ]
  },
  {
   "cell_type": "code",
   "execution_count": 5,
   "metadata": {
    "executionInfo": {
     "elapsed": 143,
     "status": "ok",
     "timestamp": 1712118023756,
     "user": {
      "displayName": "Mike Saelee",
      "userId": "09356275809855701196"
     },
     "user_tz": 240
    },
    "id": "yLso9acSAOym"
   },
   "outputs": [],
   "source": [
    "import requests\n",
    "import pandas as pd\n",
    "import os\n",
    "import pprint\n",
    "import re"
   ]
  },
  {
   "cell_type": "markdown",
   "metadata": {
    "id": "IOrieHBkAVqo"
   },
   "source": [
    "## Define and perform a query\n",
    "\n",
    "After importing modules, you will typically define your query by pasting your API Query URL.\n",
    "\n",
    "- In more complicated queries, you would also run functions which can refine your search.\n",
    "\n",
    "- Your results will need to be read in JSON format so make sure \"&fo=json\" is at the end of your API Query URL.\n",
    "\n",
    "---\n",
    "\n",
    "1. Paste your Search Query URL into the `locgov_url_search = '{URL}'`\n",
    "2. Make sure the search query URL has `&fo=json` at the end\n",
    "3. When ready, Run the code."
   ]
  },
  {
   "cell_type": "code",
   "execution_count": 6,
   "metadata": {
    "executionInfo": {
     "elapsed": 335,
     "status": "ok",
     "timestamp": 1712117336109,
     "user": {
      "displayName": "Mike Saelee",
      "userId": "09356275809855701196"
     },
     "user_tz": 240
    },
    "id": "qHK2S-tZACIx"
   },
   "outputs": [],
   "source": [
    "# Define your query URL\n",
    "locgov_url_search = 'https://www.loc.gov/collections/chronicling-america/?dl=page&end_date=1924-12-31&ops=PHRASE&qs=clara+bow&searchType=advanced&start_date=1924-10-01&location_state=california&fo=json'\n",
    "\n",
    "# Run the query using the API\n",
    "api_query = requests.get(locgov_url_search)\n",
    "\n",
    "# Tell Python to read the results as json\n",
    "search_result = api_query.json()\n"
   ]
  },
  {
   "cell_type": "markdown",
   "metadata": {
    "id": "W5Ls49xwGsg3"
   },
   "source": [
    "## Print out Metadata from the first result\n",
    "\n",
    "After performing the query, typically you want to perform some sort of task.\n",
    "\n",
    "For the task here, you will print out the first results of the search query in JSON format. Notice the metadata elements on the left of each row.\n",
    "\n",
    "---\n",
    "1. Simply press run. If you would rather see the second result, change the 0 to 1 before you press run."
   ]
  },
  {
   "cell_type": "code",
   "execution_count": 7,
   "metadata": {
    "colab": {
     "base_uri": "https://localhost:8080/"
    },
    "executionInfo": {
     "elapsed": 142,
     "status": "ok",
     "timestamp": 1712117409997,
     "user": {
      "displayName": "Mike Saelee",
      "userId": "09356275809855701196"
     },
     "user_tz": 240
    },
    "id": "CUWYD1xyGsTX",
    "outputId": "e1469c7e-1130-43bd-8643-b5570c463bd8"
   },
   "outputs": [
    {
     "name": "stdout",
     "output_type": "stream",
     "text": [
      "{'access_restricted': False,\n",
      " 'aka': ['http://www.loc.gov/resource/sn92070146/1924-11-20/ed-1/?sp=6'],\n",
      " 'batch': ['curiv_ocotillo_ver01'],\n",
      " 'campaigns': [],\n",
      " 'composite_location': ['0/united states/',\n",
      "                        '1/united states/california/',\n",
      "                        '2/united states/california/imperial/',\n",
      "                        '3/united states/california/imperial/el centro/'],\n",
      " 'contributor': ['university of california, riverside; riverside, ca'],\n",
      " 'date': '1924-11-20',\n",
      " 'dates': ['1924-11-20'],\n",
      " 'description': ['6 PURPORTED LOVE AFFAIRS OF WOODROW WILSON LABELED AS BASE '\n",
      "                 'LIES BY NOTED EDITOR EMpORIA Kan Nov 20The flew of Woodrow '\n",
      "                 'Wilson Amer nN wn r f I1P president to Mrs fare Peck which '\n",
      "                 'were mentioned 1 Wilsons so vailed love fairs contain the '\n",
      "                 'casual friend gossipy self expression of a de ni einrin to '\n",
      "                 'an honest woman I illiam Allen White noted editor d auilior '\n",
      "                 'declared in an inter w with the United Press here duv r r '\n",
      "                 'White in discussing the use of le WilsonPeck letters '\n",
      "                 'incident in is recent book The Life of Wood on Wilson '\n",
      "                 'declared he included I because it is revealing and be I ause '\n",
      "                 'honesty and candor seems to require it gc All the miserable '\n",
      "                 'buzzing and Hie Whole line of myths about Wilsons love '\n",
      "                 'affairs were ut terly false the Emporia editor de elafed I '\n",
      "                 'Mj Wilson was the victim of a foul slander arising out of '\n",
      "                 'the Bruriotlk mob psychology of salacious minds I Mrs Peck '\n",
      "                 'was on friendly and affectionate terms with the Wilson '\n",
      "                 'family I knew her before her di BvoreJrqm Air Peek She is a '\n",
      "                 'wo linan of the most dainty and exqui site spirit joyous '\n",
      "                 'innocent beau'],\n",
      " 'digitized': True,\n",
      " 'extract_timestamp': '2023-09-04T23:04:51.792Z',\n",
      " 'group': ['ndnp/curiv',\n",
      "           'university-of-california-riverside-riverside-ca-awardee'],\n",
      " 'hassegments': False,\n",
      " 'id': 'http://www.loc.gov/resource/sn92070146/1924-11-20/ed-1/?sp=6',\n",
      " 'image_url': ['https://tile.loc.gov/image-services/iiif/service:ndnp:curiv:batch_curiv_ocotillo_ver01:data:sn92070146:00414189696:1924112001:1270/full/pct:6.25/0/default.jpg#h=462&w=365',\n",
      "               'https://tile.loc.gov/image-services/iiif/service:ndnp:curiv:batch_curiv_ocotillo_ver01:data:sn92070146:00414189696:1924112001:1270/full/pct:12.5/0/default.jpg#h=925&w=730',\n",
      "               'https://tile.loc.gov/text-services/word-coordinates-service?segment=/service/ndnp/curiv/batch_curiv_ocotillo_ver01/data/sn92070146/00414189696/1924112001/1270.xml&format=alto_xml'],\n",
      " 'index': 1,\n",
      " 'language': ['english'],\n",
      " 'location': ['imperial county',\n",
      "              'united states',\n",
      "              'imperial',\n",
      "              'san diego county',\n",
      "              'california',\n",
      "              'el centro'],\n",
      " 'location_city': ['el centro'],\n",
      " 'location_country': ['united states'],\n",
      " 'location_county': ['imperial'],\n",
      " 'location_state': ['california'],\n",
      " 'mime_type': ['image/jp2',\n",
      "               'application/pdf',\n",
      "               'text/xml',\n",
      "               'image/jpeg',\n",
      "               'image/jpeg',\n",
      "               'application/json',\n",
      "               'text/plain'],\n",
      " 'number': ['sn92070146', '0000000006', '1', '0', '4', '6', '9', '8'],\n",
      " 'number_edition': ['1'],\n",
      " 'number_lccn': ['sn92070146'],\n",
      " 'number_page': ['0000000006'],\n",
      " 'number_reel': ['0', '0', '4', '1', '4', '1', '8', '9', '6', '9', '6'],\n",
      " 'online_format': ['image', 'pdf', 'online text'],\n",
      " 'original_format': ['newspaper'],\n",
      " 'other_title': ['Imperial Valley press and El Centro progress',\n",
      "                 'Post-press',\n",
      "                 'Imperial Valley news-press',\n",
      "                 'Imperial Valley press/Brawley news',\n",
      "                 'Morning post-Imperial Valley press',\n",
      "                 'At head of title: Extra Imperial Valley press'],\n",
      " 'page_coordinate_data': {'coords_list': [[18161.0, 8627.0, 378.0, 104.0],\n",
      "                                          [18638.0, 8622.0, 335.0, 128.0],\n",
      "                                          [19748.0, 4091.0, 326.0, 128.0]],\n",
      "                          'height': '29600',\n",
      "                          'relevant_snippet': '... “doubling” for an '\n",
      "                                              \"'induction coil, \"\n",
      "                                              '[[tag]]Clara[[/tag]]. '\n",
      "                                              '[[tag]]Bow[[/tag]], ingenue '\n",
      "                                              'film actress, and considered '\n",
      "                                              \"'one of Important Notice BARNES \"\n",
      "                                              'GREATS.RING 1 MB OwiNGr TO THE '\n",
      "                                              'UNUSUAL AMOUNT OF PREPARATION '\n",
      "                                              'NECESSARY TOO THE— PRODUCTION '\n",
      "                                              'OF\" TI—IE— AAArriVE '\n",
      "                                              \"JFPECTAC.LE- IZ^^HECOURT'OF \"\n",
      "                                              'QUEEN ANNE, AN C OUR. DCS iCiEZ '\n",
      "                                              'TO START TWC PE7RFOR.M AN/CC '\n",
      "                                              'PDONAOTLN\\\\ A/O .STREET PARADE '\n",
      "                                              'i WIUV BE GIVtW THM* 111111 1 '\n",
      "                                              \"L- ——T HI UIIB.W T'BMm El \"\n",
      "                                              'Centro 9J.f 11 Monday, Nov. LU. '\n",
      "                                              'GRAND STAND CHAIR SEATS ON SALE '\n",
      "                                              'AT VALLEY DRUG CO. Thursday, '\n",
      "                                              'Novrnhvr 0. H e fed*. burned on '\n",
      "                                              'one the fllniin\" f tonight at '\n",
      "                                              \"The n -i.| r freak electric g' \"\n",
      "                                              'platinum ring -.1 buckle termed '\n",
      "                                              \"I' a complete t the girl's Im \"\n",
      "                                              'It. ...',\n",
      "                          'searchTerms': {'bow': [[18638.0,\n",
      "                                                   8622.0,\n",
      "                                                   335.0,\n",
      "                                                   128.0],\n",
      "                                                  [19748.0,\n",
      "                                                   4091.0,\n",
      "                                                   326.0,\n",
      "                                                   128.0]],\n",
      "                                          'clara': [[18161.0,\n",
      "                                                     8627.0,\n",
      "                                                     378.0,\n",
      "                                                     104.0]]},\n",
      "                          'width': '23372'},\n",
      " 'page_id': 'sn92070146-1924-11-20-ed-1-1270',\n",
      " 'partof': ['imperial valley press (el centro, calif.) 1907-current',\n",
      "            'serial and government publications division',\n",
      "            'chronicling america'],\n",
      " 'partof_collection': ['chronicling america'],\n",
      " 'partof_division': ['serial and government publications division'],\n",
      " 'partof_title': ['imperial valley press (el centro, calif.) 1907-current'],\n",
      " 'publication_frequency': ['daily'],\n",
      " 'resources': [{'files': 1,\n",
      "                'url': 'https://www.loc.gov/resource/sn92070146/1924-11-20/ed-1/?sp=6'}],\n",
      " 'segmentof': ['http://www.loc.gov/resource/sn92070146/1924-11-20/ed-1/'],\n",
      " 'shelf_id': '6',\n",
      " 'site': ['chroniclingamerica'],\n",
      " 'subject': ['imperial county',\n",
      "             'united states',\n",
      "             'el centro',\n",
      "             'san diego county (calif.)',\n",
      "             'newspapers',\n",
      "             'imperial county (calif.)',\n",
      "             'san diego county',\n",
      "             'california',\n",
      "             'imperial'],\n",
      " 'timestamp': '2023-09-05T23:44:39.604Z',\n",
      " 'title': 'Image 6 of Imperial Valley press (El Centro, Calif.), November 20, '\n",
      "          '1924',\n",
      " 'type': ['segment'],\n",
      " 'url': 'https://www.loc.gov/resource/sn92070146/1924-11-20/ed-1/?sp=6&q=clara+bow',\n",
      " 'word_coordinates_url': 'https://tile.loc.gov/text-services/word-coordinates-service?q=clara+bow&relevant_snippet=1&segment=%2Fservice%2Fndnp%2Fcuriv%2Fbatch_curiv_ocotillo_ver01%2Fdata%2Fsn92070146%2F00414189696%2F1924112001%2F1270.xml&format=alto_xml'}\n"
     ]
    }
   ],
   "source": [
    "# Look at the first record in the results section\n",
    "first_result = search_result['results'][0]\n",
    "pprint.pprint(first_result)"
   ]
  },
  {
   "cell_type": "markdown",
   "metadata": {
    "id": "plIrP4AQAeFM"
   },
   "source": [
    "In the previous step, you created a JSON output of the metadata.\n",
    "\n",
    "If you want to print out specific metadata from the JSON output, here is an example with some of the most common metadata fields for newspapers:\n",
    "\n",
    "---\n",
    "1. Press run to print. You can also go through the JSON to test other metadata elements.\n"
   ]
  },
  {
   "cell_type": "code",
   "execution_count": 9,
   "metadata": {
    "colab": {
     "base_uri": "https://localhost:8080/"
    },
    "executionInfo": {
     "elapsed": 125,
     "status": "ok",
     "timestamp": 1712117112304,
     "user": {
      "displayName": "Mike Saelee",
      "userId": "09356275809855701196"
     },
     "user_tz": 240
    },
    "id": "LHvD7GEDAfDM",
    "outputId": "5e3ea88d-7bf3-4144-a351-61ac6b2a3670"
   },
   "outputs": [
    {
     "name": "stdout",
     "output_type": "stream",
     "text": [
      "Page/Title Description:\n",
      "'Image 6 of Imperial Valley press (El Centro, Calif.), November 20, 1924'\n",
      "\n",
      "Date:\n",
      "'1924-11-20'\n",
      "\n",
      "Edition Number:\n",
      "['1']\n",
      "\n",
      "Newspaper Title:\n",
      "['imperial valley press (el centro, calif.) 1907-current']\n",
      "\n",
      "LCCN:\n",
      "['sn92070146']\n",
      "\n",
      "Frequency:\n",
      "['daily']\n",
      "\n",
      "State:\n",
      "['california']\n",
      "\n",
      "County\n",
      "['imperial']\n",
      "\n",
      "City:\n",
      "['el centro']\n",
      "\n",
      "Language:\n",
      "['english']\n",
      "\n",
      "Link to Newspaper Page:\n",
      "'http://www.loc.gov/resource/sn92070146/1924-11-20/ed-1/?sp=6'\n",
      "\n",
      "Link to Newspaper Issue:\n",
      "['http://www.loc.gov/resource/sn92070146/1924-11-20/ed-1/']\n",
      "\n",
      "Collection:\n",
      "['chronicling america']\n",
      "\n",
      "Batch Name:\n",
      "['curiv_ocotillo_ver01']\n",
      "\n",
      "Contributor:\n",
      "['ndnp/curiv', 'university-of-california-riverside-riverside-ca-awardee']\n"
     ]
    }
   ],
   "source": [
    "print('Page/Title Description:')\n",
    "pprint.pprint(first_result[\"title\"])\n",
    "\n",
    "print('\\nDate:')\n",
    "pprint.pprint(first_result[\"date\"])\n",
    "\n",
    "print('\\nEdition Number:')\n",
    "pprint.pprint(first_result[\"number_edition\"])\n",
    "\n",
    "print('\\nNewspaper Title:')\n",
    "pprint.pprint(first_result[\"partof_title\"])\n",
    "\n",
    "print('\\nLCCN:')\n",
    "pprint.pprint(first_result[\"number_lccn\"])\n",
    "\n",
    "print('\\nFrequency:')\n",
    "pprint.pprint(first_result[\"publication_frequency\"])\n",
    "\n",
    "print('\\nState:')\n",
    "pprint.pprint(first_result[\"location_state\"])\n",
    "\n",
    "print('\\nCounty')\n",
    "pprint.pprint(first_result[\"location_county\"])\n",
    "\n",
    "print('\\nCity:')\n",
    "pprint.pprint(first_result[\"location_city\"])\n",
    "\n",
    "print('\\nLanguage:')\n",
    "pprint.pprint(first_result[\"language\"])\n",
    "\n",
    "print('\\nLink to Newspaper Page:')\n",
    "pprint.pprint(first_result[\"id\"])\n",
    "\n",
    "print('\\nLink to Newspaper Issue:')\n",
    "pprint.pprint(first_result[\"segmentof\"])\n",
    "\n",
    "print('\\nCollection:')\n",
    "pprint.pprint(first_result[\"partof_collection\"])\n",
    "\n",
    "print('\\nBatch Name:')\n",
    "pprint.pprint(first_result[\"batch\"])\n",
    "\n",
    "print('\\nContributor:')\n",
    "pprint.pprint(first_result[\"group\"])"
   ]
  },
  {
   "cell_type": "markdown",
   "metadata": {
    "id": "G9x0W53JAihT"
   },
   "source": [
    "## Pagination via API Query\n",
    "Other types of useful metadata includes pagination. Pagination can be used to display the # of pages of a Search Query or the current page of a newspaper image.\n",
    "\n",
    "- The pagination results here should be the same as those shown after you performed an Advanced Search on Chronicling America.\n",
    "\n",
    "- This is useful for validating the search query and checking whether there are too many results for your search. If there are too many results for your search, you may encounter issues processing your data.\n",
    "\n",
    "- Note: We recommend keeping search results under 100,000 hits. Please use facets to limit the size of your results and search query or you may be automatically blocked. See Limitations and Rate Limits for more information.\n",
    "\n",
    "\n",
    "---\n",
    "\n",
    "1. Simply run the codes below.\n",
    "- The first will give you the pagination metadata of the search result."
   ]
  },
  {
   "cell_type": "code",
   "execution_count": 10,
   "metadata": {
    "colab": {
     "base_uri": "https://localhost:8080/"
    },
    "executionInfo": {
     "elapsed": 135,
     "status": "ok",
     "timestamp": 1712117115544,
     "user": {
      "displayName": "Mike Saelee",
      "userId": "09356275809855701196"
     },
     "user_tz": 240
    },
    "id": "5SOWvI-5AiL1",
    "outputId": "3ba46c64-e471-47df-9d15-840844b1aba5"
   },
   "outputs": [
    {
     "data": {
      "text/plain": [
       "{'current': 1,\n",
       " 'first': None,\n",
       " 'from': 1,\n",
       " 'last': None,\n",
       " 'next': None,\n",
       " 'of': 2,\n",
       " 'page_list': [{'number': 1, 'url': None}],\n",
       " 'perpage': 40,\n",
       " 'perpage_options': [20, 40, 80, 160],\n",
       " 'previous': None,\n",
       " 'results': '1 - 2',\n",
       " 'to': 2,\n",
       " 'total': 1}"
      ]
     },
     "execution_count": 10,
     "metadata": {},
     "output_type": "execute_result"
    }
   ],
   "source": [
    "search_result['pagination']"
   ]
  },
  {
   "cell_type": "markdown",
   "metadata": {
    "id": "u7fmUK1tLnHH"
   },
   "source": [
    "- The second will print out the pagination metadata with more context."
   ]
  },
  {
   "cell_type": "code",
   "execution_count": 11,
   "metadata": {
    "colab": {
     "base_uri": "https://localhost:8080/"
    },
    "executionInfo": {
     "elapsed": 164,
     "status": "ok",
     "timestamp": 1712117116958,
     "user": {
      "displayName": "Mike Saelee",
      "userId": "09356275809855701196"
     },
     "user_tz": 240
    },
    "id": "N4UCouYJAo11",
    "outputId": "acead69a-6773-4abb-c8fe-d618d3cf81c0"
   },
   "outputs": [
    {
     "name": "stdout",
     "output_type": "stream",
     "text": [
      "Current page:\n",
      "1\n",
      "\n",
      "Path to request the next page:\n",
      "None\n",
      "\n",
      "Total number of results:\n",
      "2\n",
      "\n",
      "Total number of results per page:\n",
      "40\n",
      "\n",
      "Total number of pages:\n",
      "1\n"
     ]
    }
   ],
   "source": [
    "print('Current page:')\n",
    "print(search_result['pagination']['current'])\n",
    "\n",
    "print('\\nPath to request the next page:')\n",
    "print(search_result['pagination']['next'])\n",
    "\n",
    "print('\\nTotal number of results:')\n",
    "print(search_result['pagination']['of'])\n",
    "\n",
    "print('\\nTotal number of results per page:')\n",
    "print(search_result['pagination']['perpage'] )\n",
    "\n",
    "print('\\nTotal number of pages:')\n",
    "print(search_result['pagination']['total'])"
   ]
  },
  {
   "cell_type": "code",
   "execution_count": null,
   "metadata": {},
   "outputs": [],
   "source": []
  }
 ],
 "metadata": {
  "colab": {
   "authorship_tag": "ABX9TyOIywx0DalrtN4OOwKnDGun",
   "provenance": []
  },
  "kernelspec": {
   "display_name": "Python 3",
   "language": "python",
   "name": "python3"
  },
  "language_info": {
   "codemirror_mode": {
    "name": "ipython",
    "version": 3
   },
   "file_extension": ".py",
   "mimetype": "text/x-python",
   "name": "python",
   "nbconvert_exporter": "python",
   "pygments_lexer": "ipython3",
   "version": "3.8.5"
  }
 },
 "nbformat": 4,
 "nbformat_minor": 1
}
