{
  "cells": [
    {
      "cell_type": "markdown",
      "metadata": {},
      "source": [
        "# Color clusters in images in Library of Congress collections\n",
        "\n",
        "Color analysis is a fascinating way to explore and identify patterns in a group of images. The Library of Congress has thousands of digitized images online for the public. Let's take a look at the colors in JPEG images. \n",
        "\n",
        "We're going to use the Loc.gov JSON API to get the metadata about each collection's items. We will:\n",
        "\n",
        "1. [Get image URLs for JPEGs in a specific collection](#Get-image-URLs-for-JPEGs-in-a-specific-collection)\n",
        "2. [Drawing color swatches](#Drawing-color-swatches)\n",
        "3. [Colors in other collections](#Colors-in-other-collections)\n",
        "4. [Create JSON files from the data](#Create-JSON-files-from-the-data)\n",
        "\n",
        "\n",
        "## Version\n",
        "---\n",
        "Version: 2\n",
        "\n",
        "Last Run: July 11, 2025 (Python 3.12)\n",
        "\n",
        "\n",
        "---\n",
        "Author Information:\n",
        "\n",
        "\n",
        "Written by Laura Wrubel, Visiting Scholar 2018\n",
        "\n",
        "Edited by Sabrina Templeton, Junior Fellow 2025\n",
        "\n",
        "---\n",
        "\n",
        "## Prerequisites\n",
        "\n",
        "Note that running this notebook will download files onto your machine.\n",
        " \n",
        "Python packages that may require install if not already present in your environment. Install can be done with `pip install [package]`:\n",
        " \n",
        "- `numpy`\n",
        "- `pillow`\n",
        "- `scipy`\n",
        "\n"
      ]
    },
    {
      "cell_type": "markdown",
      "metadata": {},
      "source": [
        "## Get image URLs for JPEGs in a specific collection"
      ]
    },
    {
      "cell_type": "markdown",
      "metadata": {},
      "source": [
        "First, we need to get a list URLs for items in a specific collection and fetch the first JPEG listed for each item. We'll pull from the image file list on the search result record, which contains a partial list of images (JPEGs and GIFs) for each search result. To get the JPEG image, we're taking the first URL with \".jpg\" in the \"image_url\" field. Sometimes there are multiple image sizes available, but the first one is generally the smallest. "
      ]
    },
    {
      "cell_type": "code",
      "execution_count": 1,
      "metadata": {},
      "outputs": [],
      "source": [
        "import requests\n",
        "import time"
      ]
    },
    {
      "cell_type": "markdown",
      "metadata": {},
      "source": [
        "The function below takes as input the URL for a collection. Be sure to include ``?fo=json`` at the end so that you're getting JSON, not the HTML for the web page. For example: https://www.loc.gov/collections/sanborn-maps/?fo=json"
      ]
    },
    {
      "cell_type": "code",
      "execution_count": 2,
      "metadata": {},
      "outputs": [],
      "source": [
        "def get_image_urls(url, images=[], item_urls=[]):\n",
        "    '''  \n",
        "    Retrieves the image URLs for items that have public URLs available. \n",
        "    Skips over items that are for the colletion as a whole or web pages about the collection.\n",
        "    Handles pagination. \n",
        "\n",
        "    Args: \n",
        "        url (str): The URL to request a collection.\n",
        "        images (list, optional): The list that fetched images will get added to.\n",
        "        item_urls (list, optional): The list that fetched item URLs will get added to.\n",
        "\n",
        "    Returns:\n",
        "        list: The images from the collection.\n",
        "        list: The item URLS from the collection.  \n",
        "    '''\n",
        "    call = requests.get(url)\n",
        "    data = call.json()\n",
        "    results = data['results']\n",
        "    for result in results:\n",
        "        # don't get image from the collection-level result\n",
        "        if \"collection\" not in result.get(\"original_format\") and \"web page\" not in result.get(\"original_format\"): \n",
        "            if result.get(\"image_url\"):\n",
        "                for url in result.get(\"image_url\"):\n",
        "                    # get the first image URL that contains \".jpg\"\n",
        "                    if \".jpg\" in url:\n",
        "                        images.append(url)\n",
        "                        item_url = result.get(\"id\")\n",
        "                        item_urls.append(item_url)\n",
        "                        break\n",
        "            else:\n",
        "                # some items don't have images available\n",
        "                print(\"problem result, has no image_url: {0}.\\n {1}\".format(result.get(\"id\"), result))     \n",
        "\n",
        "    if data[\"pagination\"][\"next\"] is not None: # make sure we haven't hit the end of the pages\n",
        "        next_url = data[\"pagination\"][\"next\"]\n",
        "        time.sleep(3) # timer to avoid API rate limits\n",
        "        get_image_urls(next_url, images, item_urls)\n",
        "        \n",
        "    return images, item_urls\n"
      ]
    },
    {
      "cell_type": "markdown",
      "metadata": {},
      "source": [
        "Let's get the URLs for the first JPEGs for each Baseball Cards collection item. The collection has over 2000 items total, so in order to make running this notebook more manageable for now we will only grab a smaller subset by filtering to cards from the year 1888. If you want to proceed with the entire collection, simply remove the `dates=` filter at the end. "
      ]
    },
    {
      "cell_type": "code",
      "execution_count": 3,
      "metadata": {
        "collapsed": false,
        "jupyter": {
          "outputs_hidden": false
        },
        "scrolled": true
      },
      "outputs": [],
      "source": [
        "image_list, item_urls = get_image_urls(\"https://www.loc.gov/collections/baseball-cards/?fo=json&dates=1888\")"
      ]
    },
    {
      "cell_type": "markdown",
      "metadata": {},
      "source": [
        "How many JPEG images did we identify in the Baseball Cards collection?"
      ]
    },
    {
      "cell_type": "code",
      "execution_count": 4,
      "metadata": {
        "collapsed": false,
        "jupyter": {
          "outputs_hidden": false
        }
      },
      "outputs": [
        {
          "data": {
            "text/plain": [
              "58"
            ]
          },
          "execution_count": 4,
          "metadata": {},
          "output_type": "execute_result"
        }
      ],
      "source": [
        "len(image_list)"
      ]
    },
    {
      "cell_type": "markdown",
      "metadata": {},
      "source": [
        "And let's confirm that we have the same number of item URLs:"
      ]
    },
    {
      "cell_type": "code",
      "execution_count": 5,
      "metadata": {
        "collapsed": false,
        "jupyter": {
          "outputs_hidden": false
        }
      },
      "outputs": [
        {
          "data": {
            "text/plain": [
              "58"
            ]
          },
          "execution_count": 5,
          "metadata": {},
          "output_type": "execute_result"
        }
      ],
      "source": [
        "len(item_urls)"
      ]
    },
    {
      "cell_type": "markdown",
      "metadata": {},
      "source": [
        "### Analyzing the images for color clusters"
      ]
    },
    {
      "cell_type": "markdown",
      "metadata": {},
      "source": [
        "I'm adapting code from the colorz.py script in metakirby5's the [colorz](https://github.com/metakirby5/colorz) code, which is a command line tool for a k-means color scheme generator. It runs an analysis on an image and presents an HTML page with swatches. \n",
        "\n",
        "It uses scipy's kmeans clustering algorithm to determine clusters of colors. Because of the way [k-means clustering](https://en.wikipedia.org/wiki/K-means_clustering) works, you might get different values each time you run it. \n",
        "\n",
        "Since I wanted to display colors close to the actual colors in the images, I removed the script's option to \"brighten\" colors. The script has the option to \"clamp\" the value of the colors, which adjusts them into a small range of values. This reduces the differences between the values, so you could see differences in hue more easily. I've chosen not to clamp the values for this data. \n",
        "\n",
        "Colorz requires that you install the scipy and Pillow packages in your Python environment--see the [prerequisites section](#Prerequisites) for more details. \n"
      ]
    },
    {
      "cell_type": "code",
      "execution_count": 6,
      "metadata": {},
      "outputs": [],
      "source": [
        "from PIL import Image\n",
        "from sys import exit\n",
        "from io import BytesIO\n",
        "from colorsys import rgb_to_hsv, hsv_to_rgb\n",
        "from scipy.cluster.vq import kmeans\n",
        "from numpy import array"
      ]
    },
    {
      "cell_type": "code",
      "execution_count": 7,
      "metadata": {
        "collapsed": false,
        "jupyter": {
          "outputs_hidden": false
        }
      },
      "outputs": [],
      "source": [
        "DEFAULT_NUM_COLORS = 6\n",
        "# default minimum and maximum values are used to clamp the color values to a specific range\n",
        "# originally this was set to 170 and 200, but I'm running with 0 and 256 in order to \n",
        "# not clamp the values. This can also be set as a parameter. \n",
        "DEFAULT_MINV = 0\n",
        "DEFAULT_MAXV = 256\n",
        "\n",
        "THUMB_SIZE = (200, 200)\n",
        "SCALE = 256.0\n",
        "\n",
        "def down_scale(x):\n",
        "    return x / SCALE\n",
        "\n",
        "def up_scale(x):\n",
        "    return int(x * SCALE)\n",
        "\n",
        "def clamp(color, min_v, max_v):\n",
        "    \"\"\"\n",
        "    Clamps a color such that the value (lightness) is between min_v and max_v.\n",
        "    \"\"\"\n",
        "    # use down_scale to convert color to value between 0-1 as expected by rgb_hsv\n",
        "    h, s, v = rgb_to_hsv(*map(down_scale, color))\n",
        "    # also convert the min_v and max_v to values between 0-1\n",
        "    min_v, max_v = map(down_scale, (min_v, max_v))\n",
        "    # get the maximum of the min value and the color's value (therefore bumping it up if needed)\n",
        "    # then get the minimum of that number and the max_v (bumping the value down if needed)\n",
        "    v = min(max(min_v, v), max_v)\n",
        "    # convert the h, s, v(which has been clamped) to rgb, apply upscale to get it back to 0-255, return tuple R,G,B\n",
        "    return tuple(map(up_scale, hsv_to_rgb(h, s, v)))\n",
        "\n",
        "def order_by_hue(colors):\n",
        "    \"\"\"\n",
        "    Orders colors by hue.\n",
        "    \"\"\"\n",
        "    hsvs = [rgb_to_hsv(*map(down_scale, color)) for color in colors]\n",
        "    hsvs.sort(key=lambda t: t[0])\n",
        "    return [tuple(map(up_scale, hsv_to_rgb(*hsv))) for hsv in hsvs]\n",
        "\n",
        "def get_colors(img):\n",
        "    \"\"\"\n",
        "    Returns a list of all the image's colors.\n",
        "    \"\"\"\n",
        "    w, h = img.size\n",
        "    # convert('RGB') converts the image's pixels info to RGB \n",
        "    # getcolors() returns an unsorted list of (count, pixel) values\n",
        "    # w * h ensures that maxcolors parameter is set so that each pixel could be unique\n",
        "    # there are three values returned in a list\n",
        "    return [color for count, color in img.convert('RGB').getcolors(w * h)]\n",
        "\n",
        "def hexify(rgb):\n",
        "    return \"#{0:02x}{1:02x}{2:02x}\".format(*rgb)\n",
        "\n",
        "def colorz(image_url, n=DEFAULT_NUM_COLORS, min_v=DEFAULT_MINV, max_v=DEFAULT_MAXV,\n",
        "           order_colors=True):\n",
        "    \"\"\"\n",
        "    Get the n most dominant colors of an image.\n",
        "    Clamps value to between min_v and max_v.\n",
        "\n",
        "    Total number of colors returned is n, optionally ordered by hue.\n",
        "    Returns as a list of RGB triples.\n",
        "    \n",
        "    \"\"\"\n",
        "    try:\n",
        "        r = requests.get(image_url)\n",
        "    except ValueError:\n",
        "        print(\"{0} was not a valid URL.\".format(image_url))\n",
        "        exit(1)\n",
        "    img = Image.open(BytesIO(r.content))\n",
        "    img.thumbnail(THUMB_SIZE) # replace with a thumbnail with same aspect ratio, no larger than THUMB_SIZE\n",
        "    obs = get_colors(img) # gets a list of RGB colors (e.g. (213, 191, 152)) for each pixel\n",
        "    # adjust the value of each color, if you've chosen to change minimum and maximum values\n",
        "    clamped = [clamp(color, min_v, max_v) for color in obs] \n",
        "    # turns the list of colors into a numpy array of floats, then applies scipy's k-means function\n",
        "    clusters, _ = kmeans(array(clamped).astype(float), n) \n",
        "    colors = order_by_hue(clusters) if order_colors else clusters    \n",
        "    hex_colors = list(map(hexify, colors)) # turn RGB into hex colors for web\n",
        "    return hex_colors\n"
      ]
    },
    {
      "cell_type": "markdown",
      "metadata": {},
      "source": [
        "As an example, here's what you get back for a single image:"
      ]
    },
    {
      "cell_type": "code",
      "execution_count": 8,
      "metadata": {
        "collapsed": false,
        "jupyter": {
          "outputs_hidden": false
        }
      },
      "outputs": [
        {
          "data": {
            "text/plain": [
              "['#a3876b', '#beaf93', '#dad1b7', '#f1edde', '#6f6a54', '#434333']"
            ]
          },
          "execution_count": 8,
          "metadata": {},
          "output_type": "execute_result"
        }
      ],
      "source": [
        "single_image = colorz(\"https://tile.loc.gov/storage-services/service/pnp/bbc/0000/0000/0001f_150px.jpg\", )\n",
        "single_image"
      ]
    },
    {
      "cell_type": "markdown",
      "metadata": {},
      "source": [
        "Those are six hexadecimal colors, representing the clusters formed by the colors of each pixel. Because of the way the k-means clustering works, you may get slightly different colors each time you run the analysis. \n",
        "\n",
        "Now let's get the colors for the JPEGs. "
      ]
    },
    {
      "cell_type": "code",
      "execution_count": 9,
      "metadata": {
        "collapsed": false,
        "jupyter": {
          "outputs_hidden": false
        }
      },
      "outputs": [
        {
          "data": {
            "text/plain": [
              "[['#a69672', '#706242', '#8a7d5b', '#433c22', '#b4ad90', '#e1e0cc'],\n",
              " ['#b5a181', '#a39071', '#8f7f61', '#7a6b4f', '#61553d', '#c5b99d'],\n",
              " ['#514633', '#9f8f6f', '#72654b', '#8a7c5e', '#b2a383', '#cccab4'],\n",
              " ['#53412c', '#887054', '#c9ba9c', '#b1a284', '#e0d4b9', '#9a8e71'],\n",
              " ['#d7c4a7', '#b7a788', '#ebdfc4', '#96886a', '#70684f', '#454230'],\n",
              " ['#5f4930', '#8e7859', '#bcaa8a', '#d1c0a1', '#a39576', '#e7d9bc'],\n",
              " ['#816c55', '#c0a689', '#9e8d74', '#d5c1a3', '#e8dbc3', '#4b4738'],\n",
              " ['#9c764c', '#d0ae7d', '#efe8d4', '#ddcfa9', '#4b5a44', '#8ba886'],\n",
              " ['#eee8db', '#ddd3ba', '#929876', '#616a46', '#b7bea1', '#b9d4ca'],\n",
              " ['#e9dcd4', '#987659', '#c0aa8b', '#cac7ba', '#75a087', '#445f51']]"
            ]
          },
          "execution_count": 9,
          "metadata": {},
          "output_type": "execute_result"
        }
      ],
      "source": [
        "all_images = list(map(colorz, image_list))\n",
        "all_images[0:10]"
      ]
    },
    {
      "cell_type": "markdown",
      "metadata": {},
      "source": [
        "Great! Now let's try another collection. To get URLs for item pages and JPEG images for the [**Works Progress Administration Posters**](https://www.loc.gov/collections/works-progress-administration-posters), we can apply the same step of steps. Here we are again filtering for a date range to work with a more manageable number of images."
      ]
    },
    {
      "cell_type": "code",
      "execution_count": 10,
      "metadata": {
        "collapsed": false,
        "jupyter": {
          "outputs_hidden": false
        },
        "scrolled": true
      },
      "outputs": [],
      "source": [
        "posters, poster_item_urls = get_image_urls(\"https://www.loc.gov/collections/works-progress-administration-posters/?fo=json&dates=1940/1949\", [], [])"
      ]
    },
    {
      "cell_type": "code",
      "execution_count": 11,
      "metadata": {
        "collapsed": false,
        "jupyter": {
          "outputs_hidden": false
        }
      },
      "outputs": [
        {
          "data": {
            "text/plain": [
              "121"
            ]
          },
          "execution_count": 11,
          "metadata": {},
          "output_type": "execute_result"
        }
      ],
      "source": [
        "len(posters)"
      ]
    },
    {
      "cell_type": "code",
      "execution_count": 12,
      "metadata": {
        "collapsed": false,
        "jupyter": {
          "outputs_hidden": false
        }
      },
      "outputs": [],
      "source": [
        "posters_colors = list(map(colorz, posters))"
      ]
    },
    {
      "cell_type": "markdown",
      "metadata": {},
      "source": [
        "### Temporarily storing the color analysis"
      ]
    },
    {
      "cell_type": "markdown",
      "metadata": {},
      "source": [
        "It can take a little while to run the colorz function on a set of images, and while you're working with this notebook and experimenting, you might want to temporarily save those results into a pickle file (aka serialization). That allows you to reloaded the list of colors as a Python object for use later, without re-requesting and processing the images. "
      ]
    },
    {
      "cell_type": "code",
      "execution_count": 13,
      "metadata": {},
      "outputs": [],
      "source": [
        "import pickle\n",
        "\n",
        "with open(\"baseball-colors-list.txt\", \"wb\") as f:\n",
        "    pickle.dump(all_images, f, pickle.HIGHEST_PROTOCOL)"
      ]
    },
    {
      "cell_type": "markdown",
      "metadata": {},
      "source": [
        "To reload the pickled object:"
      ]
    },
    {
      "cell_type": "code",
      "execution_count": 14,
      "metadata": {
        "collapsed": false,
        "jupyter": {
          "outputs_hidden": false
        }
      },
      "outputs": [],
      "source": [
        "with open(\"baseball-colors-list.txt\", \"rb\") as infile:\n",
        "    baseball_colors = pickle.load(infile)"
      ]
    },
    {
      "cell_type": "markdown",
      "metadata": {},
      "source": [
        "## Drawing color swatches"
      ]
    },
    {
      "cell_type": "markdown",
      "metadata": {
        "collapsed": true,
        "jupyter": {
          "outputs_hidden": true
        }
      },
      "source": [
        "It's great to have those color values, but really, we want to view them and be able to link out to the image on the Library of Congress website for more information. \n",
        "\n",
        "The function below will draw square swatches of color for each of the six color clusters in an image. Clicking on the swatches will take you to that image's web page. The function takes as input a tuple with the item page URL and color list. For example: \n",
        "\n",
        "``(\"https://tile.loc.gov/storage-services/service/pnp/bbc/0000/0010/0019f_150px.jpg\", ['#cfbea1', '#e7e0ce', '#aaa78e', '#8f8d6b', '#777753', '#565940'])``"
      ]
    },
    {
      "cell_type": "code",
      "execution_count": 15,
      "metadata": {
        "collapsed": false,
        "jupyter": {
          "outputs_hidden": false
        }
      },
      "outputs": [],
      "source": [
        "def draw_row_with_links(link_and_colors):\n",
        "    '''\n",
        "    Draws a row of swatches for the main colors in each image.\n",
        "    Each swatch links to the image.\n",
        "\n",
        "    Args:\n",
        "        links_and_colors (tuple): A tuple containing the link as the first item and a list of color swatches as the second item.\n",
        "    Returns:\n",
        "        html: HTML containing the SVG color swatches.\n",
        "    '''\n",
        "    html = \"\"\n",
        "    url = link_and_colors[0]\n",
        "    for count, color in enumerate(link_and_colors[1]):\n",
        "        square = '<rect x=\"{0}\" y=\"{1}\" width=\"30\" height=\"30\" fill=\"{2}\" />'.format(((count * 30) + 30), 0, color)\n",
        "        html += square\n",
        "    full_html = '<a href=\"{0}\" target=\"_blank\"><svg height=\"30\" width=\"210\">{1}</svg>'.format(url, html)    \n",
        "    return full_html"
      ]
    },
    {
      "cell_type": "markdown",
      "metadata": {},
      "source": [
        "We can show that HTML here in the notebook. This is a row of swatches for one image. "
      ]
    },
    {
      "cell_type": "code",
      "execution_count": 16,
      "metadata": {
        "collapsed": false,
        "jupyter": {
          "outputs_hidden": false
        }
      },
      "outputs": [
        {
          "data": {
            "text/html": [
              "<a href=\"http://www.loc.gov/item/2007686953/\" target=\"_blank\"><svg height=\"30\" width=\"210\"><rect x=\"30\" y=\"0\" width=\"30\" height=\"30\" fill=\"#a69672\" /><rect x=\"60\" y=\"0\" width=\"30\" height=\"30\" fill=\"#706242\" /><rect x=\"90\" y=\"0\" width=\"30\" height=\"30\" fill=\"#8a7d5b\" /><rect x=\"120\" y=\"0\" width=\"30\" height=\"30\" fill=\"#433c22\" /><rect x=\"150\" y=\"0\" width=\"30\" height=\"30\" fill=\"#b4ad90\" /><rect x=\"180\" y=\"0\" width=\"30\" height=\"30\" fill=\"#e1e0cc\" /></svg>"
            ],
            "text/plain": [
              "<IPython.core.display.HTML object>"
            ]
          },
          "metadata": {},
          "output_type": "display_data"
        }
      ],
      "source": [
        "from IPython.display import display, HTML\n",
        "\n",
        "single_item = (item_urls[0], all_images[0])\n",
        "html = draw_row_with_links(single_item)\n",
        "\n",
        "display(HTML(html))"
      ]
    },
    {
      "cell_type": "markdown",
      "metadata": {},
      "source": [
        "Here are the swatches for **all** of the images in the **Baseball Cards** collection."
      ]
    },
    {
      "cell_type": "code",
      "execution_count": 17,
      "metadata": {
        "collapsed": false,
        "jupyter": {
          "outputs_hidden": false
        }
      },
      "outputs": [
        {
          "data": {
            "text/html": [
              "<a href=\"http://www.loc.gov/item/2007686953/\" target=\"_blank\"><svg height=\"30\" width=\"210\"><rect x=\"30\" y=\"0\" width=\"30\" height=\"30\" fill=\"#a69672\" /><rect x=\"60\" y=\"0\" width=\"30\" height=\"30\" fill=\"#706242\" /><rect x=\"90\" y=\"0\" width=\"30\" height=\"30\" fill=\"#8a7d5b\" /><rect x=\"120\" y=\"0\" width=\"30\" height=\"30\" fill=\"#433c22\" /><rect x=\"150\" y=\"0\" width=\"30\" height=\"30\" fill=\"#b4ad90\" /><rect x=\"180\" y=\"0\" width=\"30\" height=\"30\" fill=\"#e1e0cc\" /></svg><a href=\"http://www.loc.gov/item/2008675214/\" target=\"_blank\"><svg height=\"30\" width=\"210\"><rect x=\"30\" y=\"0\" width=\"30\" height=\"30\" fill=\"#b5a181\" /><rect x=\"60\" y=\"0\" width=\"30\" height=\"30\" fill=\"#a39071\" /><rect x=\"90\" y=\"0\" width=\"30\" height=\"30\" fill=\"#8f7f61\" /><rect x=\"120\" y=\"0\" width=\"30\" height=\"30\" fill=\"#7a6b4f\" /><rect x=\"150\" y=\"0\" width=\"30\" height=\"30\" fill=\"#61553d\" /><rect x=\"180\" y=\"0\" width=\"30\" height=\"30\" fill=\"#c5b99d\" /></svg><a href=\"http://www.loc.gov/item/2008675215/\" target=\"_blank\"><svg height=\"30\" width=\"210\"><rect x=\"30\" y=\"0\" width=\"30\" height=\"30\" fill=\"#514633\" /><rect x=\"60\" y=\"0\" width=\"30\" height=\"30\" fill=\"#9f8f6f\" /><rect x=\"90\" y=\"0\" width=\"30\" height=\"30\" fill=\"#72654b\" /><rect x=\"120\" y=\"0\" width=\"30\" height=\"30\" fill=\"#8a7c5e\" /><rect x=\"150\" y=\"0\" width=\"30\" height=\"30\" fill=\"#b2a383\" /><rect x=\"180\" y=\"0\" width=\"30\" height=\"30\" fill=\"#cccab4\" /></svg><a href=\"http://www.loc.gov/item/2007680728/\" target=\"_blank\"><svg height=\"30\" width=\"210\"><rect x=\"30\" y=\"0\" width=\"30\" height=\"30\" fill=\"#53412c\" /><rect x=\"60\" y=\"0\" width=\"30\" height=\"30\" fill=\"#887054\" /><rect x=\"90\" y=\"0\" width=\"30\" height=\"30\" fill=\"#c9ba9c\" /><rect x=\"120\" y=\"0\" width=\"30\" height=\"30\" fill=\"#b1a284\" /><rect x=\"150\" y=\"0\" width=\"30\" height=\"30\" fill=\"#e0d4b9\" /><rect x=\"180\" y=\"0\" width=\"30\" height=\"30\" fill=\"#9a8e71\" /></svg><a href=\"http://www.loc.gov/item/2007680729/\" target=\"_blank\"><svg height=\"30\" width=\"210\"><rect x=\"30\" y=\"0\" width=\"30\" height=\"30\" fill=\"#d7c4a7\" /><rect x=\"60\" y=\"0\" width=\"30\" height=\"30\" fill=\"#b7a788\" /><rect x=\"90\" y=\"0\" width=\"30\" height=\"30\" fill=\"#ebdfc4\" /><rect x=\"120\" y=\"0\" width=\"30\" height=\"30\" fill=\"#96886a\" /><rect x=\"150\" y=\"0\" width=\"30\" height=\"30\" fill=\"#70684f\" /><rect x=\"180\" y=\"0\" width=\"30\" height=\"30\" fill=\"#454230\" /></svg><a href=\"http://www.loc.gov/item/2007680730/\" target=\"_blank\"><svg height=\"30\" width=\"210\"><rect x=\"30\" y=\"0\" width=\"30\" height=\"30\" fill=\"#5f4930\" /><rect x=\"60\" y=\"0\" width=\"30\" height=\"30\" fill=\"#8e7859\" /><rect x=\"90\" y=\"0\" width=\"30\" height=\"30\" fill=\"#bcaa8a\" /><rect x=\"120\" y=\"0\" width=\"30\" height=\"30\" fill=\"#d1c0a1\" /><rect x=\"150\" y=\"0\" width=\"30\" height=\"30\" fill=\"#a39576\" /><rect x=\"180\" y=\"0\" width=\"30\" height=\"30\" fill=\"#e7d9bc\" /></svg><a href=\"http://www.loc.gov/item/2007680731/\" target=\"_blank\"><svg height=\"30\" width=\"210\"><rect x=\"30\" y=\"0\" width=\"30\" height=\"30\" fill=\"#816c55\" /><rect x=\"60\" y=\"0\" width=\"30\" height=\"30\" fill=\"#c0a689\" /><rect x=\"90\" y=\"0\" width=\"30\" height=\"30\" fill=\"#9e8d74\" /><rect x=\"120\" y=\"0\" width=\"30\" height=\"30\" fill=\"#d5c1a3\" /><rect x=\"150\" y=\"0\" width=\"30\" height=\"30\" fill=\"#e8dbc3\" /><rect x=\"180\" y=\"0\" width=\"30\" height=\"30\" fill=\"#4b4738\" /></svg><a href=\"http://www.loc.gov/item/2007680732/\" target=\"_blank\"><svg height=\"30\" width=\"210\"><rect x=\"30\" y=\"0\" width=\"30\" height=\"30\" fill=\"#9c764c\" /><rect x=\"60\" y=\"0\" width=\"30\" height=\"30\" fill=\"#d0ae7d\" /><rect x=\"90\" y=\"0\" width=\"30\" height=\"30\" fill=\"#efe8d4\" /><rect x=\"120\" y=\"0\" width=\"30\" height=\"30\" fill=\"#ddcfa9\" /><rect x=\"150\" y=\"0\" width=\"30\" height=\"30\" fill=\"#4b5a44\" /><rect x=\"180\" y=\"0\" width=\"30\" height=\"30\" fill=\"#8ba886\" /></svg><a href=\"http://www.loc.gov/item/2007680733/\" target=\"_blank\"><svg height=\"30\" width=\"210\"><rect x=\"30\" y=\"0\" width=\"30\" height=\"30\" fill=\"#eee8db\" /><rect x=\"60\" y=\"0\" width=\"30\" height=\"30\" fill=\"#ddd3ba\" /><rect x=\"90\" y=\"0\" width=\"30\" height=\"30\" fill=\"#929876\" /><rect x=\"120\" y=\"0\" width=\"30\" height=\"30\" fill=\"#616a46\" /><rect x=\"150\" y=\"0\" width=\"30\" height=\"30\" fill=\"#b7bea1\" /><rect x=\"180\" y=\"0\" width=\"30\" height=\"30\" fill=\"#b9d4ca\" /></svg><a href=\"http://www.loc.gov/item/2007680734/\" target=\"_blank\"><svg height=\"30\" width=\"210\"><rect x=\"30\" y=\"0\" width=\"30\" height=\"30\" fill=\"#e9dcd4\" /><rect x=\"60\" y=\"0\" width=\"30\" height=\"30\" fill=\"#987659\" /><rect x=\"90\" y=\"0\" width=\"30\" height=\"30\" fill=\"#c0aa8b\" /><rect x=\"120\" y=\"0\" width=\"30\" height=\"30\" fill=\"#cac7ba\" /><rect x=\"150\" y=\"0\" width=\"30\" height=\"30\" fill=\"#75a087\" /><rect x=\"180\" y=\"0\" width=\"30\" height=\"30\" fill=\"#445f51\" /></svg><a href=\"http://www.loc.gov/item/2007680735/\" target=\"_blank\"><svg height=\"30\" width=\"210\"><rect x=\"30\" y=\"0\" width=\"30\" height=\"30\" fill=\"#564531\" /><rect x=\"60\" y=\"0\" width=\"30\" height=\"30\" fill=\"#bb996b\" /><rect x=\"90\" y=\"0\" width=\"30\" height=\"30\" fill=\"#f7eed6\" /><rect x=\"120\" y=\"0\" width=\"30\" height=\"30\" fill=\"#dbc98f\" /><rect x=\"150\" y=\"0\" width=\"30\" height=\"30\" fill=\"#e5ddb6\" /><rect x=\"180\" y=\"0\" width=\"30\" height=\"30\" fill=\"#7b805f\" /></svg><a href=\"http://www.loc.gov/item/2007680736/\" target=\"_blank\"><svg height=\"30\" width=\"210\"><rect x=\"30\" y=\"0\" width=\"30\" height=\"30\" fill=\"#b47d54\" /><rect x=\"60\" y=\"0\" width=\"30\" height=\"30\" fill=\"#7a573c\" /><rect x=\"90\" y=\"0\" width=\"30\" height=\"30\" fill=\"#e5c693\" /><rect x=\"120\" y=\"0\" width=\"30\" height=\"30\" fill=\"#c4a97a\" /><rect x=\"150\" y=\"0\" width=\"30\" height=\"30\" fill=\"#f8f1dc\" /><rect x=\"180\" y=\"0\" width=\"30\" height=\"30\" fill=\"#ede0bb\" /></svg><a href=\"http://www.loc.gov/item/2007680737/\" target=\"_blank\"><svg height=\"30\" width=\"210\"><rect x=\"30\" y=\"0\" width=\"30\" height=\"30\" fill=\"#8a7964\" /><rect x=\"60\" y=\"0\" width=\"30\" height=\"30\" fill=\"#55524e\" /><rect x=\"90\" y=\"0\" width=\"30\" height=\"30\" fill=\"#f3ede3\" /><rect x=\"120\" y=\"0\" width=\"30\" height=\"30\" fill=\"#d7cfbe\" /><rect x=\"150\" y=\"0\" width=\"30\" height=\"30\" fill=\"#afaa9c\" /><rect x=\"180\" y=\"0\" width=\"30\" height=\"30\" fill=\"#6c8590\" /></svg><a href=\"http://www.loc.gov/item/2007680738/\" target=\"_blank\"><svg height=\"30\" width=\"210\"><rect x=\"30\" y=\"0\" width=\"30\" height=\"30\" fill=\"#ae9667\" /><rect x=\"60\" y=\"0\" width=\"30\" height=\"30\" fill=\"#e1dbcd\" /><rect x=\"90\" y=\"0\" width=\"30\" height=\"30\" fill=\"#cbbd96\" /><rect x=\"120\" y=\"0\" width=\"30\" height=\"30\" fill=\"#6e6c5e\" /><rect x=\"150\" y=\"0\" width=\"30\" height=\"30\" fill=\"#95a599\" /><rect x=\"180\" y=\"0\" width=\"30\" height=\"30\" fill=\"#2f3a46\" /></svg><a href=\"http://www.loc.gov/item/2007680739/\" target=\"_blank\"><svg height=\"30\" width=\"210\"><rect x=\"30\" y=\"0\" width=\"30\" height=\"30\" fill=\"#664e39\" /><rect x=\"60\" y=\"0\" width=\"30\" height=\"30\" fill=\"#ada083\" /><rect x=\"90\" y=\"0\" width=\"30\" height=\"30\" fill=\"#c7b99d\" /><rect x=\"120\" y=\"0\" width=\"30\" height=\"30\" fill=\"#e0d4bc\" /><rect x=\"150\" y=\"0\" width=\"30\" height=\"30\" fill=\"#877e68\" /><rect x=\"180\" y=\"0\" width=\"30\" height=\"30\" fill=\"#375b67\" /></svg><a href=\"http://www.loc.gov/item/2007680740/\" target=\"_blank\"><svg height=\"30\" width=\"210\"><rect x=\"30\" y=\"0\" width=\"30\" height=\"30\" fill=\"#cebba9\" /><rect x=\"60\" y=\"0\" width=\"30\" height=\"30\" fill=\"#e6ded7\" /><rect x=\"90\" y=\"0\" width=\"30\" height=\"30\" fill=\"#877f69\" /><rect x=\"120\" y=\"0\" width=\"30\" height=\"30\" fill=\"#a7a292\" /><rect x=\"150\" y=\"0\" width=\"30\" height=\"30\" fill=\"#5c5947\" /><rect x=\"180\" y=\"0\" width=\"30\" height=\"30\" fill=\"#568689\" /></svg><a href=\"http://www.loc.gov/item/2007680741/\" target=\"_blank\"><svg height=\"30\" width=\"210\"><rect x=\"30\" y=\"0\" width=\"30\" height=\"30\" fill=\"#413126\" /><rect x=\"60\" y=\"0\" width=\"30\" height=\"30\" fill=\"#a07c60\" /><rect x=\"90\" y=\"0\" width=\"30\" height=\"30\" fill=\"#6d5440\" /><rect x=\"120\" y=\"0\" width=\"30\" height=\"30\" fill=\"#d9cab3\" /><rect x=\"150\" y=\"0\" width=\"30\" height=\"30\" fill=\"#b0a188\" /><rect x=\"180\" y=\"0\" width=\"30\" height=\"30\" fill=\"#748774\" /></svg><a href=\"http://www.loc.gov/item/2007680742/\" target=\"_blank\"><svg height=\"30\" width=\"210\"><rect x=\"30\" y=\"0\" width=\"30\" height=\"30\" fill=\"#986648\" /><rect x=\"60\" y=\"0\" width=\"30\" height=\"30\" fill=\"#543f30\" /><rect x=\"90\" y=\"0\" width=\"30\" height=\"30\" fill=\"#dfcbba\" /><rect x=\"120\" y=\"0\" width=\"30\" height=\"30\" fill=\"#cea983\" /><rect x=\"150\" y=\"0\" width=\"30\" height=\"30\" fill=\"#a4997d\" /><rect x=\"180\" y=\"0\" width=\"30\" height=\"30\" fill=\"#4d7167\" /></svg><a href=\"http://www.loc.gov/item/2007680743/\" target=\"_blank\"><svg height=\"30\" width=\"210\"><rect x=\"30\" y=\"0\" width=\"30\" height=\"30\" fill=\"#493824\" /><rect x=\"60\" y=\"0\" width=\"30\" height=\"30\" fill=\"#b49c7c\" /><rect x=\"90\" y=\"0\" width=\"30\" height=\"30\" fill=\"#d3c6ae\" /><rect x=\"120\" y=\"0\" width=\"30\" height=\"30\" fill=\"#918364\" /><rect x=\"150\" y=\"0\" width=\"30\" height=\"30\" fill=\"#665a3d\" /><rect x=\"180\" y=\"0\" width=\"30\" height=\"30\" fill=\"#767352\" /></svg><a href=\"http://www.loc.gov/item/2007680744/\" target=\"_blank\"><svg height=\"30\" width=\"210\"><rect x=\"30\" y=\"0\" width=\"30\" height=\"30\" fill=\"#b09f7b\" /><rect x=\"60\" y=\"0\" width=\"30\" height=\"30\" fill=\"#cbbea0\" /><rect x=\"90\" y=\"0\" width=\"30\" height=\"30\" fill=\"#eae1cb\" /><rect x=\"120\" y=\"0\" width=\"30\" height=\"30\" fill=\"#5e5439\" /><rect x=\"150\" y=\"0\" width=\"30\" height=\"30\" fill=\"#877c56\" /><rect x=\"180\" y=\"0\" width=\"30\" height=\"30\" fill=\"#7d9480\" /></svg><a href=\"http://www.loc.gov/item/2007680745/\" target=\"_blank\"><svg height=\"30\" width=\"210\"><rect x=\"30\" y=\"0\" width=\"30\" height=\"30\" fill=\"#e2d4be\" /><rect x=\"60\" y=\"0\" width=\"30\" height=\"30\" fill=\"#c0b194\" /><rect x=\"90\" y=\"0\" width=\"30\" height=\"30\" fill=\"#a59b7b\" /><rect x=\"120\" y=\"0\" width=\"30\" height=\"30\" fill=\"#8b8666\" /><rect x=\"150\" y=\"0\" width=\"30\" height=\"30\" fill=\"#646551\" /><rect x=\"180\" y=\"0\" width=\"30\" height=\"30\" fill=\"#3a3f36\" /></svg><a href=\"http://www.loc.gov/item/2007680746/\" target=\"_blank\"><svg height=\"30\" width=\"210\"><rect x=\"30\" y=\"0\" width=\"30\" height=\"30\" fill=\"#e5d7c8\" /><rect x=\"60\" y=\"0\" width=\"30\" height=\"30\" fill=\"#baab92\" /><rect x=\"90\" y=\"0\" width=\"30\" height=\"30\" fill=\"#464036\" /><rect x=\"120\" y=\"0\" width=\"30\" height=\"30\" fill=\"#968667\" /><rect x=\"150\" y=\"0\" width=\"30\" height=\"30\" fill=\"#68614c\" /><rect x=\"180\" y=\"0\" width=\"30\" height=\"30\" fill=\"#56706c\" /></svg><a href=\"http://www.loc.gov/item/2007680747/\" target=\"_blank\"><svg height=\"30\" width=\"210\"><rect x=\"30\" y=\"0\" width=\"30\" height=\"30\" fill=\"#a38e68\" /><rect x=\"60\" y=\"0\" width=\"30\" height=\"30\" fill=\"#b19f7c\" /><rect x=\"90\" y=\"0\" width=\"30\" height=\"30\" fill=\"#8b7b5a\" /><rect x=\"120\" y=\"0\" width=\"30\" height=\"30\" fill=\"#756648\" /><rect x=\"150\" y=\"0\" width=\"30\" height=\"30\" fill=\"#5a4f31\" /><rect x=\"180\" y=\"0\" width=\"30\" height=\"30\" fill=\"#d8d6c3\" /></svg><a href=\"http://www.loc.gov/item/2007680748/\" target=\"_blank\"><svg height=\"30\" width=\"210\"><rect x=\"30\" y=\"0\" width=\"30\" height=\"30\" fill=\"#645340\" /><rect x=\"60\" y=\"0\" width=\"30\" height=\"30\" fill=\"#846f56\" /><rect x=\"90\" y=\"0\" width=\"30\" height=\"30\" fill=\"#dec9af\" /><rect x=\"120\" y=\"0\" width=\"30\" height=\"30\" fill=\"#cfb28c\" /><rect x=\"150\" y=\"0\" width=\"30\" height=\"30\" fill=\"#b69e7b\" /><rect x=\"180\" y=\"0\" width=\"30\" height=\"30\" fill=\"#958d70\" /></svg><a href=\"http://www.loc.gov/item/2007680749/\" target=\"_blank\"><svg height=\"30\" width=\"210\"><rect x=\"30\" y=\"0\" width=\"30\" height=\"30\" fill=\"#f3dfc3\" /><rect x=\"60\" y=\"0\" width=\"30\" height=\"30\" fill=\"#dec396\" /><rect x=\"90\" y=\"0\" width=\"30\" height=\"30\" fill=\"#c1a777\" /><rect x=\"120\" y=\"0\" width=\"30\" height=\"30\" fill=\"#5f593e\" /><rect x=\"150\" y=\"0\" width=\"30\" height=\"30\" fill=\"#b6bb9f\" /><rect x=\"180\" y=\"0\" width=\"30\" height=\"30\" fill=\"#808d6e\" /></svg><a href=\"http://www.loc.gov/item/2007683700/\" target=\"_blank\"><svg height=\"30\" width=\"210\"><rect x=\"30\" y=\"0\" width=\"30\" height=\"30\" fill=\"#714b36\" /><rect x=\"60\" y=\"0\" width=\"30\" height=\"30\" fill=\"#d88b60\" /><rect x=\"90\" y=\"0\" width=\"30\" height=\"30\" fill=\"#9b825f\" /><rect x=\"120\" y=\"0\" width=\"30\" height=\"30\" fill=\"#e7d3b1\" /><rect x=\"150\" y=\"0\" width=\"30\" height=\"30\" fill=\"#c5ac7d\" /><rect x=\"180\" y=\"0\" width=\"30\" height=\"30\" fill=\"#b5b99e\" /></svg><a href=\"http://www.loc.gov/item/2007683701/\" target=\"_blank\"><svg height=\"30\" width=\"210\"><rect x=\"30\" y=\"0\" width=\"30\" height=\"30\" fill=\"#ba7660\" /><rect x=\"60\" y=\"0\" width=\"30\" height=\"30\" fill=\"#5e493c\" /><rect x=\"90\" y=\"0\" width=\"30\" height=\"30\" fill=\"#87735d\" /><rect x=\"120\" y=\"0\" width=\"30\" height=\"30\" fill=\"#c1ad90\" /><rect x=\"150\" y=\"0\" width=\"30\" height=\"30\" fill=\"#d7c7af\" /><rect x=\"180\" y=\"0\" width=\"30\" height=\"30\" fill=\"#a5977b\" /></svg><a href=\"http://www.loc.gov/item/2007683702/\" target=\"_blank\"><svg height=\"30\" width=\"210\"><rect x=\"30\" y=\"0\" width=\"30\" height=\"30\" fill=\"#514027\" /><rect x=\"60\" y=\"0\" width=\"30\" height=\"30\" fill=\"#836e4b\" /><rect x=\"90\" y=\"0\" width=\"30\" height=\"30\" fill=\"#998761\" /><rect x=\"120\" y=\"0\" width=\"30\" height=\"30\" fill=\"#ab9972\" /><rect x=\"150\" y=\"0\" width=\"30\" height=\"30\" fill=\"#d2c7ab\" /><rect x=\"180\" y=\"0\" width=\"30\" height=\"30\" fill=\"#b8ad8e\" /></svg><a href=\"http://www.loc.gov/item/2007683703/\" target=\"_blank\"><svg height=\"30\" width=\"210\"><rect x=\"30\" y=\"0\" width=\"30\" height=\"30\" fill=\"#a89974\" /><rect x=\"60\" y=\"0\" width=\"30\" height=\"30\" fill=\"#928360\" /><rect x=\"90\" y=\"0\" width=\"30\" height=\"30\" fill=\"#776c4d\" /><rect x=\"120\" y=\"0\" width=\"30\" height=\"30\" fill=\"#443f26\" /><rect x=\"150\" y=\"0\" width=\"30\" height=\"30\" fill=\"#f1f0de\" /><rect x=\"180\" y=\"0\" width=\"30\" height=\"30\" fill=\"#c0c3ae\" /></svg><a href=\"http://www.loc.gov/item/2007683704/\" target=\"_blank\"><svg height=\"30\" width=\"210\"><rect x=\"30\" y=\"0\" width=\"30\" height=\"30\" fill=\"#6b563b\" /><rect x=\"60\" y=\"0\" width=\"30\" height=\"30\" fill=\"#8a7555\" /><rect x=\"90\" y=\"0\" width=\"30\" height=\"30\" fill=\"#a08d6b\" /><rect x=\"120\" y=\"0\" width=\"30\" height=\"30\" fill=\"#b9a47d\" /><rect x=\"150\" y=\"0\" width=\"30\" height=\"30\" fill=\"#c6bb9a\" /><rect x=\"180\" y=\"0\" width=\"30\" height=\"30\" fill=\"#e8ecda\" /></svg><a href=\"http://www.loc.gov/item/2007683705/\" target=\"_blank\"><svg height=\"30\" width=\"210\"><rect x=\"30\" y=\"0\" width=\"30\" height=\"30\" fill=\"#b09a74\" /><rect x=\"60\" y=\"0\" width=\"30\" height=\"30\" fill=\"#998663\" /><rect x=\"90\" y=\"0\" width=\"30\" height=\"30\" fill=\"#82714f\" /><rect x=\"120\" y=\"0\" width=\"30\" height=\"30\" fill=\"#beaf8f\" /><rect x=\"150\" y=\"0\" width=\"30\" height=\"30\" fill=\"#615437\" /><rect x=\"180\" y=\"0\" width=\"30\" height=\"30\" fill=\"#eeebd8\" /></svg><a href=\"http://www.loc.gov/item/2007683706/\" target=\"_blank\"><svg height=\"30\" width=\"210\"><rect x=\"30\" y=\"0\" width=\"30\" height=\"30\" fill=\"#907c56\" /><rect x=\"60\" y=\"0\" width=\"30\" height=\"30\" fill=\"#a79268\" /><rect x=\"90\" y=\"0\" width=\"30\" height=\"30\" fill=\"#bba67c\" /><rect x=\"120\" y=\"0\" width=\"30\" height=\"30\" fill=\"#766643\" /><rect x=\"150\" y=\"0\" width=\"30\" height=\"30\" fill=\"#5b4d2e\" /><rect x=\"180\" y=\"0\" width=\"30\" height=\"30\" fill=\"#e7e5ce\" /></svg><a href=\"http://www.loc.gov/item/2007683750/\" target=\"_blank\"><svg height=\"30\" width=\"210\"><rect x=\"30\" y=\"0\" width=\"30\" height=\"30\" fill=\"#a08f6f\" /><rect x=\"60\" y=\"0\" width=\"30\" height=\"30\" fill=\"#8a7a59\" /><rect x=\"90\" y=\"0\" width=\"30\" height=\"30\" fill=\"#bbaa82\" /><rect x=\"120\" y=\"0\" width=\"30\" height=\"30\" fill=\"#d1bb8c\" /><rect x=\"150\" y=\"0\" width=\"30\" height=\"30\" fill=\"#685a39\" /><rect x=\"180\" y=\"0\" width=\"30\" height=\"30\" fill=\"#e5e4d1\" /></svg><a href=\"http://www.loc.gov/item/2007683759/\" target=\"_blank\"><svg height=\"30\" width=\"210\"><rect x=\"30\" y=\"0\" width=\"30\" height=\"30\" fill=\"#564630\" /><rect x=\"60\" y=\"0\" width=\"30\" height=\"30\" fill=\"#766445\" /><rect x=\"90\" y=\"0\" width=\"30\" height=\"30\" fill=\"#947f5b\" /><rect x=\"120\" y=\"0\" width=\"30\" height=\"30\" fill=\"#aa956e\" /><rect x=\"150\" y=\"0\" width=\"30\" height=\"30\" fill=\"#c3ae7d\" /><rect x=\"180\" y=\"0\" width=\"30\" height=\"30\" fill=\"#e5e2c0\" /></svg><a href=\"http://www.loc.gov/item/2007683760/\" target=\"_blank\"><svg height=\"30\" width=\"210\"><rect x=\"30\" y=\"0\" width=\"30\" height=\"30\" fill=\"#c9ac80\" /><rect x=\"60\" y=\"0\" width=\"30\" height=\"30\" fill=\"#af9a73\" /><rect x=\"90\" y=\"0\" width=\"30\" height=\"30\" fill=\"#9a855e\" /><rect x=\"120\" y=\"0\" width=\"30\" height=\"30\" fill=\"#7c6c48\" /><rect x=\"150\" y=\"0\" width=\"30\" height=\"30\" fill=\"#5d5032\" /><rect x=\"180\" y=\"0\" width=\"30\" height=\"30\" fill=\"#dbd3b5\" /></svg><a href=\"http://www.loc.gov/item/2007683761/\" target=\"_blank\"><svg height=\"30\" width=\"210\"><rect x=\"30\" y=\"0\" width=\"30\" height=\"30\" fill=\"#4a3d2c\" /><rect x=\"60\" y=\"0\" width=\"30\" height=\"30\" fill=\"#6e5e44\" /><rect x=\"90\" y=\"0\" width=\"30\" height=\"30\" fill=\"#c3ab84\" /><rect x=\"120\" y=\"0\" width=\"30\" height=\"30\" fill=\"#8b795b\" /><rect x=\"150\" y=\"0\" width=\"30\" height=\"30\" fill=\"#a89371\" /><rect x=\"180\" y=\"0\" width=\"30\" height=\"30\" fill=\"#e7dec0\" /></svg><a href=\"http://www.loc.gov/item/2007683762/\" target=\"_blank\"><svg height=\"30\" width=\"210\"><rect x=\"30\" y=\"0\" width=\"30\" height=\"30\" fill=\"#a28e6b\" /><rect x=\"60\" y=\"0\" width=\"30\" height=\"30\" fill=\"#bea984\" /><rect x=\"90\" y=\"0\" width=\"30\" height=\"30\" fill=\"#827251\" /><rect x=\"120\" y=\"0\" width=\"30\" height=\"30\" fill=\"#d6c095\" /><rect x=\"150\" y=\"0\" width=\"30\" height=\"30\" fill=\"#5e5135\" /><rect x=\"180\" y=\"0\" width=\"30\" height=\"30\" fill=\"#dfdfc7\" /></svg><a href=\"http://www.loc.gov/item/2007683763/\" target=\"_blank\"><svg height=\"30\" width=\"210\"><rect x=\"30\" y=\"0\" width=\"30\" height=\"30\" fill=\"#978466\" /><rect x=\"60\" y=\"0\" width=\"30\" height=\"30\" fill=\"#ab9879\" /><rect x=\"90\" y=\"0\" width=\"30\" height=\"30\" fill=\"#66563c\" /><rect x=\"120\" y=\"0\" width=\"30\" height=\"30\" fill=\"#c1ad8a\" /><rect x=\"150\" y=\"0\" width=\"30\" height=\"30\" fill=\"#7f6f53\" /><rect x=\"180\" y=\"0\" width=\"30\" height=\"30\" fill=\"#d2c1a0\" /></svg><a href=\"http://www.loc.gov/item/2007683764/\" target=\"_blank\"><svg height=\"30\" width=\"210\"><rect x=\"30\" y=\"0\" width=\"30\" height=\"30\" fill=\"#483c2b\" /><rect x=\"60\" y=\"0\" width=\"30\" height=\"30\" fill=\"#958268\" /><rect x=\"90\" y=\"0\" width=\"30\" height=\"30\" fill=\"#b29d80\" /><rect x=\"120\" y=\"0\" width=\"30\" height=\"30\" fill=\"#73634c\" /><rect x=\"150\" y=\"0\" width=\"30\" height=\"30\" fill=\"#ccb694\" /><rect x=\"180\" y=\"0\" width=\"30\" height=\"30\" fill=\"#e2deca\" /></svg><a href=\"http://www.loc.gov/item/2007683765/\" target=\"_blank\"><svg height=\"30\" width=\"210\"><rect x=\"30\" y=\"0\" width=\"30\" height=\"30\" fill=\"#bba482\" /><rect x=\"60\" y=\"0\" width=\"30\" height=\"30\" fill=\"#a08c6c\" /><rect x=\"90\" y=\"0\" width=\"30\" height=\"30\" fill=\"#d9c199\" /><rect x=\"120\" y=\"0\" width=\"30\" height=\"30\" fill=\"#7d6e51\" /><rect x=\"150\" y=\"0\" width=\"30\" height=\"30\" fill=\"#52482e\" /><rect x=\"180\" y=\"0\" width=\"30\" height=\"30\" fill=\"#ebead6\" /></svg><a href=\"http://www.loc.gov/item/2007683766/\" target=\"_blank\"><svg height=\"30\" width=\"210\"><rect x=\"30\" y=\"0\" width=\"30\" height=\"30\" fill=\"#9d8b6d\" /><rect x=\"60\" y=\"0\" width=\"30\" height=\"30\" fill=\"#b9a684\" /><rect x=\"90\" y=\"0\" width=\"30\" height=\"30\" fill=\"#d0bc9a\" /><rect x=\"120\" y=\"0\" width=\"30\" height=\"30\" fill=\"#7d6e52\" /><rect x=\"150\" y=\"0\" width=\"30\" height=\"30\" fill=\"#584c35\" /><rect x=\"180\" y=\"0\" width=\"30\" height=\"30\" fill=\"#eeebd7\" /></svg><a href=\"http://www.loc.gov/item/2007683767/\" target=\"_blank\"><svg height=\"30\" width=\"210\"><rect x=\"30\" y=\"0\" width=\"30\" height=\"30\" fill=\"#d5b990\" /><rect x=\"60\" y=\"0\" width=\"30\" height=\"30\" fill=\"#baa482\" /><rect x=\"90\" y=\"0\" width=\"30\" height=\"30\" fill=\"#a08d6e\" /><rect x=\"120\" y=\"0\" width=\"30\" height=\"30\" fill=\"#847357\" /><rect x=\"150\" y=\"0\" width=\"30\" height=\"30\" fill=\"#62543b\" /><rect x=\"180\" y=\"0\" width=\"30\" height=\"30\" fill=\"#e3e4d0\" /></svg><a href=\"http://www.loc.gov/item/2007683768/\" target=\"_blank\"><svg height=\"30\" width=\"210\"><rect x=\"30\" y=\"0\" width=\"30\" height=\"30\" fill=\"#a89374\" /><rect x=\"60\" y=\"0\" width=\"30\" height=\"30\" fill=\"#8f7e62\" /><rect x=\"90\" y=\"0\" width=\"30\" height=\"30\" fill=\"#73644c\" /><rect x=\"120\" y=\"0\" width=\"30\" height=\"30\" fill=\"#c5b08c\" /><rect x=\"150\" y=\"0\" width=\"30\" height=\"30\" fill=\"#524733\" /><rect x=\"180\" y=\"0\" width=\"30\" height=\"30\" fill=\"#decba4\" /></svg><a href=\"http://www.loc.gov/item/2007683751/\" target=\"_blank\"><svg height=\"30\" width=\"210\"><rect x=\"30\" y=\"0\" width=\"30\" height=\"30\" fill=\"#574a37\" /><rect x=\"60\" y=\"0\" width=\"30\" height=\"30\" fill=\"#ccb085\" /><rect x=\"90\" y=\"0\" width=\"30\" height=\"30\" fill=\"#b29b77\" /><rect x=\"120\" y=\"0\" width=\"30\" height=\"30\" fill=\"#978565\" /><rect x=\"150\" y=\"0\" width=\"30\" height=\"30\" fill=\"#7d6d50\" /><rect x=\"180\" y=\"0\" width=\"30\" height=\"30\" fill=\"#e7dcbc\" /></svg><a href=\"http://www.loc.gov/item/2007683769/\" target=\"_blank\"><svg height=\"30\" width=\"210\"><rect x=\"30\" y=\"0\" width=\"30\" height=\"30\" fill=\"#a18b6e\" /><rect x=\"60\" y=\"0\" width=\"30\" height=\"30\" fill=\"#bba382\" /><rect x=\"90\" y=\"0\" width=\"30\" height=\"30\" fill=\"#d5b992\" /><rect x=\"120\" y=\"0\" width=\"30\" height=\"30\" fill=\"#827055\" /><rect x=\"150\" y=\"0\" width=\"30\" height=\"30\" fill=\"#5a4e37\" /><rect x=\"180\" y=\"0\" width=\"30\" height=\"30\" fill=\"#eceddb\" /></svg><a href=\"http://www.loc.gov/item/2007683770/\" target=\"_blank\"><svg height=\"30\" width=\"210\"><rect x=\"30\" y=\"0\" width=\"30\" height=\"30\" fill=\"#beaa82\" /><rect x=\"60\" y=\"0\" width=\"30\" height=\"30\" fill=\"#a4926c\" /><rect x=\"90\" y=\"0\" width=\"30\" height=\"30\" fill=\"#8b7b58\" /><rect x=\"120\" y=\"0\" width=\"30\" height=\"30\" fill=\"#716242\" /><rect x=\"150\" y=\"0\" width=\"30\" height=\"30\" fill=\"#504427\" /><rect x=\"180\" y=\"0\" width=\"30\" height=\"30\" fill=\"#dbcca6\" /></svg><a href=\"http://www.loc.gov/item/2007683771/\" target=\"_blank\"><svg height=\"30\" width=\"210\"><rect x=\"30\" y=\"0\" width=\"30\" height=\"30\" fill=\"#fbf6f1\" /><rect x=\"60\" y=\"0\" width=\"30\" height=\"30\" fill=\"#5b492f\" /><rect x=\"90\" y=\"0\" width=\"30\" height=\"30\" fill=\"#a99471\" /><rect x=\"120\" y=\"0\" width=\"30\" height=\"30\" fill=\"#816e4e\" /><rect x=\"150\" y=\"0\" width=\"30\" height=\"30\" fill=\"#ccb58c\" /><rect x=\"180\" y=\"0\" width=\"30\" height=\"30\" fill=\"#e9d7a9\" /></svg><a href=\"http://www.loc.gov/item/2007683772/\" target=\"_blank\"><svg height=\"30\" width=\"210\"><rect x=\"30\" y=\"0\" width=\"30\" height=\"30\" fill=\"#413320\" /><rect x=\"60\" y=\"0\" width=\"30\" height=\"30\" fill=\"#86775b\" /><rect x=\"90\" y=\"0\" width=\"30\" height=\"30\" fill=\"#63553b\" /><rect x=\"120\" y=\"0\" width=\"30\" height=\"30\" fill=\"#aa9a79\" /><rect x=\"150\" y=\"0\" width=\"30\" height=\"30\" fill=\"#c8bd99\" /><rect x=\"180\" y=\"0\" width=\"30\" height=\"30\" fill=\"#f1f5eb\" /></svg><a href=\"http://www.loc.gov/item/2007683773/\" target=\"_blank\"><svg height=\"30\" width=\"210\"><rect x=\"30\" y=\"0\" width=\"30\" height=\"30\" fill=\"#4c3f2b\" /><rect x=\"60\" y=\"0\" width=\"30\" height=\"30\" fill=\"#716446\" /><rect x=\"90\" y=\"0\" width=\"30\" height=\"30\" fill=\"#958666\" /><rect x=\"120\" y=\"0\" width=\"30\" height=\"30\" fill=\"#b4a480\" /><rect x=\"150\" y=\"0\" width=\"30\" height=\"30\" fill=\"#ccbd96\" /><rect x=\"180\" y=\"0\" width=\"30\" height=\"30\" fill=\"#eff1de\" /></svg><a href=\"http://www.loc.gov/item/2007683774/\" target=\"_blank\"><svg height=\"30\" width=\"210\"><rect x=\"30\" y=\"0\" width=\"30\" height=\"30\" fill=\"#bda27f\" /><rect x=\"60\" y=\"0\" width=\"30\" height=\"30\" fill=\"#d2b894\" /><rect x=\"90\" y=\"0\" width=\"30\" height=\"30\" fill=\"#4d3f2c\" /><rect x=\"120\" y=\"0\" width=\"30\" height=\"30\" fill=\"#9b8667\" /><rect x=\"150\" y=\"0\" width=\"30\" height=\"30\" fill=\"#746248\" /><rect x=\"180\" y=\"0\" width=\"30\" height=\"30\" fill=\"#e9ecd8\" /></svg><a href=\"http://www.loc.gov/item/2007683775/\" target=\"_blank\"><svg height=\"30\" width=\"210\"><rect x=\"30\" y=\"0\" width=\"30\" height=\"30\" fill=\"#89704b\" /><rect x=\"60\" y=\"0\" width=\"30\" height=\"30\" fill=\"#a3885f\" /><rect x=\"90\" y=\"0\" width=\"30\" height=\"30\" fill=\"#ba9e71\" /><rect x=\"120\" y=\"0\" width=\"30\" height=\"30\" fill=\"#cdb385\" /><rect x=\"150\" y=\"0\" width=\"30\" height=\"30\" fill=\"#695533\" /><rect x=\"180\" y=\"0\" width=\"30\" height=\"30\" fill=\"#f3f2da\" /></svg><a href=\"http://www.loc.gov/item/2007683752/\" target=\"_blank\"><svg height=\"30\" width=\"210\"><rect x=\"30\" y=\"0\" width=\"30\" height=\"30\" fill=\"#574a30\" /><rect x=\"60\" y=\"0\" width=\"30\" height=\"30\" fill=\"#a79978\" /><rect x=\"90\" y=\"0\" width=\"30\" height=\"30\" fill=\"#8f8262\" /><rect x=\"120\" y=\"0\" width=\"30\" height=\"30\" fill=\"#c4b48c\" /><rect x=\"150\" y=\"0\" width=\"30\" height=\"30\" fill=\"#746749\" /><rect x=\"180\" y=\"0\" width=\"30\" height=\"30\" fill=\"#dad6be\" /></svg><a href=\"http://www.loc.gov/item/2007683753/\" target=\"_blank\"><svg height=\"30\" width=\"210\"><rect x=\"30\" y=\"0\" width=\"30\" height=\"30\" fill=\"#8e7953\" /><rect x=\"60\" y=\"0\" width=\"30\" height=\"30\" fill=\"#baa378\" /><rect x=\"90\" y=\"0\" width=\"30\" height=\"30\" fill=\"#a6916a\" /><rect x=\"120\" y=\"0\" width=\"30\" height=\"30\" fill=\"#6f5c39\" /><rect x=\"150\" y=\"0\" width=\"30\" height=\"30\" fill=\"#ccb385\" /><rect x=\"180\" y=\"0\" width=\"30\" height=\"30\" fill=\"#d5d1b6\" /></svg><a href=\"http://www.loc.gov/item/2007683754/\" target=\"_blank\"><svg height=\"30\" width=\"210\"><rect x=\"30\" y=\"0\" width=\"30\" height=\"30\" fill=\"#5c4933\" /><rect x=\"60\" y=\"0\" width=\"30\" height=\"30\" fill=\"#846f4f\" /><rect x=\"90\" y=\"0\" width=\"30\" height=\"30\" fill=\"#b29b75\" /><rect x=\"120\" y=\"0\" width=\"30\" height=\"30\" fill=\"#c9ae82\" /><rect x=\"150\" y=\"0\" width=\"30\" height=\"30\" fill=\"#9d8864\" /><rect x=\"180\" y=\"0\" width=\"30\" height=\"30\" fill=\"#d9c6a0\" /></svg><a href=\"http://www.loc.gov/item/2007683755/\" target=\"_blank\"><svg height=\"30\" width=\"210\"><rect x=\"30\" y=\"0\" width=\"30\" height=\"30\" fill=\"#463724\" /><rect x=\"60\" y=\"0\" width=\"30\" height=\"30\" fill=\"#6d5c3d\" /><rect x=\"90\" y=\"0\" width=\"30\" height=\"30\" fill=\"#b29c74\" /><rect x=\"120\" y=\"0\" width=\"30\" height=\"30\" fill=\"#8f7d59\" /><rect x=\"150\" y=\"0\" width=\"30\" height=\"30\" fill=\"#ccb688\" /><rect x=\"180\" y=\"0\" width=\"30\" height=\"30\" fill=\"#dfd9ba\" /></svg><a href=\"http://www.loc.gov/item/2007683756/\" target=\"_blank\"><svg height=\"30\" width=\"210\"><rect x=\"30\" y=\"0\" width=\"30\" height=\"30\" fill=\"#41342d\" /><rect x=\"60\" y=\"0\" width=\"30\" height=\"30\" fill=\"#66584a\" /><rect x=\"90\" y=\"0\" width=\"30\" height=\"30\" fill=\"#857665\" /><rect x=\"120\" y=\"0\" width=\"30\" height=\"30\" fill=\"#a3927e\" /><rect x=\"150\" y=\"0\" width=\"30\" height=\"30\" fill=\"#beaf95\" /><rect x=\"180\" y=\"0\" width=\"30\" height=\"30\" fill=\"#e7e2d3\" /></svg><a href=\"http://www.loc.gov/item/2007683757/\" target=\"_blank\"><svg height=\"30\" width=\"210\"><rect x=\"30\" y=\"0\" width=\"30\" height=\"30\" fill=\"#50402d\" /><rect x=\"60\" y=\"0\" width=\"30\" height=\"30\" fill=\"#77674a\" /><rect x=\"90\" y=\"0\" width=\"30\" height=\"30\" fill=\"#948466\" /><rect x=\"120\" y=\"0\" width=\"30\" height=\"30\" fill=\"#ab9c7b\" /><rect x=\"150\" y=\"0\" width=\"30\" height=\"30\" fill=\"#c7b790\" /><rect x=\"180\" y=\"0\" width=\"30\" height=\"30\" fill=\"#ded5bd\" /></svg><a href=\"http://www.loc.gov/item/2007683758/\" target=\"_blank\"><svg height=\"30\" width=\"210\"><rect x=\"30\" y=\"0\" width=\"30\" height=\"30\" fill=\"#3e2f1f\" /><rect x=\"60\" y=\"0\" width=\"30\" height=\"30\" fill=\"#635038\" /><rect x=\"90\" y=\"0\" width=\"30\" height=\"30\" fill=\"#826e50\" /><rect x=\"120\" y=\"0\" width=\"30\" height=\"30\" fill=\"#a18c6a\" /><rect x=\"150\" y=\"0\" width=\"30\" height=\"30\" fill=\"#c7ab7a\" /><rect x=\"180\" y=\"0\" width=\"30\" height=\"30\" fill=\"#e8dfbf\" /></svg>"
            ],
            "text/plain": [
              "<IPython.core.display.HTML object>"
            ]
          },
          "metadata": {},
          "output_type": "display_data"
        }
      ],
      "source": [
        "linkable_baseball_page_html = \"\"\n",
        "\n",
        "for image in zip(item_urls, all_images):\n",
        "    line = draw_row_with_links(image)\n",
        "    linkable_baseball_page_html += line\n",
        "    \n",
        "display(HTML(linkable_baseball_page_html))"
      ]
    },
    {
      "cell_type": "markdown",
      "metadata": {},
      "source": [
        "## Colors in other collections"
      ]
    },
    {
      "cell_type": "markdown",
      "metadata": {},
      "source": [
        "Since the color analysis includes the entire image, it's influenced by the framing colors and targets (the color ruler used to evaluate color accuracy). \n",
        "\n",
        "Some collections such as Cartoons and Drawings and Japanese Prints pre-1915 sometimes include a target when the digitized image is a scan of a color transparency. \n"
      ]
    },
    {
      "cell_type": "markdown",
      "metadata": {},
      "source": [
        "What are the colors in the **Works Progress Administration Posters**? Remember, we already got the URLs and colors above. "
      ]
    },
    {
      "cell_type": "code",
      "execution_count": 18,
      "metadata": {
        "collapsed": false,
        "jupyter": {
          "outputs_hidden": false
        }
      },
      "outputs": [
        {
          "data": {
            "text/html": [
              "<a href=\"http://www.loc.gov/item/98518971/\" target=\"_blank\"><svg height=\"30\" width=\"210\"><rect x=\"30\" y=\"0\" width=\"30\" height=\"30\" fill=\"#402e0e\" /><rect x=\"60\" y=\"0\" width=\"30\" height=\"30\" fill=\"#d2c7a8\" /><rect x=\"90\" y=\"0\" width=\"30\" height=\"30\" fill=\"#e5e8e4\" /><rect x=\"120\" y=\"0\" width=\"30\" height=\"30\" fill=\"#51687f\" /><rect x=\"150\" y=\"0\" width=\"30\" height=\"30\" fill=\"#5c7ab1\" /><rect x=\"180\" y=\"0\" width=\"30\" height=\"30\" fill=\"#15308f\" /></svg><a href=\"http://www.loc.gov/item/98518981/\" target=\"_blank\"><svg height=\"30\" width=\"210\"><rect x=\"30\" y=\"0\" width=\"30\" height=\"30\" fill=\"#ae3723\" /><rect x=\"60\" y=\"0\" width=\"30\" height=\"30\" fill=\"#d4ad6d\" /><rect x=\"90\" y=\"0\" width=\"30\" height=\"30\" fill=\"#867b55\" /><rect x=\"120\" y=\"0\" width=\"30\" height=\"30\" fill=\"#82abb6\" /><rect x=\"150\" y=\"0\" width=\"30\" height=\"30\" fill=\"#060813\" /><rect x=\"180\" y=\"0\" width=\"30\" height=\"30\" fill=\"#493d63\" /></svg><a href=\"http://www.loc.gov/item/98519001/\" target=\"_blank\"><svg height=\"30\" width=\"210\"><rect x=\"30\" y=\"0\" width=\"30\" height=\"30\" fill=\"#ab1b09\" /><rect x=\"60\" y=\"0\" width=\"30\" height=\"30\" fill=\"#b37f37\" /><rect x=\"90\" y=\"0\" width=\"30\" height=\"30\" fill=\"#1e1509\" /><rect x=\"120\" y=\"0\" width=\"30\" height=\"30\" fill=\"#cea04e\" /><rect x=\"150\" y=\"0\" width=\"30\" height=\"30\" fill=\"#7a602b\" /><rect x=\"180\" y=\"0\" width=\"30\" height=\"30\" fill=\"#3c3921\" /></svg><a href=\"http://www.loc.gov/item/98516970/\" target=\"_blank\"><svg height=\"30\" width=\"210\"><rect x=\"30\" y=\"0\" width=\"30\" height=\"30\" fill=\"#2b2214\" /><rect x=\"60\" y=\"0\" width=\"30\" height=\"30\" fill=\"#4c4331\" /><rect x=\"90\" y=\"0\" width=\"30\" height=\"30\" fill=\"#978561\" /><rect x=\"120\" y=\"0\" width=\"30\" height=\"30\" fill=\"#b29f78\" /><rect x=\"150\" y=\"0\" width=\"30\" height=\"30\" fill=\"#cdb88c\" /><rect x=\"180\" y=\"0\" width=\"30\" height=\"30\" fill=\"#726446\" /></svg><a href=\"http://www.loc.gov/item/98516954/\" target=\"_blank\"><svg height=\"30\" width=\"210\"><rect x=\"30\" y=\"0\" width=\"30\" height=\"30\" fill=\"#a93c0d\" /><rect x=\"60\" y=\"0\" width=\"30\" height=\"30\" fill=\"#c8743f\" /><rect x=\"90\" y=\"0\" width=\"30\" height=\"30\" fill=\"#312615\" /><rect x=\"120\" y=\"0\" width=\"30\" height=\"30\" fill=\"#d2b178\" /><rect x=\"150\" y=\"0\" width=\"30\" height=\"30\" fill=\"#ac925a\" /><rect x=\"180\" y=\"0\" width=\"30\" height=\"30\" fill=\"#736432\" /></svg><a href=\"http://www.loc.gov/item/98518112/\" target=\"_blank\"><svg height=\"30\" width=\"210\"><rect x=\"30\" y=\"0\" width=\"30\" height=\"30\" fill=\"#ac5a36\" /><rect x=\"60\" y=\"0\" width=\"30\" height=\"30\" fill=\"#d0c3ba\" /><rect x=\"90\" y=\"0\" width=\"30\" height=\"30\" fill=\"#eaede8\" /><rect x=\"120\" y=\"0\" width=\"30\" height=\"30\" fill=\"#97a1ab\" /><rect x=\"150\" y=\"0\" width=\"30\" height=\"30\" fill=\"#4f6172\" /><rect x=\"180\" y=\"0\" width=\"30\" height=\"30\" fill=\"#1a161d\" /></svg><a href=\"http://www.loc.gov/item/98518239/\" target=\"_blank\"><svg height=\"30\" width=\"210\"><rect x=\"30\" y=\"0\" width=\"30\" height=\"30\" fill=\"#c57f6b\" /><rect x=\"60\" y=\"0\" width=\"30\" height=\"30\" fill=\"#7d645d\" /><rect x=\"90\" y=\"0\" width=\"30\" height=\"30\" fill=\"#3c3735\" /><rect x=\"120\" y=\"0\" width=\"30\" height=\"30\" fill=\"#1b1a19\" /><rect x=\"150\" y=\"0\" width=\"30\" height=\"30\" fill=\"#e4d8b3\" /><rect x=\"180\" y=\"0\" width=\"30\" height=\"30\" fill=\"#a3a397\" /></svg><a href=\"http://www.loc.gov/item/98507747/\" target=\"_blank\"><svg height=\"30\" width=\"210\"><rect x=\"30\" y=\"0\" width=\"30\" height=\"30\" fill=\"#c74325\" /><rect x=\"60\" y=\"0\" width=\"30\" height=\"30\" fill=\"#3d352c\" /><rect x=\"90\" y=\"0\" width=\"30\" height=\"30\" fill=\"#141009\" /><rect x=\"120\" y=\"0\" width=\"30\" height=\"30\" fill=\"#d6bb87\" /><rect x=\"150\" y=\"0\" width=\"30\" height=\"30\" fill=\"#7c745f\" /><rect x=\"180\" y=\"0\" width=\"30\" height=\"30\" fill=\"#2f455d\" /></svg><a href=\"http://www.loc.gov/item/98507616/\" target=\"_blank\"><svg height=\"30\" width=\"210\"><rect x=\"30\" y=\"0\" width=\"30\" height=\"30\" fill=\"#110d06\" /><rect x=\"60\" y=\"0\" width=\"30\" height=\"30\" fill=\"#d19a17\" /><rect x=\"90\" y=\"0\" width=\"30\" height=\"30\" fill=\"#c2b48d\" /><rect x=\"120\" y=\"0\" width=\"30\" height=\"30\" fill=\"#3a3522\" /><rect x=\"150\" y=\"0\" width=\"30\" height=\"30\" fill=\"#86825e\" /><rect x=\"180\" y=\"0\" width=\"30\" height=\"30\" fill=\"#555b3a\" /></svg><a href=\"http://www.loc.gov/item/92500653/\" target=\"_blank\"><svg height=\"30\" width=\"210\"><rect x=\"30\" y=\"0\" width=\"30\" height=\"30\" fill=\"#c73f2b\" /><rect x=\"60\" y=\"0\" width=\"30\" height=\"30\" fill=\"#7c482b\" /><rect x=\"90\" y=\"0\" width=\"30\" height=\"30\" fill=\"#d3bc67\" /><rect x=\"120\" y=\"0\" width=\"30\" height=\"30\" fill=\"#d7d8d3\" /><rect x=\"150\" y=\"0\" width=\"30\" height=\"30\" fill=\"#7a8a8d\" /><rect x=\"180\" y=\"0\" width=\"30\" height=\"30\" fill=\"#343543\" /></svg><a href=\"http://www.loc.gov/item/92500875/\" target=\"_blank\"><svg height=\"30\" width=\"210\"><rect x=\"30\" y=\"0\" width=\"30\" height=\"30\" fill=\"#c5472c\" /><rect x=\"60\" y=\"0\" width=\"30\" height=\"30\" fill=\"#9d9d9d\" /><rect x=\"90\" y=\"0\" width=\"30\" height=\"30\" fill=\"#d1d0c8\" /><rect x=\"120\" y=\"0\" width=\"30\" height=\"30\" fill=\"#454f5d\" /><rect x=\"150\" y=\"0\" width=\"30\" height=\"30\" fill=\"#5c7294\" /><rect x=\"180\" y=\"0\" width=\"30\" height=\"30\" fill=\"#262626\" /></svg><a href=\"http://www.loc.gov/item/98508315/\" target=\"_blank\"><svg height=\"30\" width=\"210\"><rect x=\"30\" y=\"0\" width=\"30\" height=\"30\" fill=\"#cd8e23\" /><rect x=\"60\" y=\"0\" width=\"30\" height=\"30\" fill=\"#5a584c\" /><rect x=\"90\" y=\"0\" width=\"30\" height=\"30\" fill=\"#acaa9b\" /><rect x=\"120\" y=\"0\" width=\"30\" height=\"30\" fill=\"#e5e5d7\" /><rect x=\"150\" y=\"0\" width=\"30\" height=\"30\" fill=\"#171b1f\" /><rect x=\"180\" y=\"0\" width=\"30\" height=\"30\" fill=\"#2b5aac\" /></svg><a href=\"http://www.loc.gov/item/98508363/\" target=\"_blank\"><svg height=\"30\" width=\"210\"><rect x=\"30\" y=\"0\" width=\"30\" height=\"30\" fill=\"#704638\" /><rect x=\"60\" y=\"0\" width=\"30\" height=\"30\" fill=\"#9d7c62\" /><rect x=\"90\" y=\"0\" width=\"30\" height=\"30\" fill=\"#b47027\" /><rect x=\"120\" y=\"0\" width=\"30\" height=\"30\" fill=\"#c9ae8a\" /><rect x=\"150\" y=\"0\" width=\"30\" height=\"30\" fill=\"#21190d\" /><rect x=\"180\" y=\"0\" width=\"30\" height=\"30\" fill=\"#d7ab14\" /></svg><a href=\"http://www.loc.gov/item/92500870/\" target=\"_blank\"><svg height=\"30\" width=\"210\"><rect x=\"30\" y=\"0\" width=\"30\" height=\"30\" fill=\"#302a22\" /><rect x=\"60\" y=\"0\" width=\"30\" height=\"30\" fill=\"#cdac45\" /><rect x=\"90\" y=\"0\" width=\"30\" height=\"30\" fill=\"#c9bb7e\" /><rect x=\"120\" y=\"0\" width=\"30\" height=\"30\" fill=\"#c2c1b4\" /><rect x=\"150\" y=\"0\" width=\"30\" height=\"30\" fill=\"#5c5d57\" /><rect x=\"180\" y=\"0\" width=\"30\" height=\"30\" fill=\"#898b84\" /></svg><a href=\"http://www.loc.gov/item/98508190/\" target=\"_blank\"><svg height=\"30\" width=\"210\"><rect x=\"30\" y=\"0\" width=\"30\" height=\"30\" fill=\"#884127\" /><rect x=\"60\" y=\"0\" width=\"30\" height=\"30\" fill=\"#eceae5\" /><rect x=\"90\" y=\"0\" width=\"30\" height=\"30\" fill=\"#e7c674\" /><rect x=\"120\" y=\"0\" width=\"30\" height=\"30\" fill=\"#b8b9ac\" /><rect x=\"150\" y=\"0\" width=\"30\" height=\"30\" fill=\"#7a7d69\" /><rect x=\"180\" y=\"0\" width=\"30\" height=\"30\" fill=\"#141122\" /></svg><a href=\"http://www.loc.gov/item/98507743/\" target=\"_blank\"><svg height=\"30\" width=\"210\"><rect x=\"30\" y=\"0\" width=\"30\" height=\"30\" fill=\"#7e4e27\" /><rect x=\"60\" y=\"0\" width=\"30\" height=\"30\" fill=\"#d17815\" /><rect x=\"90\" y=\"0\" width=\"30\" height=\"30\" fill=\"#bd9b6c\" /><rect x=\"120\" y=\"0\" width=\"30\" height=\"30\" fill=\"#d6c09e\" /><rect x=\"150\" y=\"0\" width=\"30\" height=\"30\" fill=\"#272012\" /><rect x=\"180\" y=\"0\" width=\"30\" height=\"30\" fill=\"#e4b310\" /></svg><a href=\"http://www.loc.gov/item/98508942/\" target=\"_blank\"><svg height=\"30\" width=\"210\"><rect x=\"30\" y=\"0\" width=\"30\" height=\"30\" fill=\"#a13110\" /><rect x=\"60\" y=\"0\" width=\"30\" height=\"30\" fill=\"#561b07\" /><rect x=\"90\" y=\"0\" width=\"30\" height=\"30\" fill=\"#1d2215\" /><rect x=\"120\" y=\"0\" width=\"30\" height=\"30\" fill=\"#b2bda2\" /><rect x=\"150\" y=\"0\" width=\"30\" height=\"30\" fill=\"#3e4f3e\" /><rect x=\"180\" y=\"0\" width=\"30\" height=\"30\" fill=\"#67846e\" /></svg><a href=\"http://www.loc.gov/item/98508955/\" target=\"_blank\"><svg height=\"30\" width=\"210\"><rect x=\"30\" y=\"0\" width=\"30\" height=\"30\" fill=\"#9a4d18\" /><rect x=\"60\" y=\"0\" width=\"30\" height=\"30\" fill=\"#352f22\" /><rect x=\"90\" y=\"0\" width=\"30\" height=\"30\" fill=\"#1f1a10\" /><rect x=\"120\" y=\"0\" width=\"30\" height=\"30\" fill=\"#bcb599\" /><rect x=\"150\" y=\"0\" width=\"30\" height=\"30\" fill=\"#4f5547\" /><rect x=\"180\" y=\"0\" width=\"30\" height=\"30\" fill=\"#717c6c\" /></svg><a href=\"http://www.loc.gov/item/92513367/\" target=\"_blank\"><svg height=\"30\" width=\"210\"><rect x=\"30\" y=\"0\" width=\"30\" height=\"30\" fill=\"#c5906c\" /><rect x=\"60\" y=\"0\" width=\"30\" height=\"30\" fill=\"#4c4a40\" /><rect x=\"90\" y=\"0\" width=\"30\" height=\"30\" fill=\"#737064\" /><rect x=\"120\" y=\"0\" width=\"30\" height=\"30\" fill=\"#cdcdbe\" /><rect x=\"150\" y=\"0\" width=\"30\" height=\"30\" fill=\"#262726\" /><rect x=\"180\" y=\"0\" width=\"30\" height=\"30\" fill=\"#8099ae\" /></svg><a href=\"http://www.loc.gov/item/98509582/\" target=\"_blank\"><svg height=\"30\" width=\"210\"><rect x=\"30\" y=\"0\" width=\"30\" height=\"30\" fill=\"#3c84d0\" /><rect x=\"60\" y=\"0\" width=\"30\" height=\"30\" fill=\"#e7e9ee\" /><rect x=\"90\" y=\"0\" width=\"30\" height=\"30\" fill=\"#424561\" /><rect x=\"120\" y=\"0\" width=\"30\" height=\"30\" fill=\"#0e1235\" /><rect x=\"150\" y=\"0\" width=\"30\" height=\"30\" fill=\"#997a86\" /><rect x=\"180\" y=\"0\" width=\"30\" height=\"30\" fill=\"#beb3b7\" /></svg><a href=\"http://www.loc.gov/item/98509666/\" target=\"_blank\"><svg height=\"30\" width=\"210\"><rect x=\"30\" y=\"0\" width=\"30\" height=\"30\" fill=\"#955740\" /><rect x=\"60\" y=\"0\" width=\"30\" height=\"30\" fill=\"#3e3b36\" /><rect x=\"90\" y=\"0\" width=\"30\" height=\"30\" fill=\"#dfc275\" /><rect x=\"120\" y=\"0\" width=\"30\" height=\"30\" fill=\"#e8dec1\" /><rect x=\"150\" y=\"0\" width=\"30\" height=\"30\" fill=\"#231f12\" /><rect x=\"180\" y=\"0\" width=\"30\" height=\"30\" fill=\"#848574\" /></svg><a href=\"http://www.loc.gov/item/98509668/\" target=\"_blank\"><svg height=\"30\" width=\"210\"><rect x=\"30\" y=\"0\" width=\"30\" height=\"30\" fill=\"#ebe8e5\" /><rect x=\"60\" y=\"0\" width=\"30\" height=\"30\" fill=\"#bdb7af\" /><rect x=\"90\" y=\"0\" width=\"30\" height=\"30\" fill=\"#181e52\" /><rect x=\"120\" y=\"0\" width=\"30\" height=\"30\" fill=\"#151533\" /><rect x=\"150\" y=\"0\" width=\"30\" height=\"30\" fill=\"#514e55\" /><rect x=\"180\" y=\"0\" width=\"30\" height=\"30\" fill=\"#878284\" /></svg><a href=\"http://www.loc.gov/item/89710373/\" target=\"_blank\"><svg height=\"30\" width=\"210\"><rect x=\"30\" y=\"0\" width=\"30\" height=\"30\" fill=\"#5f493e\" /><rect x=\"60\" y=\"0\" width=\"30\" height=\"30\" fill=\"#201e1b\" /><rect x=\"90\" y=\"0\" width=\"30\" height=\"30\" fill=\"#dfdad0\" /><rect x=\"120\" y=\"0\" width=\"30\" height=\"30\" fill=\"#b4b5a6\" /><rect x=\"150\" y=\"0\" width=\"30\" height=\"30\" fill=\"#939b7c\" /><rect x=\"180\" y=\"0\" width=\"30\" height=\"30\" fill=\"#4c6a98\" /></svg><a href=\"http://www.loc.gov/item/98509697/\" target=\"_blank\"><svg height=\"30\" width=\"210\"><rect x=\"30\" y=\"0\" width=\"30\" height=\"30\" fill=\"#d3cdbb\" /><rect x=\"60\" y=\"0\" width=\"30\" height=\"30\" fill=\"#7c92a2\" /><rect x=\"90\" y=\"0\" width=\"30\" height=\"30\" fill=\"#26689d\" /><rect x=\"120\" y=\"0\" width=\"30\" height=\"30\" fill=\"#355572\" /><rect x=\"150\" y=\"0\" width=\"30\" height=\"30\" fill=\"#090f1b\" /><rect x=\"180\" y=\"0\" width=\"30\" height=\"30\" fill=\"#29293a\" /></svg><a href=\"http://www.loc.gov/item/98509756/\" target=\"_blank\"><svg height=\"30\" width=\"210\"><rect x=\"30\" y=\"0\" width=\"30\" height=\"30\" fill=\"#2a2210\" /><rect x=\"60\" y=\"0\" width=\"30\" height=\"30\" fill=\"#5e4c20\" /><rect x=\"90\" y=\"0\" width=\"30\" height=\"30\" fill=\"#c49213\" /><rect x=\"120\" y=\"0\" width=\"30\" height=\"30\" fill=\"#c5b997\" /><rect x=\"150\" y=\"0\" width=\"30\" height=\"30\" fill=\"#7d7455\" /><rect x=\"180\" y=\"0\" width=\"30\" height=\"30\" fill=\"#b4a576\" /></svg><a href=\"http://www.loc.gov/item/98509757/\" target=\"_blank\"><svg height=\"30\" width=\"210\"><rect x=\"30\" y=\"0\" width=\"30\" height=\"30\" fill=\"#b98554\" /><rect x=\"60\" y=\"0\" width=\"30\" height=\"30\" fill=\"#584425\" /><rect x=\"90\" y=\"0\" width=\"30\" height=\"30\" fill=\"#261e0e\" /><rect x=\"120\" y=\"0\" width=\"30\" height=\"30\" fill=\"#c8b999\" /><rect x=\"150\" y=\"0\" width=\"30\" height=\"30\" fill=\"#b2a380\" /><rect x=\"180\" y=\"0\" width=\"30\" height=\"30\" fill=\"#7a6e45\" /></svg><a href=\"http://www.loc.gov/item/98509768/\" target=\"_blank\"><svg height=\"30\" width=\"210\"><rect x=\"30\" y=\"0\" width=\"30\" height=\"30\" fill=\"#724428\" /><rect x=\"60\" y=\"0\" width=\"30\" height=\"30\" fill=\"#b67e52\" /><rect x=\"90\" y=\"0\" width=\"30\" height=\"30\" fill=\"#c9b89b\" /><rect x=\"120\" y=\"0\" width=\"30\" height=\"30\" fill=\"#7b705e\" /><rect x=\"150\" y=\"0\" width=\"30\" height=\"30\" fill=\"#aca184\" /><rect x=\"180\" y=\"0\" width=\"30\" height=\"30\" fill=\"#232118\" /></svg><a href=\"http://www.loc.gov/item/98509947/\" target=\"_blank\"><svg height=\"30\" width=\"210\"><rect x=\"30\" y=\"0\" width=\"30\" height=\"30\" fill=\"#694b27\" /><rect x=\"60\" y=\"0\" width=\"30\" height=\"30\" fill=\"#221b0f\" /><rect x=\"90\" y=\"0\" width=\"30\" height=\"30\" fill=\"#dac9ab\" /><rect x=\"120\" y=\"0\" width=\"30\" height=\"30\" fill=\"#8a7144\" /><rect x=\"150\" y=\"0\" width=\"30\" height=\"30\" fill=\"#b8a580\" /><rect x=\"180\" y=\"0\" width=\"30\" height=\"30\" fill=\"#c9a022\" /></svg><a href=\"http://www.loc.gov/item/98507711/\" target=\"_blank\"><svg height=\"30\" width=\"210\"><rect x=\"30\" y=\"0\" width=\"30\" height=\"30\" fill=\"#c06458\" /><rect x=\"60\" y=\"0\" width=\"30\" height=\"30\" fill=\"#baa68e\" /><rect x=\"90\" y=\"0\" width=\"30\" height=\"30\" fill=\"#d2c2ab\" /><rect x=\"120\" y=\"0\" width=\"30\" height=\"30\" fill=\"#2a2317\" /><rect x=\"150\" y=\"0\" width=\"30\" height=\"30\" fill=\"#6c614c\" /><rect x=\"180\" y=\"0\" width=\"30\" height=\"30\" fill=\"#928873\" /></svg><a href=\"http://www.loc.gov/item/98507186/\" target=\"_blank\"><svg height=\"30\" width=\"210\"><rect x=\"30\" y=\"0\" width=\"30\" height=\"30\" fill=\"#bd5026\" /><rect x=\"60\" y=\"0\" width=\"30\" height=\"30\" fill=\"#cabbb5\" /><rect x=\"90\" y=\"0\" width=\"30\" height=\"30\" fill=\"#e8e6e0\" /><rect x=\"120\" y=\"0\" width=\"30\" height=\"30\" fill=\"#7d8caa\" /><rect x=\"150\" y=\"0\" width=\"30\" height=\"30\" fill=\"#585e70\" /><rect x=\"180\" y=\"0\" width=\"30\" height=\"30\" fill=\"#192149\" /></svg><a href=\"http://www.loc.gov/item/98518275/\" target=\"_blank\"><svg height=\"30\" width=\"210\"><rect x=\"30\" y=\"0\" width=\"30\" height=\"30\" fill=\"#8a2d12\" /><rect x=\"60\" y=\"0\" width=\"30\" height=\"30\" fill=\"#443019\" /><rect x=\"90\" y=\"0\" width=\"30\" height=\"30\" fill=\"#ac895c\" /><rect x=\"120\" y=\"0\" width=\"30\" height=\"30\" fill=\"#cfac7d\" /><rect x=\"150\" y=\"0\" width=\"30\" height=\"30\" fill=\"#7f663a\" /><rect x=\"180\" y=\"0\" width=\"30\" height=\"30\" fill=\"#1e1606\" /></svg><a href=\"http://www.loc.gov/item/98512424/\" target=\"_blank\"><svg height=\"30\" width=\"210\"><rect x=\"30\" y=\"0\" width=\"30\" height=\"30\" fill=\"#b04407\" /><rect x=\"60\" y=\"0\" width=\"30\" height=\"30\" fill=\"#5f340b\" /><rect x=\"90\" y=\"0\" width=\"30\" height=\"30\" fill=\"#291f0c\" /><rect x=\"120\" y=\"0\" width=\"30\" height=\"30\" fill=\"#896419\" /><rect x=\"150\" y=\"0\" width=\"30\" height=\"30\" fill=\"#cd9725\" /><rect x=\"180\" y=\"0\" width=\"30\" height=\"30\" fill=\"#b7903b\" /></svg><a href=\"http://www.loc.gov/item/98512440/\" target=\"_blank\"><svg height=\"30\" width=\"210\"><rect x=\"30\" y=\"0\" width=\"30\" height=\"30\" fill=\"#603b2a\" /><rect x=\"60\" y=\"0\" width=\"30\" height=\"30\" fill=\"#853e1a\" /><rect x=\"90\" y=\"0\" width=\"30\" height=\"30\" fill=\"#7e6554\" /><rect x=\"120\" y=\"0\" width=\"30\" height=\"30\" fill=\"#271f18\" /><rect x=\"150\" y=\"0\" width=\"30\" height=\"30\" fill=\"#bd8d52\" /><rect x=\"180\" y=\"0\" width=\"30\" height=\"30\" fill=\"#80908e\" /></svg><a href=\"http://www.loc.gov/item/98512488/\" target=\"_blank\"><svg height=\"30\" width=\"210\"><rect x=\"30\" y=\"0\" width=\"30\" height=\"30\" fill=\"#94615e\" /><rect x=\"60\" y=\"0\" width=\"30\" height=\"30\" fill=\"#af958c\" /><rect x=\"90\" y=\"0\" width=\"30\" height=\"30\" fill=\"#d3cdc9\" /><rect x=\"120\" y=\"0\" width=\"30\" height=\"30\" fill=\"#2858b7\" /><rect x=\"150\" y=\"0\" width=\"30\" height=\"30\" fill=\"#192966\" /><rect x=\"180\" y=\"0\" width=\"30\" height=\"30\" fill=\"#8a1d23\" /></svg><a href=\"http://www.loc.gov/item/89715174/\" target=\"_blank\"><svg height=\"30\" width=\"210\"><rect x=\"30\" y=\"0\" width=\"30\" height=\"30\" fill=\"#997871\" /><rect x=\"60\" y=\"0\" width=\"30\" height=\"30\" fill=\"#c8bfaf\" /><rect x=\"90\" y=\"0\" width=\"30\" height=\"30\" fill=\"#eae9d3\" /><rect x=\"120\" y=\"0\" width=\"30\" height=\"30\" fill=\"#b3d2e7\" /><rect x=\"150\" y=\"0\" width=\"30\" height=\"30\" fill=\"#5672c5\" /><rect x=\"180\" y=\"0\" width=\"30\" height=\"30\" fill=\"#1f2039\" /></svg><a href=\"http://www.loc.gov/item/89715166/\" target=\"_blank\"><svg height=\"30\" width=\"210\"><rect x=\"30\" y=\"0\" width=\"30\" height=\"30\" fill=\"#b37055\" /><rect x=\"60\" y=\"0\" width=\"30\" height=\"30\" fill=\"#35478e\" /><rect x=\"90\" y=\"0\" width=\"30\" height=\"30\" fill=\"#7a7393\" /><rect x=\"120\" y=\"0\" width=\"30\" height=\"30\" fill=\"#291840\" /><rect x=\"150\" y=\"0\" width=\"30\" height=\"30\" fill=\"#bbafbd\" /><rect x=\"180\" y=\"0\" width=\"30\" height=\"30\" fill=\"#eee7e8\" /></svg><a href=\"http://www.loc.gov/item/98518277/\" target=\"_blank\"><svg height=\"30\" width=\"210\"><rect x=\"30\" y=\"0\" width=\"30\" height=\"30\" fill=\"#8d3737\" /><rect x=\"60\" y=\"0\" width=\"30\" height=\"30\" fill=\"#e5e7d1\" /><rect x=\"90\" y=\"0\" width=\"30\" height=\"30\" fill=\"#a2b1c3\" /><rect x=\"120\" y=\"0\" width=\"30\" height=\"30\" fill=\"#455269\" /><rect x=\"150\" y=\"0\" width=\"30\" height=\"30\" fill=\"#1a2231\" /><rect x=\"180\" y=\"0\" width=\"30\" height=\"30\" fill=\"#7c8391\" /></svg><a href=\"http://www.loc.gov/item/98518282/\" target=\"_blank\"><svg height=\"30\" width=\"210\"><rect x=\"30\" y=\"0\" width=\"30\" height=\"30\" fill=\"#78291e\" /><rect x=\"60\" y=\"0\" width=\"30\" height=\"30\" fill=\"#3f2d2a\" /><rect x=\"90\" y=\"0\" width=\"30\" height=\"30\" fill=\"#8c7a69\" /><rect x=\"120\" y=\"0\" width=\"30\" height=\"30\" fill=\"#ceb89d\" /><rect x=\"150\" y=\"0\" width=\"30\" height=\"30\" fill=\"#19150a\" /><rect x=\"180\" y=\"0\" width=\"30\" height=\"30\" fill=\"#1f2a39\" /></svg><a href=\"http://www.loc.gov/item/98518284/\" target=\"_blank\"><svg height=\"30\" width=\"210\"><rect x=\"30\" y=\"0\" width=\"30\" height=\"30\" fill=\"#331f0f\" /><rect x=\"60\" y=\"0\" width=\"30\" height=\"30\" fill=\"#7f6142\" /><rect x=\"90\" y=\"0\" width=\"30\" height=\"30\" fill=\"#b8761d\" /><rect x=\"120\" y=\"0\" width=\"30\" height=\"30\" fill=\"#bf955c\" /><rect x=\"150\" y=\"0\" width=\"30\" height=\"30\" fill=\"#c7aa80\" /><rect x=\"180\" y=\"0\" width=\"30\" height=\"30\" fill=\"#323a42\" /></svg><a href=\"http://www.loc.gov/item/98518287/\" target=\"_blank\"><svg height=\"30\" width=\"210\"><rect x=\"30\" y=\"0\" width=\"30\" height=\"30\" fill=\"#931714\" /><rect x=\"60\" y=\"0\" width=\"30\" height=\"30\" fill=\"#a55f45\" /><rect x=\"90\" y=\"0\" width=\"30\" height=\"30\" fill=\"#c1976e\" /><rect x=\"120\" y=\"0\" width=\"30\" height=\"30\" fill=\"#201b14\" /><rect x=\"150\" y=\"0\" width=\"30\" height=\"30\" fill=\"#404040\" /><rect x=\"180\" y=\"0\" width=\"30\" height=\"30\" fill=\"#6a7073\" /></svg><a href=\"http://www.loc.gov/item/98518289/\" target=\"_blank\"><svg height=\"30\" width=\"210\"><rect x=\"30\" y=\"0\" width=\"30\" height=\"30\" fill=\"#95524d\" /><rect x=\"60\" y=\"0\" width=\"30\" height=\"30\" fill=\"#d6d6cc\" /><rect x=\"90\" y=\"0\" width=\"30\" height=\"30\" fill=\"#2c2d2d\" /><rect x=\"120\" y=\"0\" width=\"30\" height=\"30\" fill=\"#9daebe\" /><rect x=\"150\" y=\"0\" width=\"30\" height=\"30\" fill=\"#7d8595\" /><rect x=\"180\" y=\"0\" width=\"30\" height=\"30\" fill=\"#3d4f7b\" /></svg><a href=\"http://www.loc.gov/item/98518290/\" target=\"_blank\"><svg height=\"30\" width=\"210\"><rect x=\"30\" y=\"0\" width=\"30\" height=\"30\" fill=\"#b26045\" /><rect x=\"60\" y=\"0\" width=\"30\" height=\"30\" fill=\"#ac947f\" /><rect x=\"90\" y=\"0\" width=\"30\" height=\"30\" fill=\"#d6c8b5\" /><rect x=\"120\" y=\"0\" width=\"30\" height=\"30\" fill=\"#645a46\" /><rect x=\"150\" y=\"0\" width=\"30\" height=\"30\" fill=\"#1b160c\" /><rect x=\"180\" y=\"0\" width=\"30\" height=\"30\" fill=\"#ebe6d8\" /></svg><a href=\"http://www.loc.gov/item/98517945/\" target=\"_blank\"><svg height=\"30\" width=\"210\"><rect x=\"30\" y=\"0\" width=\"30\" height=\"30\" fill=\"#941606\" /><rect x=\"60\" y=\"0\" width=\"30\" height=\"30\" fill=\"#2e200e\" /><rect x=\"90\" y=\"0\" width=\"30\" height=\"30\" fill=\"#654a13\" /><rect x=\"120\" y=\"0\" width=\"30\" height=\"30\" fill=\"#a98940\" /><rect x=\"150\" y=\"0\" width=\"30\" height=\"30\" fill=\"#c9a44e\" /><rect x=\"180\" y=\"0\" width=\"30\" height=\"30\" fill=\"#886e2e\" /></svg><a href=\"http://www.loc.gov/item/98517955/\" target=\"_blank\"><svg height=\"30\" width=\"210\"><rect x=\"30\" y=\"0\" width=\"30\" height=\"30\" fill=\"#a21513\" /><rect x=\"60\" y=\"0\" width=\"30\" height=\"30\" fill=\"#e4e5d7\" /><rect x=\"90\" y=\"0\" width=\"30\" height=\"30\" fill=\"#0d1d7f\" /><rect x=\"120\" y=\"0\" width=\"30\" height=\"30\" fill=\"#0f185b\" /><rect x=\"150\" y=\"0\" width=\"30\" height=\"30\" fill=\"#646584\" /><rect x=\"180\" y=\"0\" width=\"30\" height=\"30\" fill=\"#a7a5b1\" /></svg><a href=\"http://www.loc.gov/item/98517975/\" target=\"_blank\"><svg height=\"30\" width=\"210\"><rect x=\"30\" y=\"0\" width=\"30\" height=\"30\" fill=\"#392310\" /><rect x=\"60\" y=\"0\" width=\"30\" height=\"30\" fill=\"#a99c74\" /><rect x=\"90\" y=\"0\" width=\"30\" height=\"30\" fill=\"#554d32\" /><rect x=\"120\" y=\"0\" width=\"30\" height=\"30\" fill=\"#81703d\" /><rect x=\"150\" y=\"0\" width=\"30\" height=\"30\" fill=\"#c5c5ba\" /><rect x=\"180\" y=\"0\" width=\"30\" height=\"30\" fill=\"#dcdfd6\" /></svg><a href=\"http://www.loc.gov/item/98517977/\" target=\"_blank\"><svg height=\"30\" width=\"210\"><rect x=\"30\" y=\"0\" width=\"30\" height=\"30\" fill=\"#562e17\" /><rect x=\"60\" y=\"0\" width=\"30\" height=\"30\" fill=\"#7d340b\" /><rect x=\"90\" y=\"0\" width=\"30\" height=\"30\" fill=\"#2f1d0c\" /><rect x=\"120\" y=\"0\" width=\"30\" height=\"30\" fill=\"#835c2f\" /><rect x=\"150\" y=\"0\" width=\"30\" height=\"30\" fill=\"#bd7013\" /><rect x=\"180\" y=\"0\" width=\"30\" height=\"30\" fill=\"#bb9f73\" /></svg><a href=\"http://www.loc.gov/item/98517978/\" target=\"_blank\"><svg height=\"30\" width=\"210\"><rect x=\"30\" y=\"0\" width=\"30\" height=\"30\" fill=\"#792b0e\" /><rect x=\"60\" y=\"0\" width=\"30\" height=\"30\" fill=\"#924a27\" /><rect x=\"90\" y=\"0\" width=\"30\" height=\"30\" fill=\"#422e15\" /><rect x=\"120\" y=\"0\" width=\"30\" height=\"30\" fill=\"#c3a377\" /><rect x=\"150\" y=\"0\" width=\"30\" height=\"30\" fill=\"#1d1505\" /><rect x=\"180\" y=\"0\" width=\"30\" height=\"30\" fill=\"#817348\" /></svg><a href=\"http://www.loc.gov/item/98517979/\" target=\"_blank\"><svg height=\"30\" width=\"210\"><rect x=\"30\" y=\"0\" width=\"30\" height=\"30\" fill=\"#5e3e2a\" /><rect x=\"60\" y=\"0\" width=\"30\" height=\"30\" fill=\"#d6ccbe\" /><rect x=\"90\" y=\"0\" width=\"30\" height=\"30\" fill=\"#9f9481\" /><rect x=\"120\" y=\"0\" width=\"30\" height=\"30\" fill=\"#9dafd1\" /><rect x=\"150\" y=\"0\" width=\"30\" height=\"30\" fill=\"#181416\" /><rect x=\"180\" y=\"0\" width=\"30\" height=\"30\" fill=\"#ece8e9\" /></svg><a href=\"http://www.loc.gov/item/98518028/\" target=\"_blank\"><svg height=\"30\" width=\"210\"><rect x=\"30\" y=\"0\" width=\"30\" height=\"30\" fill=\"#8d5515\" /><rect x=\"60\" y=\"0\" width=\"30\" height=\"30\" fill=\"#cfac6f\" /><rect x=\"90\" y=\"0\" width=\"30\" height=\"30\" fill=\"#bd944d\" /><rect x=\"120\" y=\"0\" width=\"30\" height=\"30\" fill=\"#2f2512\" /><rect x=\"150\" y=\"0\" width=\"30\" height=\"30\" fill=\"#d4a414\" /><rect x=\"180\" y=\"0\" width=\"30\" height=\"30\" fill=\"#6f6d5a\" /></svg><a href=\"http://www.loc.gov/item/98518032/\" target=\"_blank\"><svg height=\"30\" width=\"210\"><rect x=\"30\" y=\"0\" width=\"30\" height=\"30\" fill=\"#d0cdc5\" /><rect x=\"60\" y=\"0\" width=\"30\" height=\"30\" fill=\"#38352c\" /><rect x=\"90\" y=\"0\" width=\"30\" height=\"30\" fill=\"#d2c361\" /><rect x=\"120\" y=\"0\" width=\"30\" height=\"30\" fill=\"#64614b\" /><rect x=\"150\" y=\"0\" width=\"30\" height=\"30\" fill=\"#a8a7a0\" /><rect x=\"180\" y=\"0\" width=\"30\" height=\"30\" fill=\"#767e80\" /></svg><a href=\"http://www.loc.gov/item/98518035/\" target=\"_blank\"><svg height=\"30\" width=\"210\"><rect x=\"30\" y=\"0\" width=\"30\" height=\"30\" fill=\"#816b65\" /><rect x=\"60\" y=\"0\" width=\"30\" height=\"30\" fill=\"#403b37\" /><rect x=\"90\" y=\"0\" width=\"30\" height=\"30\" fill=\"#d6d0c6\" /><rect x=\"120\" y=\"0\" width=\"30\" height=\"30\" fill=\"#bab6ad\" /><rect x=\"150\" y=\"0\" width=\"30\" height=\"30\" fill=\"#d1c378\" /><rect x=\"180\" y=\"0\" width=\"30\" height=\"30\" fill=\"#9a988b\" /></svg><a href=\"http://www.loc.gov/item/98518044/\" target=\"_blank\"><svg height=\"30\" width=\"210\"><rect x=\"30\" y=\"0\" width=\"30\" height=\"30\" fill=\"#918067\" /><rect x=\"60\" y=\"0\" width=\"30\" height=\"30\" fill=\"#cfc6b6\" /><rect x=\"90\" y=\"0\" width=\"30\" height=\"30\" fill=\"#bdb08c\" /><rect x=\"120\" y=\"0\" width=\"30\" height=\"30\" fill=\"#e6e7e3\" /><rect x=\"150\" y=\"0\" width=\"30\" height=\"30\" fill=\"#4e524d\" /><rect x=\"180\" y=\"0\" width=\"30\" height=\"30\" fill=\"#131b29\" /></svg><a href=\"http://www.loc.gov/item/00652398/\" target=\"_blank\"><svg height=\"30\" width=\"210\"><rect x=\"30\" y=\"0\" width=\"30\" height=\"30\" fill=\"#c0350b\" /><rect x=\"60\" y=\"0\" width=\"30\" height=\"30\" fill=\"#ceaf80\" /><rect x=\"90\" y=\"0\" width=\"30\" height=\"30\" fill=\"#89744f\" /><rect x=\"120\" y=\"0\" width=\"30\" height=\"30\" fill=\"#d18f10\" /><rect x=\"150\" y=\"0\" width=\"30\" height=\"30\" fill=\"#4a452f\" /><rect x=\"180\" y=\"0\" width=\"30\" height=\"30\" fill=\"#1c1e17\" /></svg><a href=\"http://www.loc.gov/item/98518047/\" target=\"_blank\"><svg height=\"30\" width=\"210\"><rect x=\"30\" y=\"0\" width=\"30\" height=\"30\" fill=\"#ab5f29\" /><rect x=\"60\" y=\"0\" width=\"30\" height=\"30\" fill=\"#d3e5e3\" /><rect x=\"90\" y=\"0\" width=\"30\" height=\"30\" fill=\"#89a2a7\" /><rect x=\"120\" y=\"0\" width=\"30\" height=\"30\" fill=\"#3e8aad\" /><rect x=\"150\" y=\"0\" width=\"30\" height=\"30\" fill=\"#2d4a6d\" /><rect x=\"180\" y=\"0\" width=\"30\" height=\"30\" fill=\"#241f26\" /></svg><a href=\"http://www.loc.gov/item/98518053/\" target=\"_blank\"><svg height=\"30\" width=\"210\"><rect x=\"30\" y=\"0\" width=\"30\" height=\"30\" fill=\"#c58127\" /><rect x=\"60\" y=\"0\" width=\"30\" height=\"30\" fill=\"#70623b\" /><rect x=\"90\" y=\"0\" width=\"30\" height=\"30\" fill=\"#c1b48f\" /><rect x=\"120\" y=\"0\" width=\"30\" height=\"30\" fill=\"#e9c640\" /><rect x=\"150\" y=\"0\" width=\"30\" height=\"30\" fill=\"#e9ebdd\" /><rect x=\"180\" y=\"0\" width=\"30\" height=\"30\" fill=\"#1c1825\" /></svg><a href=\"http://www.loc.gov/item/98518059/\" target=\"_blank\"><svg height=\"30\" width=\"210\"><rect x=\"30\" y=\"0\" width=\"30\" height=\"30\" fill=\"#733119\" /><rect x=\"60\" y=\"0\" width=\"30\" height=\"30\" fill=\"#a4461e\" /><rect x=\"90\" y=\"0\" width=\"30\" height=\"30\" fill=\"#ab8367\" /><rect x=\"120\" y=\"0\" width=\"30\" height=\"30\" fill=\"#d8c0a5\" /><rect x=\"150\" y=\"0\" width=\"30\" height=\"30\" fill=\"#e4e6da\" /><rect x=\"180\" y=\"0\" width=\"30\" height=\"30\" fill=\"#131111\" /></svg><a href=\"http://www.loc.gov/item/98518067/\" target=\"_blank\"><svg height=\"30\" width=\"210\"><rect x=\"30\" y=\"0\" width=\"30\" height=\"30\" fill=\"#d3a42b\" /><rect x=\"60\" y=\"0\" width=\"30\" height=\"30\" fill=\"#e8eae2\" /><rect x=\"90\" y=\"0\" width=\"30\" height=\"30\" fill=\"#92959b\" /><rect x=\"120\" y=\"0\" width=\"30\" height=\"30\" fill=\"#374677\" /><rect x=\"150\" y=\"0\" width=\"30\" height=\"30\" fill=\"#1c2367\" /><rect x=\"180\" y=\"0\" width=\"30\" height=\"30\" fill=\"#57494f\" /></svg><a href=\"http://www.loc.gov/item/98513372/\" target=\"_blank\"><svg height=\"30\" width=\"210\"><rect x=\"30\" y=\"0\" width=\"30\" height=\"30\" fill=\"#8e4430\" /><rect x=\"60\" y=\"0\" width=\"30\" height=\"30\" fill=\"#b37a52\" /><rect x=\"90\" y=\"0\" width=\"30\" height=\"30\" fill=\"#21170f\" /><rect x=\"120\" y=\"0\" width=\"30\" height=\"30\" fill=\"#cda97c\" /><rect x=\"150\" y=\"0\" width=\"30\" height=\"30\" fill=\"#b37215\" /><rect x=\"180\" y=\"0\" width=\"30\" height=\"30\" fill=\"#702138\" /></svg><a href=\"http://www.loc.gov/item/98513464/\" target=\"_blank\"><svg height=\"30\" width=\"210\"><rect x=\"30\" y=\"0\" width=\"30\" height=\"30\" fill=\"#e3e6e9\" /><rect x=\"60\" y=\"0\" width=\"30\" height=\"30\" fill=\"#0e0da5\" /><rect x=\"90\" y=\"0\" width=\"30\" height=\"30\" fill=\"#251937\" /><rect x=\"120\" y=\"0\" width=\"30\" height=\"30\" fill=\"#756985\" /><rect x=\"150\" y=\"0\" width=\"30\" height=\"30\" fill=\"#c1bac5\" /><rect x=\"180\" y=\"0\" width=\"30\" height=\"30\" fill=\"#aa131b\" /></svg><a href=\"http://www.loc.gov/item/98518333/\" target=\"_blank\"><svg height=\"30\" width=\"210\"><rect x=\"30\" y=\"0\" width=\"30\" height=\"30\" fill=\"#b5430f\" /><rect x=\"60\" y=\"0\" width=\"30\" height=\"30\" fill=\"#cf6e2a\" /><rect x=\"90\" y=\"0\" width=\"30\" height=\"30\" fill=\"#30271a\" /><rect x=\"120\" y=\"0\" width=\"30\" height=\"30\" fill=\"#756136\" /><rect x=\"150\" y=\"0\" width=\"30\" height=\"30\" fill=\"#c8ae71\" /><rect x=\"180\" y=\"0\" width=\"30\" height=\"30\" fill=\"#e0b447\" /></svg><a href=\"http://www.loc.gov/item/98513695/\" target=\"_blank\"><svg height=\"30\" width=\"210\"><rect x=\"30\" y=\"0\" width=\"30\" height=\"30\" fill=\"#746f6e\" /><rect x=\"60\" y=\"0\" width=\"30\" height=\"30\" fill=\"#694e48\" /><rect x=\"90\" y=\"0\" width=\"30\" height=\"30\" fill=\"#3b322e\" /><rect x=\"120\" y=\"0\" width=\"30\" height=\"30\" fill=\"#e9e5e3\" /><rect x=\"150\" y=\"0\" width=\"30\" height=\"30\" fill=\"#a7988f\" /><rect x=\"180\" y=\"0\" width=\"30\" height=\"30\" fill=\"#c8c0b9\" /></svg><a href=\"http://www.loc.gov/item/98518536/\" target=\"_blank\"><svg height=\"30\" width=\"210\"><rect x=\"30\" y=\"0\" width=\"30\" height=\"30\" fill=\"#a22814\" /><rect x=\"60\" y=\"0\" width=\"30\" height=\"30\" fill=\"#be643d\" /><rect x=\"90\" y=\"0\" width=\"30\" height=\"30\" fill=\"#6b5945\" /><rect x=\"120\" y=\"0\" width=\"30\" height=\"30\" fill=\"#2e251a\" /><rect x=\"150\" y=\"0\" width=\"30\" height=\"30\" fill=\"#c9a168\" /><rect x=\"180\" y=\"0\" width=\"30\" height=\"30\" fill=\"#9f885b\" /></svg><a href=\"http://www.loc.gov/item/98513949/\" target=\"_blank\"><svg height=\"30\" width=\"210\"><rect x=\"30\" y=\"0\" width=\"30\" height=\"30\" fill=\"#b14218\" /><rect x=\"60\" y=\"0\" width=\"30\" height=\"30\" fill=\"#996a57\" /><rect x=\"90\" y=\"0\" width=\"30\" height=\"30\" fill=\"#dda286\" /><rect x=\"120\" y=\"0\" width=\"30\" height=\"30\" fill=\"#a0a7aa\" /><rect x=\"150\" y=\"0\" width=\"30\" height=\"30\" fill=\"#e0e3e5\" /><rect x=\"180\" y=\"0\" width=\"30\" height=\"30\" fill=\"#302841\" /></svg><a href=\"http://www.loc.gov/item/98514340/\" target=\"_blank\"><svg height=\"30\" width=\"210\"><rect x=\"30\" y=\"0\" width=\"30\" height=\"30\" fill=\"#d0a95f\" /><rect x=\"60\" y=\"0\" width=\"30\" height=\"30\" fill=\"#d9c596\" /><rect x=\"90\" y=\"0\" width=\"30\" height=\"30\" fill=\"#c2b181\" /><rect x=\"120\" y=\"0\" width=\"30\" height=\"30\" fill=\"#252113\" /><rect x=\"150\" y=\"0\" width=\"30\" height=\"30\" fill=\"#8c8669\" /><rect x=\"180\" y=\"0\" width=\"30\" height=\"30\" fill=\"#615d46\" /></svg><a href=\"http://www.loc.gov/item/98518379/\" target=\"_blank\"><svg height=\"30\" width=\"210\"><rect x=\"30\" y=\"0\" width=\"30\" height=\"30\" fill=\"#c5775a\" /><rect x=\"60\" y=\"0\" width=\"30\" height=\"30\" fill=\"#8f6f54\" /><rect x=\"90\" y=\"0\" width=\"30\" height=\"30\" fill=\"#aa957a\" /><rect x=\"120\" y=\"0\" width=\"30\" height=\"30\" fill=\"#c6ad8c\" /><rect x=\"150\" y=\"0\" width=\"30\" height=\"30\" fill=\"#d2bda1\" /><rect x=\"180\" y=\"0\" width=\"30\" height=\"30\" fill=\"#2d2414\" /></svg><a href=\"http://www.loc.gov/item/98518389/\" target=\"_blank\"><svg height=\"30\" width=\"210\"><rect x=\"30\" y=\"0\" width=\"30\" height=\"30\" fill=\"#a16d69\" /><rect x=\"60\" y=\"0\" width=\"30\" height=\"30\" fill=\"#c7bdbb\" /><rect x=\"90\" y=\"0\" width=\"30\" height=\"30\" fill=\"#eeece4\" /><rect x=\"120\" y=\"0\" width=\"30\" height=\"30\" fill=\"#252623\" /><rect x=\"150\" y=\"0\" width=\"30\" height=\"30\" fill=\"#8ca0b8\" /><rect x=\"180\" y=\"0\" width=\"30\" height=\"30\" fill=\"#4d4e55\" /></svg><a href=\"http://www.loc.gov/item/98515057/\" target=\"_blank\"><svg height=\"30\" width=\"210\"><rect x=\"30\" y=\"0\" width=\"30\" height=\"30\" fill=\"#dfd2a7\" /><rect x=\"60\" y=\"0\" width=\"30\" height=\"30\" fill=\"#aaa078\" /><rect x=\"90\" y=\"0\" width=\"30\" height=\"30\" fill=\"#c19f11\" /><rect x=\"120\" y=\"0\" width=\"30\" height=\"30\" fill=\"#80732b\" /><rect x=\"150\" y=\"0\" width=\"30\" height=\"30\" fill=\"#292814\" /><rect x=\"180\" y=\"0\" width=\"30\" height=\"30\" fill=\"#4b5329\" /></svg><a href=\"http://www.loc.gov/item/98515027/\" target=\"_blank\"><svg height=\"30\" width=\"210\"><rect x=\"30\" y=\"0\" width=\"30\" height=\"30\" fill=\"#3b321e\" /><rect x=\"60\" y=\"0\" width=\"30\" height=\"30\" fill=\"#221c0b\" /><rect x=\"90\" y=\"0\" width=\"30\" height=\"30\" fill=\"#60563a\" /><rect x=\"120\" y=\"0\" width=\"30\" height=\"30\" fill=\"#d4c59a\" /><rect x=\"150\" y=\"0\" width=\"30\" height=\"30\" fill=\"#847d61\" /><rect x=\"180\" y=\"0\" width=\"30\" height=\"30\" fill=\"#979988\" /></svg><a href=\"http://www.loc.gov/item/99400959/\" target=\"_blank\"><svg height=\"30\" width=\"210\"><rect x=\"30\" y=\"0\" width=\"30\" height=\"30\" fill=\"#6d4f19\" /><rect x=\"60\" y=\"0\" width=\"30\" height=\"30\" fill=\"#d5bd93\" /><rect x=\"90\" y=\"0\" width=\"30\" height=\"30\" fill=\"#94896e\" /><rect x=\"120\" y=\"0\" width=\"30\" height=\"30\" fill=\"#1b1d11\" /><rect x=\"150\" y=\"0\" width=\"30\" height=\"30\" fill=\"#324a6e\" /><rect x=\"180\" y=\"0\" width=\"30\" height=\"30\" fill=\"#586681\" /></svg><a href=\"http://www.loc.gov/item/98516347/\" target=\"_blank\"><svg height=\"30\" width=\"210\"><rect x=\"30\" y=\"0\" width=\"30\" height=\"30\" fill=\"#bb3b30\" /><rect x=\"60\" y=\"0\" width=\"30\" height=\"30\" fill=\"#b09b7f\" /><rect x=\"90\" y=\"0\" width=\"30\" height=\"30\" fill=\"#d9c8a5\" /><rect x=\"120\" y=\"0\" width=\"30\" height=\"30\" fill=\"#776c51\" /><rect x=\"150\" y=\"0\" width=\"30\" height=\"30\" fill=\"#272110\" /><rect x=\"180\" y=\"0\" width=\"30\" height=\"30\" fill=\"#5e7088\" /></svg><a href=\"http://www.loc.gov/item/98516461/\" target=\"_blank\"><svg height=\"30\" width=\"210\"><rect x=\"30\" y=\"0\" width=\"30\" height=\"30\" fill=\"#846b3e\" /><rect x=\"60\" y=\"0\" width=\"30\" height=\"30\" fill=\"#d9c193\" /><rect x=\"90\" y=\"0\" width=\"30\" height=\"30\" fill=\"#c9b27d\" /><rect x=\"120\" y=\"0\" width=\"30\" height=\"30\" fill=\"#a3926b\" /><rect x=\"150\" y=\"0\" width=\"30\" height=\"30\" fill=\"#251e0e\" /><rect x=\"180\" y=\"0\" width=\"30\" height=\"30\" fill=\"#cba64e\" /></svg><a href=\"http://www.loc.gov/item/98516112/\" target=\"_blank\"><svg height=\"30\" width=\"210\"><rect x=\"30\" y=\"0\" width=\"30\" height=\"30\" fill=\"#a88584\" /><rect x=\"60\" y=\"0\" width=\"30\" height=\"30\" fill=\"#dcbe90\" /><rect x=\"90\" y=\"0\" width=\"30\" height=\"30\" fill=\"#5d777b\" /><rect x=\"120\" y=\"0\" width=\"30\" height=\"30\" fill=\"#b0bbc1\" /><rect x=\"150\" y=\"0\" width=\"30\" height=\"30\" fill=\"#e2e4e6\" /><rect x=\"180\" y=\"0\" width=\"30\" height=\"30\" fill=\"#121b3f\" /></svg><a href=\"http://www.loc.gov/item/98516596/\" target=\"_blank\"><svg height=\"30\" width=\"210\"><rect x=\"30\" y=\"0\" width=\"30\" height=\"30\" fill=\"#c2663a\" /><rect x=\"60\" y=\"0\" width=\"30\" height=\"30\" fill=\"#b5976b\" /><rect x=\"90\" y=\"0\" width=\"30\" height=\"30\" fill=\"#d1b98b\" /><rect x=\"120\" y=\"0\" width=\"30\" height=\"30\" fill=\"#7b7052\" /><rect x=\"150\" y=\"0\" width=\"30\" height=\"30\" fill=\"#1b1809\" /><rect x=\"180\" y=\"0\" width=\"30\" height=\"30\" fill=\"#31312b\" /></svg><a href=\"http://www.loc.gov/item/98516601/\" target=\"_blank\"><svg height=\"30\" width=\"210\"><rect x=\"30\" y=\"0\" width=\"30\" height=\"30\" fill=\"#bb5e35\" /><rect x=\"60\" y=\"0\" width=\"30\" height=\"30\" fill=\"#c09062\" /><rect x=\"90\" y=\"0\" width=\"30\" height=\"30\" fill=\"#d1b080\" /><rect x=\"120\" y=\"0\" width=\"30\" height=\"30\" fill=\"#8e754d\" /><rect x=\"150\" y=\"0\" width=\"30\" height=\"30\" fill=\"#e2c596\" /><rect x=\"180\" y=\"0\" width=\"30\" height=\"30\" fill=\"#2d2615\" /></svg><a href=\"http://www.loc.gov/item/98516602/\" target=\"_blank\"><svg height=\"30\" width=\"210\"><rect x=\"30\" y=\"0\" width=\"30\" height=\"30\" fill=\"#ae4525\" /><rect x=\"60\" y=\"0\" width=\"30\" height=\"30\" fill=\"#b18861\" /><rect x=\"90\" y=\"0\" width=\"30\" height=\"30\" fill=\"#6c5841\" /><rect x=\"120\" y=\"0\" width=\"30\" height=\"30\" fill=\"#d7b587\" /><rect x=\"150\" y=\"0\" width=\"30\" height=\"30\" fill=\"#231b0e\" /><rect x=\"180\" y=\"0\" width=\"30\" height=\"30\" fill=\"#2a2a2b\" /></svg><a href=\"http://www.loc.gov/item/98516605/\" target=\"_blank\"><svg height=\"30\" width=\"210\"><rect x=\"30\" y=\"0\" width=\"30\" height=\"30\" fill=\"#c7b791\" /><rect x=\"60\" y=\"0\" width=\"30\" height=\"30\" fill=\"#a59e7d\" /><rect x=\"90\" y=\"0\" width=\"30\" height=\"30\" fill=\"#534e2e\" /><rect x=\"120\" y=\"0\" width=\"30\" height=\"30\" fill=\"#201d0d\" /><rect x=\"150\" y=\"0\" width=\"30\" height=\"30\" fill=\"#888361\" /><rect x=\"180\" y=\"0\" width=\"30\" height=\"30\" fill=\"#6d7259\" /></svg><a href=\"http://www.loc.gov/item/98516617/\" target=\"_blank\"><svg height=\"30\" width=\"210\"><rect x=\"30\" y=\"0\" width=\"30\" height=\"30\" fill=\"#c95716\" /><rect x=\"60\" y=\"0\" width=\"30\" height=\"30\" fill=\"#e8eaed\" /><rect x=\"90\" y=\"0\" width=\"30\" height=\"30\" fill=\"#608fd9\" /><rect x=\"120\" y=\"0\" width=\"30\" height=\"30\" fill=\"#cad0d9\" /><rect x=\"150\" y=\"0\" width=\"30\" height=\"30\" fill=\"#1d253d\" /><rect x=\"180\" y=\"0\" width=\"30\" height=\"30\" fill=\"#97888a\" /></svg><a href=\"http://www.loc.gov/item/98516622/\" target=\"_blank\"><svg height=\"30\" width=\"210\"><rect x=\"30\" y=\"0\" width=\"30\" height=\"30\" fill=\"#2e2929\" /><rect x=\"60\" y=\"0\" width=\"30\" height=\"30\" fill=\"#4b4337\" /><rect x=\"90\" y=\"0\" width=\"30\" height=\"30\" fill=\"#827348\" /><rect x=\"120\" y=\"0\" width=\"30\" height=\"30\" fill=\"#f1d46c\" /><rect x=\"150\" y=\"0\" width=\"30\" height=\"30\" fill=\"#b0a166\" /><rect x=\"180\" y=\"0\" width=\"30\" height=\"30\" fill=\"#52638d\" /></svg><a href=\"http://www.loc.gov/item/98516630/\" target=\"_blank\"><svg height=\"30\" width=\"210\"><rect x=\"30\" y=\"0\" width=\"30\" height=\"30\" fill=\"#271e09\" /><rect x=\"60\" y=\"0\" width=\"30\" height=\"30\" fill=\"#bd9b3f\" /><rect x=\"90\" y=\"0\" width=\"30\" height=\"30\" fill=\"#a08e56\" /><rect x=\"120\" y=\"0\" width=\"30\" height=\"30\" fill=\"#cea314\" /><rect x=\"150\" y=\"0\" width=\"30\" height=\"30\" fill=\"#766f41\" /><rect x=\"180\" y=\"0\" width=\"30\" height=\"30\" fill=\"#4e5434\" /></svg><a href=\"http://www.loc.gov/item/92500641/\" target=\"_blank\"><svg height=\"30\" width=\"210\"><rect x=\"30\" y=\"0\" width=\"30\" height=\"30\" fill=\"#d7ddd1\" /><rect x=\"60\" y=\"0\" width=\"30\" height=\"30\" fill=\"#adc4c5\" /><rect x=\"90\" y=\"0\" width=\"30\" height=\"30\" fill=\"#7b9ba9\" /><rect x=\"120\" y=\"0\" width=\"30\" height=\"30\" fill=\"#4c6572\" /><rect x=\"150\" y=\"0\" width=\"30\" height=\"30\" fill=\"#447796\" /><rect x=\"180\" y=\"0\" width=\"30\" height=\"30\" fill=\"#323034\" /></svg><a href=\"http://www.loc.gov/item/98507251/\" target=\"_blank\"><svg height=\"30\" width=\"210\"><rect x=\"30\" y=\"0\" width=\"30\" height=\"30\" fill=\"#e8ecef\" /><rect x=\"60\" y=\"0\" width=\"30\" height=\"30\" fill=\"#b4bccc\" /><rect x=\"90\" y=\"0\" width=\"30\" height=\"30\" fill=\"#9aa1b4\" /><rect x=\"120\" y=\"0\" width=\"30\" height=\"30\" fill=\"#6f7585\" /><rect x=\"150\" y=\"0\" width=\"30\" height=\"30\" fill=\"#3e4353\" /><rect x=\"180\" y=\"0\" width=\"30\" height=\"30\" fill=\"#101325\" /></svg><a href=\"http://www.loc.gov/item/98517473/\" target=\"_blank\"><svg height=\"30\" width=\"210\"><rect x=\"30\" y=\"0\" width=\"30\" height=\"30\" fill=\"#c7a473\" /><rect x=\"60\" y=\"0\" width=\"30\" height=\"30\" fill=\"#d2d1c7\" /><rect x=\"90\" y=\"0\" width=\"30\" height=\"30\" fill=\"#eceee6\" /><rect x=\"120\" y=\"0\" width=\"30\" height=\"30\" fill=\"#626d77\" /><rect x=\"150\" y=\"0\" width=\"30\" height=\"30\" fill=\"#98afc5\" /><rect x=\"180\" y=\"0\" width=\"30\" height=\"30\" fill=\"#191c27\" /></svg><a href=\"http://www.loc.gov/item/98516764/\" target=\"_blank\"><svg height=\"30\" width=\"210\"><rect x=\"30\" y=\"0\" width=\"30\" height=\"30\" fill=\"#a65b30\" /><rect x=\"60\" y=\"0\" width=\"30\" height=\"30\" fill=\"#d7b99c\" /><rect x=\"90\" y=\"0\" width=\"30\" height=\"30\" fill=\"#a68a6f\" /><rect x=\"120\" y=\"0\" width=\"30\" height=\"30\" fill=\"#eae5da\" /><rect x=\"150\" y=\"0\" width=\"30\" height=\"30\" fill=\"#484d4e\" /><rect x=\"180\" y=\"0\" width=\"30\" height=\"30\" fill=\"#0f1318\" /></svg><a href=\"http://www.loc.gov/item/98518818/\" target=\"_blank\"><svg height=\"30\" width=\"210\"><rect x=\"30\" y=\"0\" width=\"30\" height=\"30\" fill=\"#9f9695\" /><rect x=\"60\" y=\"0\" width=\"30\" height=\"30\" fill=\"#e5e6e0\" /><rect x=\"90\" y=\"0\" width=\"30\" height=\"30\" fill=\"#bfc0bc\" /><rect x=\"120\" y=\"0\" width=\"30\" height=\"30\" fill=\"#3d484e\" /><rect x=\"150\" y=\"0\" width=\"30\" height=\"30\" fill=\"#6a6c74\" /><rect x=\"180\" y=\"0\" width=\"30\" height=\"30\" fill=\"#1a1b2b\" /></svg><a href=\"http://www.loc.gov/item/98518819/\" target=\"_blank\"><svg height=\"30\" width=\"210\"><rect x=\"30\" y=\"0\" width=\"30\" height=\"30\" fill=\"#af4f30\" /><rect x=\"60\" y=\"0\" width=\"30\" height=\"30\" fill=\"#a7947a\" /><rect x=\"90\" y=\"0\" width=\"30\" height=\"30\" fill=\"#c4bfb2\" /><rect x=\"120\" y=\"0\" width=\"30\" height=\"30\" fill=\"#e0e5e2\" /><rect x=\"150\" y=\"0\" width=\"30\" height=\"30\" fill=\"#251319\" /><rect x=\"180\" y=\"0\" width=\"30\" height=\"30\" fill=\"#584849\" /></svg><a href=\"http://www.loc.gov/item/98518820/\" target=\"_blank\"><svg height=\"30\" width=\"210\"><rect x=\"30\" y=\"0\" width=\"30\" height=\"30\" fill=\"#82381c\" /><rect x=\"60\" y=\"0\" width=\"30\" height=\"30\" fill=\"#8c644d\" /><rect x=\"90\" y=\"0\" width=\"30\" height=\"30\" fill=\"#c38f5a\" /><rect x=\"120\" y=\"0\" width=\"30\" height=\"30\" fill=\"#d1bb96\" /><rect x=\"150\" y=\"0\" width=\"30\" height=\"30\" fill=\"#292319\" /><rect x=\"180\" y=\"0\" width=\"30\" height=\"30\" fill=\"#9b988c\" /></svg><a href=\"http://www.loc.gov/item/98518824/\" target=\"_blank\"><svg height=\"30\" width=\"210\"><rect x=\"30\" y=\"0\" width=\"30\" height=\"30\" fill=\"#bbb5b3\" /><rect x=\"60\" y=\"0\" width=\"30\" height=\"30\" fill=\"#716a63\" /><rect x=\"90\" y=\"0\" width=\"30\" height=\"30\" fill=\"#262423\" /><rect x=\"120\" y=\"0\" width=\"30\" height=\"30\" fill=\"#e1dad2\" /><rect x=\"150\" y=\"0\" width=\"30\" height=\"30\" fill=\"#ad7b3e\" /><rect x=\"180\" y=\"0\" width=\"30\" height=\"30\" fill=\"#8e3839\" /></svg><a href=\"http://www.loc.gov/item/98517138/\" target=\"_blank\"><svg height=\"30\" width=\"210\"><rect x=\"30\" y=\"0\" width=\"30\" height=\"30\" fill=\"#463315\" /><rect x=\"60\" y=\"0\" width=\"30\" height=\"30\" fill=\"#7f744e\" /><rect x=\"90\" y=\"0\" width=\"30\" height=\"30\" fill=\"#c5bb94\" /><rect x=\"120\" y=\"0\" width=\"30\" height=\"30\" fill=\"#a49a74\" /><rect x=\"150\" y=\"0\" width=\"30\" height=\"30\" fill=\"#221e0d\" /><rect x=\"180\" y=\"0\" width=\"30\" height=\"30\" fill=\"#5d6127\" /></svg><a href=\"http://www.loc.gov/item/93511152/\" target=\"_blank\"><svg height=\"30\" width=\"210\"><rect x=\"30\" y=\"0\" width=\"30\" height=\"30\" fill=\"#a33819\" /><rect x=\"60\" y=\"0\" width=\"30\" height=\"30\" fill=\"#908476\" /><rect x=\"90\" y=\"0\" width=\"30\" height=\"30\" fill=\"#c0b7aa\" /><rect x=\"120\" y=\"0\" width=\"30\" height=\"30\" fill=\"#e3e3df\" /><rect x=\"150\" y=\"0\" width=\"30\" height=\"30\" fill=\"#494b48\" /><rect x=\"180\" y=\"0\" width=\"30\" height=\"30\" fill=\"#14151e\" /></svg><a href=\"http://www.loc.gov/item/92500645/\" target=\"_blank\"><svg height=\"30\" width=\"210\"><rect x=\"30\" y=\"0\" width=\"30\" height=\"30\" fill=\"#312f2d\" /><rect x=\"60\" y=\"0\" width=\"30\" height=\"30\" fill=\"#655a4f\" /><rect x=\"90\" y=\"0\" width=\"30\" height=\"30\" fill=\"#af8a61\" /><rect x=\"120\" y=\"0\" width=\"30\" height=\"30\" fill=\"#c1b094\" /><rect x=\"150\" y=\"0\" width=\"30\" height=\"30\" fill=\"#82807a\" /><rect x=\"180\" y=\"0\" width=\"30\" height=\"30\" fill=\"#d3d4ca\" /></svg><a href=\"http://www.loc.gov/item/92500637/\" target=\"_blank\"><svg height=\"30\" width=\"210\"><rect x=\"30\" y=\"0\" width=\"30\" height=\"30\" fill=\"#b75b3e\" /><rect x=\"60\" y=\"0\" width=\"30\" height=\"30\" fill=\"#8f8980\" /><rect x=\"90\" y=\"0\" width=\"30\" height=\"30\" fill=\"#b8ad99\" /><rect x=\"120\" y=\"0\" width=\"30\" height=\"30\" fill=\"#d2ccb4\" /><rect x=\"150\" y=\"0\" width=\"30\" height=\"30\" fill=\"#1f3151\" /><rect x=\"180\" y=\"0\" width=\"30\" height=\"30\" fill=\"#59575a\" /></svg><a href=\"http://www.loc.gov/item/98517345/\" target=\"_blank\"><svg height=\"30\" width=\"210\"><rect x=\"30\" y=\"0\" width=\"30\" height=\"30\" fill=\"#83512d\" /><rect x=\"60\" y=\"0\" width=\"30\" height=\"30\" fill=\"#a0815a\" /><rect x=\"90\" y=\"0\" width=\"30\" height=\"30\" fill=\"#322513\" /><rect x=\"120\" y=\"0\" width=\"30\" height=\"30\" fill=\"#c8a56d\" /><rect x=\"150\" y=\"0\" width=\"30\" height=\"30\" fill=\"#d8ba84\" /><rect x=\"180\" y=\"0\" width=\"30\" height=\"30\" fill=\"#2d324c\" /></svg><a href=\"http://www.loc.gov/item/98518702/\" target=\"_blank\"><svg height=\"30\" width=\"210\"><rect x=\"30\" y=\"0\" width=\"30\" height=\"30\" fill=\"#342917\" /><rect x=\"60\" y=\"0\" width=\"30\" height=\"30\" fill=\"#d5b06f\" /><rect x=\"90\" y=\"0\" width=\"30\" height=\"30\" fill=\"#a47b2f\" /><rect x=\"120\" y=\"0\" width=\"30\" height=\"30\" fill=\"#b8934d\" /><rect x=\"150\" y=\"0\" width=\"30\" height=\"30\" fill=\"#cca65e\" /><rect x=\"180\" y=\"0\" width=\"30\" height=\"30\" fill=\"#151006\" /></svg><a href=\"http://www.loc.gov/item/98518704/\" target=\"_blank\"><svg height=\"30\" width=\"210\"><rect x=\"30\" y=\"0\" width=\"30\" height=\"30\" fill=\"#614643\" /><rect x=\"60\" y=\"0\" width=\"30\" height=\"30\" fill=\"#a82b14\" /><rect x=\"90\" y=\"0\" width=\"30\" height=\"30\" fill=\"#8b7969\" /><rect x=\"120\" y=\"0\" width=\"30\" height=\"30\" fill=\"#261d14\" /><rect x=\"150\" y=\"0\" width=\"30\" height=\"30\" fill=\"#c0955c\" /><rect x=\"180\" y=\"0\" width=\"30\" height=\"30\" fill=\"#39436b\" /></svg><a href=\"http://www.loc.gov/item/98518705/\" target=\"_blank\"><svg height=\"30\" width=\"210\"><rect x=\"30\" y=\"0\" width=\"30\" height=\"30\" fill=\"#3e331f\" /><rect x=\"60\" y=\"0\" width=\"30\" height=\"30\" fill=\"#161006\" /><rect x=\"90\" y=\"0\" width=\"30\" height=\"30\" fill=\"#dbbd7f\" /><rect x=\"120\" y=\"0\" width=\"30\" height=\"30\" fill=\"#96824f\" /><rect x=\"150\" y=\"0\" width=\"30\" height=\"30\" fill=\"#bda76d\" /><rect x=\"180\" y=\"0\" width=\"30\" height=\"30\" fill=\"#695d34\" /></svg><a href=\"http://www.loc.gov/item/98517531/\" target=\"_blank\"><svg height=\"30\" width=\"210\"><rect x=\"30\" y=\"0\" width=\"30\" height=\"30\" fill=\"#6d473b\" /><rect x=\"60\" y=\"0\" width=\"30\" height=\"30\" fill=\"#977d6d\" /><rect x=\"90\" y=\"0\" width=\"30\" height=\"30\" fill=\"#2a1e15\" /><rect x=\"120\" y=\"0\" width=\"30\" height=\"30\" fill=\"#d2b78f\" /><rect x=\"150\" y=\"0\" width=\"30\" height=\"30\" fill=\"#34476e\" /><rect x=\"180\" y=\"0\" width=\"30\" height=\"30\" fill=\"#9e0a11\" /></svg><a href=\"http://www.loc.gov/item/98518710/\" target=\"_blank\"><svg height=\"30\" width=\"210\"><rect x=\"30\" y=\"0\" width=\"30\" height=\"30\" fill=\"#b92917\" /><rect x=\"60\" y=\"0\" width=\"30\" height=\"30\" fill=\"#b08353\" /><rect x=\"90\" y=\"0\" width=\"30\" height=\"30\" fill=\"#d6b27b\" /><rect x=\"120\" y=\"0\" width=\"30\" height=\"30\" fill=\"#5c4e38\" /><rect x=\"150\" y=\"0\" width=\"30\" height=\"30\" fill=\"#1f190d\" /><rect x=\"180\" y=\"0\" width=\"30\" height=\"30\" fill=\"#182b3d\" /></svg><a href=\"http://www.loc.gov/item/98518711/\" target=\"_blank\"><svg height=\"30\" width=\"210\"><rect x=\"30\" y=\"0\" width=\"30\" height=\"30\" fill=\"#bf925f\" /><rect x=\"60\" y=\"0\" width=\"30\" height=\"30\" fill=\"#e6d57e\" /><rect x=\"90\" y=\"0\" width=\"30\" height=\"30\" fill=\"#dce7ed\" /><rect x=\"120\" y=\"0\" width=\"30\" height=\"30\" fill=\"#97a6b6\" /><rect x=\"150\" y=\"0\" width=\"30\" height=\"30\" fill=\"#5886cb\" /><rect x=\"180\" y=\"0\" width=\"30\" height=\"30\" fill=\"#1f1d2a\" /></svg><a href=\"http://www.loc.gov/item/98518712/\" target=\"_blank\"><svg height=\"30\" width=\"210\"><rect x=\"30\" y=\"0\" width=\"30\" height=\"30\" fill=\"#bb5b33\" /><rect x=\"60\" y=\"0\" width=\"30\" height=\"30\" fill=\"#7b6350\" /><rect x=\"90\" y=\"0\" width=\"30\" height=\"30\" fill=\"#a98b6c\" /><rect x=\"120\" y=\"0\" width=\"30\" height=\"30\" fill=\"#cfad85\" /><rect x=\"150\" y=\"0\" width=\"30\" height=\"30\" fill=\"#231e12\" /><rect x=\"180\" y=\"0\" width=\"30\" height=\"30\" fill=\"#393541\" /></svg><a href=\"http://www.loc.gov/item/98517373/\" target=\"_blank\"><svg height=\"30\" width=\"210\"><rect x=\"30\" y=\"0\" width=\"30\" height=\"30\" fill=\"#d36d2c\" /><rect x=\"60\" y=\"0\" width=\"30\" height=\"30\" fill=\"#e7ecf0\" /><rect x=\"90\" y=\"0\" width=\"30\" height=\"30\" fill=\"#7fabe1\" /><rect x=\"120\" y=\"0\" width=\"30\" height=\"30\" fill=\"#3a5a8a\" /><rect x=\"150\" y=\"0\" width=\"30\" height=\"30\" fill=\"#161b3f\" /><rect x=\"180\" y=\"0\" width=\"30\" height=\"30\" fill=\"#c7c6ca\" /></svg><a href=\"http://www.loc.gov/item/98517377/\" target=\"_blank\"><svg height=\"30\" width=\"210\"><rect x=\"30\" y=\"0\" width=\"30\" height=\"30\" fill=\"#ba3b08\" /><rect x=\"60\" y=\"0\" width=\"30\" height=\"30\" fill=\"#9f7a49\" /><rect x=\"90\" y=\"0\" width=\"30\" height=\"30\" fill=\"#413623\" /><rect x=\"120\" y=\"0\" width=\"30\" height=\"30\" fill=\"#241c0f\" /><rect x=\"150\" y=\"0\" width=\"30\" height=\"30\" fill=\"#c6a76d\" /><rect x=\"180\" y=\"0\" width=\"30\" height=\"30\" fill=\"#666f72\" /></svg><a href=\"http://www.loc.gov/item/96513610/\" target=\"_blank\"><svg height=\"30\" width=\"210\"><rect x=\"30\" y=\"0\" width=\"30\" height=\"30\" fill=\"#9c4f38\" /><rect x=\"60\" y=\"0\" width=\"30\" height=\"30\" fill=\"#e6eae6\" /><rect x=\"90\" y=\"0\" width=\"30\" height=\"30\" fill=\"#91989b\" /><rect x=\"120\" y=\"0\" width=\"30\" height=\"30\" fill=\"#bcc3c6\" /><rect x=\"150\" y=\"0\" width=\"30\" height=\"30\" fill=\"#546379\" /><rect x=\"180\" y=\"0\" width=\"30\" height=\"30\" fill=\"#1d263d\" /></svg><a href=\"http://www.loc.gov/item/98518713/\" target=\"_blank\"><svg height=\"30\" width=\"210\"><rect x=\"30\" y=\"0\" width=\"30\" height=\"30\" fill=\"#b98421\" /><rect x=\"60\" y=\"0\" width=\"30\" height=\"30\" fill=\"#cdb178\" /><rect x=\"90\" y=\"0\" width=\"30\" height=\"30\" fill=\"#e2b42b\" /><rect x=\"120\" y=\"0\" width=\"30\" height=\"30\" fill=\"#d0d2da\" /><rect x=\"150\" y=\"0\" width=\"30\" height=\"30\" fill=\"#292170\" /><rect x=\"180\" y=\"0\" width=\"30\" height=\"30\" fill=\"#7d5c62\" /></svg><a href=\"http://www.loc.gov/item/98518714/\" target=\"_blank\"><svg height=\"30\" width=\"210\"><rect x=\"30\" y=\"0\" width=\"30\" height=\"30\" fill=\"#4b1b13\" /><rect x=\"60\" y=\"0\" width=\"30\" height=\"30\" fill=\"#7f4322\" /><rect x=\"90\" y=\"0\" width=\"30\" height=\"30\" fill=\"#c66315\" /><rect x=\"120\" y=\"0\" width=\"30\" height=\"30\" fill=\"#ad9b8c\" /><rect x=\"150\" y=\"0\" width=\"30\" height=\"30\" fill=\"#e7e6dc\" /><rect x=\"180\" y=\"0\" width=\"30\" height=\"30\" fill=\"#162235\" /></svg><a href=\"http://www.loc.gov/item/98518715/\" target=\"_blank\"><svg height=\"30\" width=\"210\"><rect x=\"30\" y=\"0\" width=\"30\" height=\"30\" fill=\"#a63815\" /><rect x=\"60\" y=\"0\" width=\"30\" height=\"30\" fill=\"#936d42\" /><rect x=\"90\" y=\"0\" width=\"30\" height=\"30\" fill=\"#b08a60\" /><rect x=\"120\" y=\"0\" width=\"30\" height=\"30\" fill=\"#614524\" /><rect x=\"150\" y=\"0\" width=\"30\" height=\"30\" fill=\"#caac7f\" /><rect x=\"180\" y=\"0\" width=\"30\" height=\"30\" fill=\"#261d0d\" /></svg><a href=\"http://www.loc.gov/item/98517380/\" target=\"_blank\"><svg height=\"30\" width=\"210\"><rect x=\"30\" y=\"0\" width=\"30\" height=\"30\" fill=\"#635551\" /><rect x=\"60\" y=\"0\" width=\"30\" height=\"30\" fill=\"#dd7250\" /><rect x=\"90\" y=\"0\" width=\"30\" height=\"30\" fill=\"#e0d5bd\" /><rect x=\"120\" y=\"0\" width=\"30\" height=\"30\" fill=\"#8c9492\" /><rect x=\"150\" y=\"0\" width=\"30\" height=\"30\" fill=\"#a6cedd\" /><rect x=\"180\" y=\"0\" width=\"30\" height=\"30\" fill=\"#252627\" /></svg><a href=\"http://www.loc.gov/item/98517381/\" target=\"_blank\"><svg height=\"30\" width=\"210\"><rect x=\"30\" y=\"0\" width=\"30\" height=\"30\" fill=\"#b8a25f\" /><rect x=\"60\" y=\"0\" width=\"30\" height=\"30\" fill=\"#c8a111\" /><rect x=\"90\" y=\"0\" width=\"30\" height=\"30\" fill=\"#534f2d\" /><rect x=\"120\" y=\"0\" width=\"30\" height=\"30\" fill=\"#232214\" /><rect x=\"150\" y=\"0\" width=\"30\" height=\"30\" fill=\"#6e7962\" /><rect x=\"180\" y=\"0\" width=\"30\" height=\"30\" fill=\"#8a9c89\" /></svg><a href=\"http://www.loc.gov/item/98517382/\" target=\"_blank\"><svg height=\"30\" width=\"210\"><rect x=\"30\" y=\"0\" width=\"30\" height=\"30\" fill=\"#94634d\" /><rect x=\"60\" y=\"0\" width=\"30\" height=\"30\" fill=\"#232220\" /><rect x=\"90\" y=\"0\" width=\"30\" height=\"30\" fill=\"#43403c\" /><rect x=\"120\" y=\"0\" width=\"30\" height=\"30\" fill=\"#bfb5a1\" /><rect x=\"150\" y=\"0\" width=\"30\" height=\"30\" fill=\"#5a676c\" /><rect x=\"180\" y=\"0\" width=\"30\" height=\"30\" fill=\"#7696a7\" /></svg><a href=\"http://www.loc.gov/item/98517383/\" target=\"_blank\"><svg height=\"30\" width=\"210\"><rect x=\"30\" y=\"0\" width=\"30\" height=\"30\" fill=\"#b6310e\" /><rect x=\"60\" y=\"0\" width=\"30\" height=\"30\" fill=\"#5c4833\" /><rect x=\"90\" y=\"0\" width=\"30\" height=\"30\" fill=\"#937341\" /><rect x=\"120\" y=\"0\" width=\"30\" height=\"30\" fill=\"#241e14\" /><rect x=\"150\" y=\"0\" width=\"30\" height=\"30\" fill=\"#d49929\" /><rect x=\"180\" y=\"0\" width=\"30\" height=\"30\" fill=\"#c9af75\" /></svg><a href=\"http://www.loc.gov/item/98518430/\" target=\"_blank\"><svg height=\"30\" width=\"210\"><rect x=\"30\" y=\"0\" width=\"30\" height=\"30\" fill=\"#ae6650\" /><rect x=\"60\" y=\"0\" width=\"30\" height=\"30\" fill=\"#b3998f\" /><rect x=\"90\" y=\"0\" width=\"30\" height=\"30\" fill=\"#ddccbf\" /><rect x=\"120\" y=\"0\" width=\"30\" height=\"30\" fill=\"#413d36\" /><rect x=\"150\" y=\"0\" width=\"30\" height=\"30\" fill=\"#e4c568\" /><rect x=\"180\" y=\"0\" width=\"30\" height=\"30\" fill=\"#59617d\" /></svg><a href=\"http://www.loc.gov/item/98518439/\" target=\"_blank\"><svg height=\"30\" width=\"210\"><rect x=\"30\" y=\"0\" width=\"30\" height=\"30\" fill=\"#8e5315\" /><rect x=\"60\" y=\"0\" width=\"30\" height=\"30\" fill=\"#2b2110\" /><rect x=\"90\" y=\"0\" width=\"30\" height=\"30\" fill=\"#ccab74\" /><rect x=\"120\" y=\"0\" width=\"30\" height=\"30\" fill=\"#8f7d4f\" /><rect x=\"150\" y=\"0\" width=\"30\" height=\"30\" fill=\"#cb9b14\" /><rect x=\"180\" y=\"0\" width=\"30\" height=\"30\" fill=\"#545a3d\" /></svg><a href=\"http://www.loc.gov/item/98518442/\" target=\"_blank\"><svg height=\"30\" width=\"210\"><rect x=\"30\" y=\"0\" width=\"30\" height=\"30\" fill=\"#9f2410\" /><rect x=\"60\" y=\"0\" width=\"30\" height=\"30\" fill=\"#4b3522\" /><rect x=\"90\" y=\"0\" width=\"30\" height=\"30\" fill=\"#a17b57\" /><rect x=\"120\" y=\"0\" width=\"30\" height=\"30\" fill=\"#736042\" /><rect x=\"150\" y=\"0\" width=\"30\" height=\"30\" fill=\"#bba074\" /><rect x=\"180\" y=\"0\" width=\"30\" height=\"30\" fill=\"#221c0f\" /></svg><a href=\"http://www.loc.gov/item/98518443/\" target=\"_blank\"><svg height=\"30\" width=\"210\"><rect x=\"30\" y=\"0\" width=\"30\" height=\"30\" fill=\"#c3510d\" /><rect x=\"60\" y=\"0\" width=\"30\" height=\"30\" fill=\"#b59167\" /><rect x=\"90\" y=\"0\" width=\"30\" height=\"30\" fill=\"#d8b57f\" /><rect x=\"120\" y=\"0\" width=\"30\" height=\"30\" fill=\"#856633\" /><rect x=\"150\" y=\"0\" width=\"30\" height=\"30\" fill=\"#2d2719\" /><rect x=\"180\" y=\"0\" width=\"30\" height=\"30\" fill=\"#daa40b\" /></svg><a href=\"http://www.loc.gov/item/98517389/\" target=\"_blank\"><svg height=\"30\" width=\"210\"><rect x=\"30\" y=\"0\" width=\"30\" height=\"30\" fill=\"#ac350a\" /><rect x=\"60\" y=\"0\" width=\"30\" height=\"30\" fill=\"#997351\" /><rect x=\"90\" y=\"0\" width=\"30\" height=\"30\" fill=\"#d2b285\" /><rect x=\"120\" y=\"0\" width=\"30\" height=\"30\" fill=\"#281f0e\" /><rect x=\"150\" y=\"0\" width=\"30\" height=\"30\" fill=\"#d9a70c\" /><rect x=\"180\" y=\"0\" width=\"30\" height=\"30\" fill=\"#3e3c42\" /></svg><a href=\"http://www.loc.gov/item/98510121/\" target=\"_blank\"><svg height=\"30\" width=\"210\"><rect x=\"30\" y=\"0\" width=\"30\" height=\"30\" fill=\"#f3eb6f\" /><rect x=\"60\" y=\"0\" width=\"30\" height=\"30\" fill=\"#e4e8e8\" /><rect x=\"90\" y=\"0\" width=\"30\" height=\"30\" fill=\"#7a9fd6\" /><rect x=\"120\" y=\"0\" width=\"30\" height=\"30\" fill=\"#111c2d\" /><rect x=\"150\" y=\"0\" width=\"30\" height=\"30\" fill=\"#37445d\" /><rect x=\"180\" y=\"0\" width=\"30\" height=\"30\" fill=\"#c53b52\" /></svg><a href=\"http://www.loc.gov/item/98510123/\" target=\"_blank\"><svg height=\"30\" width=\"210\"><rect x=\"30\" y=\"0\" width=\"30\" height=\"30\" fill=\"#5b351b\" /><rect x=\"60\" y=\"0\" width=\"30\" height=\"30\" fill=\"#7b5a32\" /><rect x=\"90\" y=\"0\" width=\"30\" height=\"30\" fill=\"#1c170e\" /><rect x=\"120\" y=\"0\" width=\"30\" height=\"30\" fill=\"#a1926a\" /><rect x=\"150\" y=\"0\" width=\"30\" height=\"30\" fill=\"#c7bea1\" /><rect x=\"180\" y=\"0\" width=\"30\" height=\"30\" fill=\"#9e8735\" /></svg><a href=\"http://www.loc.gov/item/98517820/\" target=\"_blank\"><svg height=\"30\" width=\"210\"><rect x=\"30\" y=\"0\" width=\"30\" height=\"30\" fill=\"#b3891c\" /><rect x=\"60\" y=\"0\" width=\"30\" height=\"30\" fill=\"#bbaf8b\" /><rect x=\"90\" y=\"0\" width=\"30\" height=\"30\" fill=\"#282414\" /><rect x=\"120\" y=\"0\" width=\"30\" height=\"30\" fill=\"#878365\" /><rect x=\"150\" y=\"0\" width=\"30\" height=\"30\" fill=\"#546256\" /><rect x=\"180\" y=\"0\" width=\"30\" height=\"30\" fill=\"#283739\" /></svg><a href=\"http://www.loc.gov/item/98517448/\" target=\"_blank\"><svg height=\"30\" width=\"210\"><rect x=\"30\" y=\"0\" width=\"30\" height=\"30\" fill=\"#946049\" /><rect x=\"60\" y=\"0\" width=\"30\" height=\"30\" fill=\"#ca9840\" /><rect x=\"90\" y=\"0\" width=\"30\" height=\"30\" fill=\"#e6e3db\" /><rect x=\"120\" y=\"0\" width=\"30\" height=\"30\" fill=\"#242628\" /><rect x=\"150\" y=\"0\" width=\"30\" height=\"30\" fill=\"#394890\" /><rect x=\"180\" y=\"0\" width=\"30\" height=\"30\" fill=\"#a4a1a5\" /></svg><a href=\"http://www.loc.gov/item/96525181/\" target=\"_blank\"><svg height=\"30\" width=\"210\"><rect x=\"30\" y=\"0\" width=\"30\" height=\"30\" fill=\"#9c372c\" /><rect x=\"60\" y=\"0\" width=\"30\" height=\"30\" fill=\"#b8a89f\" /><rect x=\"90\" y=\"0\" width=\"30\" height=\"30\" fill=\"#e6e2d2\" /><rect x=\"120\" y=\"0\" width=\"30\" height=\"30\" fill=\"#f0d919\" /><rect x=\"150\" y=\"0\" width=\"30\" height=\"30\" fill=\"#4c5779\" /><rect x=\"180\" y=\"0\" width=\"30\" height=\"30\" fill=\"#14121c\" /></svg><a href=\"http://www.loc.gov/item/98517449/\" target=\"_blank\"><svg height=\"30\" width=\"210\"><rect x=\"30\" y=\"0\" width=\"30\" height=\"30\" fill=\"#885d3a\" /><rect x=\"60\" y=\"0\" width=\"30\" height=\"30\" fill=\"#aa967b\" /><rect x=\"90\" y=\"0\" width=\"30\" height=\"30\" fill=\"#dcc7a0\" /><rect x=\"120\" y=\"0\" width=\"30\" height=\"30\" fill=\"#2d2513\" /><rect x=\"150\" y=\"0\" width=\"30\" height=\"30\" fill=\"#e6bc15\" /><rect x=\"180\" y=\"0\" width=\"30\" height=\"30\" fill=\"#4e6364\" /></svg><a href=\"http://www.loc.gov/item/2010648603/\" target=\"_blank\"><svg height=\"30\" width=\"210\"><rect x=\"30\" y=\"0\" width=\"30\" height=\"30\" fill=\"#8d4e48\" /><rect x=\"60\" y=\"0\" width=\"30\" height=\"30\" fill=\"#a98273\" /><rect x=\"90\" y=\"0\" width=\"30\" height=\"30\" fill=\"#cac2bb\" /><rect x=\"120\" y=\"0\" width=\"30\" height=\"30\" fill=\"#dad7d1\" /><rect x=\"150\" y=\"0\" width=\"30\" height=\"30\" fill=\"#383e4a\" /><rect x=\"180\" y=\"0\" width=\"30\" height=\"30\" fill=\"#405792\" /></svg>"
            ],
            "text/plain": [
              "<IPython.core.display.HTML object>"
            ]
          },
          "metadata": {},
          "output_type": "display_data"
        }
      ],
      "source": [
        "linkable_posters_page_html = \"\"\n",
        "\n",
        "for image in zip(poster_item_urls, posters_colors):\n",
        "    line = draw_row_with_links(image)\n",
        "    linkable_posters_page_html += line\n",
        "    \n",
        "display(HTML(linkable_posters_page_html))"
      ]
    },
    {
      "cell_type": "markdown",
      "metadata": {
        "collapsed": false,
        "jupyter": {
          "outputs_hidden": false
        }
      },
      "source": [
        "You can see that the colors in the images in that collection are rather different from those in the Baseball Cards collection."
      ]
    },
    {
      "cell_type": "markdown",
      "metadata": {},
      "source": [
        "## Create JSON files from the data"
      ]
    },
    {
      "cell_type": "markdown",
      "metadata": {},
      "source": [
        "Let's save the URLs and colors as a JSON file. This is a format we can then use in other applications or possibly other analysis tools. \n",
        "\n",
        "The function below takes as input the collection slug name, the list of URLs (either the items or the JPEGs, depending on what you might want to do with the data later), the list of colors, and the JSON filename."
      ]
    },
    {
      "cell_type": "code",
      "execution_count": 19,
      "metadata": {},
      "outputs": [],
      "source": [
        "import json\n",
        "\n",
        "def create_json(collection, item_urls, colors, filename):\n",
        "    '''\n",
        "    Takes the URLs and colors and saves them into a JSON file.\n",
        "\n",
        "    Args:\n",
        "        collection (str): A name for the collection.\n",
        "        item_urls: (list): The list of item urls.\n",
        "        colors: (list): The list of colors\n",
        "        filename: (str): The name of the file to save to.\n",
        "    Returns:\n",
        "        None\n",
        "    '''\n",
        "    data = {\"collection\": collection, \"images\": []}\n",
        "    with open(filename, 'w') as f:\n",
        "        for image in zip(item_urls, colors):\n",
        "            data[\"images\"].append({\"url\": image[0], \"colors\": image[1]})    \n",
        "        json.dump(data, f, ensure_ascii=False)"
      ]
    },
    {
      "cell_type": "markdown",
      "metadata": {},
      "source": [
        "Note that running the next cell will create or edit a JSON file on your computer. "
      ]
    },
    {
      "cell_type": "code",
      "execution_count": 20,
      "metadata": {
        "collapsed": false,
        "jupyter": {
          "outputs_hidden": false
        }
      },
      "outputs": [],
      "source": [
        "create_json(\"baseball-cards\", item_urls, all_images, \"baseball-cards-colors.json\")"
      ]
    }
  ],
  "metadata": {
    "kernelspec": {
      "display_name": "python-3-12",
      "language": "python",
      "name": "python3"
    },
    "language_info": {
      "codemirror_mode": {
        "name": "ipython",
        "version": 3
      },
      "file_extension": ".py",
      "mimetype": "text/x-python",
      "name": "python",
      "nbconvert_exporter": "python",
      "pygments_lexer": "ipython3",
      "version": "3.12.11"
    }
  },
  "nbformat": 4,
  "nbformat_minor": 4
}
