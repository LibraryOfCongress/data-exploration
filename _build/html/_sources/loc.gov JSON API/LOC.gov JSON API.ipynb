{
 "cells": [
  {
   "cell_type": "markdown",
   "metadata": {},
   "source": [
    "# LOC.gov JSON API Guide\n",
    "\n",
    "The Library of Congress has created an API to allow for automated processes to interact with its collections data. The way that we interact with this data is through JSON.\n",
    "\n",
    "## What is JSON?\n",
    "\n",
    "JSON (JavaScript Object Notation) is a lightweight data-interchange format. It is easy for humans to read and write. It is easy for machines to parse and generate.\n",
    "\n",
    "## What skills do you need to navigate it?\n",
    "\n",
    "* Reading\n",
    "* Curiosity\n",
    "* A willingness to try (and maybe mess up and then try again)\n",
    "\n",
    "## What can you do with it?\n",
    "Explore, discover, and make cool stuff! Let's look at some examples you can try:\n",
    "\n",
    "## A look at the trending content\n",
    "What's the latest on the Library of Congress homepage? We can explore what's happening by asking for the JSON data about the trending content:"
   ]
  },
  {
   "cell_type": "code",
   "execution_count": 1,
   "metadata": {},
   "outputs": [
    {
     "data": {
      "text/plain": [
       "{'trending_content': [{'link': '/item/prn-20-032/',\n",
       "   'image': '/static/home/images/trending/collections/loc-collectionsapp_480x309.jpg',\n",
       "   'portal': 'New App',\n",
       "   'title': 'LOC Collections App Puts Digital Treasures in Your Hand'},\n",
       "  {'link': 'https://blogs.loc.gov/loc/2020/06/the-most-mysterious-woman-identified/',\n",
       "   'image': '/static/home/images/trending/blogs/mystery-woman-found_480x309.jpg',\n",
       "   'portal': 'Blog',\n",
       "   'title': 'Mystery Woman Identified!'},\n",
       "  {'link': 'https://guides.loc.gov/american-revolution',\n",
       "   'image': '/static/home/images/trending/researchers/american-revolution_480x309.jpg',\n",
       "   'portal': 'Celebrate',\n",
       "   'title': 'The American Revolution: A Resource Guide'},\n",
       "  {'link': 'https://blogs.loc.gov/loc/2020/06/how-will-we-remember-covid-19/',\n",
       "   'image': '/static/home/images/trending/blogs/pandemic_480x309.jpg',\n",
       "   'portal': 'Blog',\n",
       "   'title': 'How Will We Remember COVID? The Library Documents a Pandemic'},\n",
       "  {'link': '/exhibits/',\n",
       "   'image': '/static/home/images/trending/exhibits/exhibitions-evergreen-suffrage-48079406641_69c1146579_k.jpg',\n",
       "   'portal': 'Exhibitions',\n",
       "   'title': 'Visit Fascinating Library Exhibitions Online'},\n",
       "  {'link': '/news/',\n",
       "   'image': '/static/home/images/trending/evergreen/tj-lights-48079402371.jpg',\n",
       "   'portal': 'News',\n",
       "   'title': 'Get the Most Current News from the Library of Congress'}]}"
      ]
     },
     "execution_count": 1,
     "metadata": {},
     "output_type": "execute_result"
    }
   ],
   "source": [
    "import requests #import the library that we use to make the http request\n",
    "# To get the JSON data add '?fo=json' to the end of the URL.\n",
    "# the 'at=trending_content' part says only get me the json about the trending content. \n",
    "# If you leave that off you will get lots more information\n",
    "r = requests.get(\"https://www.loc.gov/?fo=json&at=trending_content\")\n",
    "r.json() #print out the results:\n"
   ]
  },
  {
   "cell_type": "markdown",
   "metadata": {},
   "source": [
    "## Ok so I got some text that looks like gibberish, now what? \n",
    "Now we can use a bit of Python to do cool stuff with it! Want to see all of the titles of the Library of Congress collections? Sure, let's try it!"
   ]
  },
  {
   "cell_type": "code",
   "execution_count": 2,
   "metadata": {},
   "outputs": [
    {
     "name": "stdout",
     "output_type": "stream",
     "text": [
      "10th-16th Century Liturgical Chants\n",
      "Aaron Copland Collection\n",
      "Abdul Hamid II Collection\n",
      "Abdul-Hamid II Collection of Books and Serials Gifted to the Library of Congress\n",
      "Abraham Lincoln Papers at the Library of Congress\n",
      "Afghanistan Web Archive\n",
      "Afghanistan, Iran, Pakistan and Tajikistan Government Web Archive\n",
      "Afghanistan, Iran, Pakistan, and Tajikistan Elections Web Archive\n",
      "African American Perspectives: Materials Selected from the Rare Book Collection\n",
      "African American Photographs Assembled for 1900 Paris Exposition\n",
      "African Government Web Archive\n",
      "African-American Band Music & Recordings, 1883-1923\n",
      "After the Day of Infamy: \"Man-on-the-Street\" Interviews Following the Attack on Pearl Harbor\n",
      "Ainu and Ezochi Rare Collection\n",
      "Alan Lomax Collection\n",
      "Alan Lomax Collection of Michigan and Wisconsin Recordings\n",
      "Albert Schatz Collection\n",
      "Alexander Graham Bell Family Papers at the Library of Congress\n",
      "Alexander Hamilton Papers\n",
      "Alexander Hamilton Stephens Papers\n",
      "The Alfred Whital Stern Collection of Lincolniana\n",
      "Amazing Grace\n",
      "America at Work, America at Leisure: Motion Pictures from 1894-1915\n",
      "America Singing: Nineteenth-Century Song Sheets\n",
      "An American Ballroom Companion: Dance Instruction Manuals, ca. 1490-1920\n",
      "American Choral Music\n",
      "American Civil War Sesquicentennial Web Archive\n",
      "American Colony in Jerusalem, 1870-2006\n",
      "American English Dialect Recordings: The Center for Applied Linguistics Collection\n",
      "American Federation of Labor Records\n",
      "American Leaders Speak: Recordings from World War I\n",
      "American Life Histories: Manuscripts from the Federal Writers' Project, 1936-1940\n",
      "American Music Creators Web Archive\n",
      "American Music Industry Web Archive\n",
      "American Notes: Travels in America, 1750-1920\n",
      "American Revolution and Its Era: Maps and Charts of North America and the West Indies, 1750-1789\n",
      "American Variety Stage: Vaudeville and Popular Entertainment, 1870-1920\n",
      "Ancestral Voices\n",
      "Andre Kostelanetz Collection\n",
      "Andrew Jackson Papers\n"
     ]
    }
   ],
   "source": [
    "collections_json = requests.get(\"https://www.loc.gov/collections/?fo=json\").json()\n",
    "\n",
    "for collection in collections_json[\"results\"]:\n",
    "    print(collection[\"title\"])"
   ]
  },
  {
   "cell_type": "markdown",
   "metadata": {},
   "source": [
    "## Why does it stop after 40?\n",
    "You might be thinking \"there must be colletions after \"B\"... and you're correct. \n",
    "If we were to give you the data for all our collections it would take a really long time to return the information. So instead we break it into pages. The _pagination_ section of the json contains the information that you need to really get everything (this list is going to be LONG!):"
   ]
  },
  {
   "cell_type": "code",
   "execution_count": 3,
   "metadata": {},
   "outputs": [
    {
     "name": "stdout",
     "output_type": "stream",
     "text": [
      "10th-16th Century Liturgical Chants\n",
      "Aaron Copland Collection\n",
      "Abdul Hamid II Collection\n",
      "Abdul-Hamid II Collection of Books and Serials Gifted to the Library of Congress\n",
      "Abraham Lincoln Papers at the Library of Congress\n",
      "Afghanistan Web Archive\n",
      "Afghanistan, Iran, Pakistan and Tajikistan Government Web Archive\n",
      "Afghanistan, Iran, Pakistan, and Tajikistan Elections Web Archive\n",
      "African American Perspectives: Materials Selected from the Rare Book Collection\n",
      "African American Photographs Assembled for 1900 Paris Exposition\n",
      "African Government Web Archive\n",
      "African-American Band Music & Recordings, 1883-1923\n",
      "After the Day of Infamy: \"Man-on-the-Street\" Interviews Following the Attack on Pearl Harbor\n",
      "Ainu and Ezochi Rare Collection\n",
      "Alan Lomax Collection\n",
      "Alan Lomax Collection of Michigan and Wisconsin Recordings\n",
      "Albert Schatz Collection\n",
      "Alexander Graham Bell Family Papers at the Library of Congress\n",
      "Alexander Hamilton Papers\n",
      "Alexander Hamilton Stephens Papers\n",
      "The Alfred Whital Stern Collection of Lincolniana\n",
      "Amazing Grace\n",
      "America at Work, America at Leisure: Motion Pictures from 1894-1915\n",
      "America Singing: Nineteenth-Century Song Sheets\n",
      "An American Ballroom Companion: Dance Instruction Manuals, ca. 1490-1920\n",
      "American Choral Music\n",
      "American Civil War Sesquicentennial Web Archive\n",
      "American Colony in Jerusalem, 1870-2006\n",
      "American English Dialect Recordings: The Center for Applied Linguistics Collection\n",
      "American Federation of Labor Records\n",
      "American Leaders Speak: Recordings from World War I\n",
      "American Life Histories: Manuscripts from the Federal Writers' Project, 1936-1940\n",
      "American Music Creators Web Archive\n",
      "American Music Industry Web Archive\n",
      "American Notes: Travels in America, 1750-1920\n",
      "American Revolution and Its Era: Maps and Charts of North America and the West Indies, 1750-1789\n",
      "American Variety Stage: Vaudeville and Popular Entertainment, 1870-1920\n",
      "Ancestral Voices\n",
      "Andre Kostelanetz Collection\n",
      "Andrew Jackson Papers\n",
      "Andrew Johnson Papers\n",
      "Anna E. Dickinson Papers\n",
      "Anna Maria Brodeau Thornton Papers\n",
      "Ansel Adams's Photographs of Japanese-American Internment at Manzanar\n",
      "Architecture, Design & Engineering Drawings\n",
      "Archive of Hispanic Literature on Tape\n",
      "Archive of Recorded Poetry and Literature\n",
      "Armenian Rarities Collection\n",
      "Associated Press News Dispatches, 1915-1930\n",
      "Author Websites Web Archive\n",
      "Bain Collection\n",
      "Ballets Russes de Serge Diaghilev\n",
      "Band Music from the Civil War Era\n",
      "Bangladeshi Elections Web Archive\n",
      "Banking Industry in Southeast Asia Web Archive\n",
      "Baseball Cards\n",
      "Baseball Sheet Music\n",
      "Before and After the Great Earthquake and Fire: Early Films of San Francisco, 1897-1916\n",
      "Benjamin Franklin Papers\n",
      "Benjamin Harrison Papers\n",
      "Bess Lomax Hawes Collection\n",
      "Betty Herndon Maury Maury Papers\n",
      "Blackwell Family Papers\n",
      "Blue Ridge Parkway Folklife Project\n",
      "Books About Music Before 1800\n",
      "Born in Slavery: Slave Narratives from the Federal Writers' Project, 1936-1938\n",
      "Brady-Handy Collection\n",
      "Branch Rickey Papers\n",
      "Brazil Cordel Literature Web Archive\n",
      "Brazilian Elections Web Archive\n",
      "Bronislava Nijinska Collection\n",
      "Brumfield Collection\n",
      "Buckaroos in Paradise: Ranching Culture in Northern Nevada, 1945-1982\n",
      "Burma/Myanmar Elections Web Archive\n",
      "Business in America Web Archive\n",
      "By Popular Demand: Jackie Robinson and Other Baseball Highlights, 1860s-1960s\n",
      "Cabinet of American Illustration\n",
      "California as I Saw It: First-Person Narratives of California's Early Years, 1849-1900\n",
      "California Gold: Northern California Folk Music from the Thirties Collected by Sidney Robertson Cowell\n",
      "Cambini Quintets\n",
      "Cambodian Elections Web Archive\n",
      "Capital and the Bay: Narratives of Washington and the Chesapeake Bay Region, 1600-1925\n",
      "Captain Pearl R. Nye: Life on the Ohio and Erie Canal\n",
      "The Carnegie Hall Collection of Conversations with Composers\n",
      "Carnegie Survey of the Architecture of the South\n",
      "Carpenter Collection\n",
      "Carrie Chapman Catt Papers\n",
      "Cartoon Drawings\n",
      "Cartoon Drawings: Herblock Collection\n",
      "Cartoon Drawings: Swann Collection of Caricature and Cartoon\n",
      "Cartoon Prints, American\n",
      "Cartoon Prints, British\n",
      "Case Books\n",
      "A Century of Lawmaking for a New Nation: U.S. Congressional Documents and Debates 1774-1875\n",
      "Charles S. Hamlin Papers\n",
      "Charles Wellington Reed Papers, 1776 to 1926\n",
      "Chester Alan Arthur Papers\n",
      "Chicago Ethnic Arts Project Collection\n",
      "Children's Book Selections\n",
      "China-Pakistan Economic Corridor (CPEC) 2018-2020 Web Archive\n",
      "Chinese Rare Book Digital Collection\n",
      "Chronicling America\n",
      "Cities and Towns\n",
      "Civil Rights History Project\n",
      "Civil War\n",
      "Civil War Glass Negatives and Related Prints\n",
      "Civil War Maps\n",
      "Civil War Sheet Music Collection\n",
      "Civil War Soldier in the Wild Cat Regiment : Selections from the Tilton C. Reynolds Papers\n",
      "Clara Barton Papers\n",
      "Code of Federal Regulations\n",
      "College Women's Association of Japan Print Show Collection\n",
      "Colorado Folklife Project Collection\n",
      "Comics Literature and Criticism Web Archive\n",
      "Confederate States of America Records\n",
      "Coptic Orthodox Liturgical Chant and Hymnody\n",
      "Country Studies\n",
      "Crisis in Darfur 2006 Web Archive\n",
      "Curtis (Edward S.) Collection\n",
      "Daguerreotypes\n",
      "The Danny Kaye and Sylvia Fine Collection\n",
      "Dayton C. Miller Collection\n",
      "Department of Defense Annual Reports (1948-1996) and Military Branch Budget Justification Books (1980-1996)\n",
      "Detroit Publishing Company\n",
      "The Different Faces of Nationalism in Pakistan Web Archive\n",
      "Directory of US Newspapers in American Libraries\n",
      "Discovery and Exploration\n",
      "Documents from the Continental Congress and the Constitutional Convention, 1774-1789\n",
      "Dolly Parton and the Roots of Country Music\n",
      "Donald Benham Civil War Collection\n",
      "Drawings (Documentary)\n",
      "Drawings (Master)\n",
      "E. B. Washburne Papers\n",
      "Early American Sheet Music\n",
      "Early Copyright Records Collection, 1790 to 1870\n",
      "East European Government Ministries Web Archive\n",
      "Economics Blogs Web Archive\n",
      "Edwin McMasters Stanton Papers, 1818-1921\n",
      "Egypt 2008 Web Archive\n",
      "Egyptian Elections Web Archive\n",
      "Elizabeth Cady Stanton Papers\n",
      "Elliott Carter Collection\n",
      "Eltaher Collection\n",
      "Emile Berliner and the Birth of the Recording Industry\n",
      "Ernest Bloch Collection\n",
      "Eugene Meyer Papers\n",
      "Event Videos\n",
      "The Evolution of the Conservation Movement\n",
      "Executive Branch Federal Government Web Archive\n",
      "Farm Security Administration/Office of War Information Black-and-White Negatives\n",
      "Farm Security Administration/Office of War Information Color Photographs\n",
      "Federal Advisory Committee Web Archive\n",
      "Federal Courts Web Archive\n",
      "Federal Register\n",
      "Federal Theatre Project, 1935 to 1939\n",
      "Felix Mendelssohn at the Library of Congress\n",
      "Fenton Crimean War Photographs\n",
      "Fiddle Tunes of the Old Frontier: The Henry Reed Collection\n",
      "Finding Our Place in the Cosmos: From Galileo to Sagan and Beyond\n",
      "Fine Prints\n",
      "Fine Prints: Japanese, pre-1915\n",
      "Florida Folklife from the WPA Collections, 1937-1942\n",
      "Food and Foodways Web Archive\n",
      "Foreign Law Web Archive\n",
      "France in America\n",
      "Franklin Pierce Papers\n",
      "Franz Liszt at the Library of Congress\n",
      "Frederick Douglass Newspapers, 1847-1874\n",
      "Frederick Douglass Papers at the Library of Congress\n",
      "Frederick Law Olmsted Papers\n",
      "Freedom's Fortress: The Library of Congress, 1939-1953\n",
      "Frontline Diplomacy: The Foreign Affairs Oral History Collection of the Association for Diplomatic Studies and Training\n",
      "Gaetano Brunetti Manuscript Scores\n",
      "General Maps\n",
      "General News on the Internet Web Archive\n",
      "Genthe Collection\n",
      "Geographers on Film\n",
      "George Brinton McClellan Papers\n",
      "George S. Patton Papers: Diaries, 1910-1945\n",
      "George Washington Papers\n",
      "The Gerry Mulligan Collection\n",
      "Gideon Welles Papers\n",
      "Gladstone Collection of African American Photographs\n",
      "Goldstein Foundation Collection--Prints and Drawings\n",
      "Gottscho-Schleisner Collection\n",
      "Grabill Collection\n",
      "Great Conversations in Music\n",
      "Groups of Images (LOTs)\n",
      "Guide Records\n",
      "Hannah Arendt Papers\n",
      "Harris & Ewing Collection\n",
      "Herndon-Weik Collection of Lincolniana\n",
      "Hidden Treasures at the Library of Congress\n",
      "Highsmith (Carol M.) Archive\n",
      "Hispano Music and Culture of the Northern Rio Grande: The Juan B. Rael Collection\n",
      "Historic American Buildings Survey/Historic American Engineering Record/Historic American Landscapes Survey\n",
      "Historic Sheet Music Collection, 1800-1922\n",
      "Home Sweet Home: Life in Nineteenth-Century Ohio\n",
      "Horace Greeley Papers\n",
      "Horace H. Lurton Papers\n",
      "Horydczak Collection\n",
      "Hotchkiss Map Collection\n",
      "Ilka Kolsky Artwork\n",
      "Indian Elections Web Archive\n",
      "Indigenous Law Web Archive\n",
      "Indonesian Elections Web Archive\n",
      "Inside an American Factory: Films of the Westinghouse Works, 1904\n",
      "International Tribunals Web Archive\n",
      "Inventing Entertainment: The Early Motion Pictures and Sound Recordings of the Edison Companies\n",
      "Iraq War 2003 Web Archive\n",
      "Irving Fine Collection, ca. 1914-1962\n",
      "James A. Garfield Papers\n",
      "James Buchanan and Harriet Lane Johnston Papers\n",
      "James K. Polk Papers\n",
      "James Madison Papers, 1723-1859\n",
      "James Monroe Papers\n",
      "Japanese Censorship Collection\n",
      "Japanese-American Internment Camp Newspapers, 1942-1946\n",
      "Jazz on the Screen Filmography\n",
      "Jedediah Hotchkiss Papers\n",
      "Joe Smith\n",
      "John Carvel Arnold Papers\n",
      "John G. Nicolay Papers\n",
      "John J. Pershing Papers\n",
      "John Tyler Papers\n",
      "Johnston (Frances Benjamin) Collection\n",
      "Joseph Holt Papers\n",
      "Jubal Anderson Early Papers\n",
      "Korab Collection\n",
      "Lamb Studios Archive\n",
      "Laotian Elections Web Archive\n",
      "Lars Schmidt Collection\n",
      "Last Days of a President: Films of McKinley and the Pan-American Exposition, 1901\n",
      "Lawrence & Houseworth Collection\n",
      "LC Commissioned Composers Web Archive\n",
      "Legal Blawgs Web Archive\n",
      "Legislative Branch Web Archive\n",
      "Leonard Bernstein\n",
      "Lessing J. Rosenwald Collection\n",
      "Lewis Carroll Scrapbooks\n"
     ]
    },
    {
     "name": "stdout",
     "output_type": "stream",
     "text": [
      "Lewis H. Machen Family Papers\n",
      "LGBTQ+ Politics and Political Candidates Web Archive\n",
      "LGBTQ+ Studies Web Archive\n",
      "The Library of Congress Celebrates the Songs of America\n",
      "Library of Congress Concerts\n",
      "Library of Congress Websites Web Archive\n",
      "The Life of a City: Early Films of New York, 1898-1906\n",
      "Liljenquist Family Collection of Civil War Photographs\n",
      "Lomax Collection\n",
      "Look Collection\n",
      "Louisiana: European Explorations and the Louisiana Purchase\n",
      "Lowell Folklife Project Collection\n",
      "Macedonian Politics Web Archive\n",
      "Maine Acadian Cultural Survey Collection\n",
      "Malaysian Elections Web Archive\n",
      "Manuscript Division Web Archive\n",
      "Manuscripts from the Monasteries of Mt. Athos\n",
      "Manuscripts in St. Catherine's Monastery, Mount Sinai\n",
      "Manuscripts in the Libraries of the Greek and Armenian Patriarchates in Jerusalem\n",
      "Mapping the National Parks\n",
      "Maps of Liberia, 1830-1870\n",
      "The March King: John Philip Sousa\n",
      "Margaret Bayard Smith Papers\n",
      "Martha Graham at the Library of Congress\n",
      "Martin Van Buren Papers, 1787 to 1910\n",
      "Mary Ann Bickerdyke Papers\n",
      "Mary Church Terrell Papers\n",
      "Matson (G. Eric and Edith) Photograph Collection\n",
      "Meeting of Frontiers\n",
      "Middle East/North Africa Government Institutions Web Archive\n",
      "Military Battles and Campaigns\n",
      "Millard Fillmore Papers\n",
      "The Moldenhauer Archives - The Rosaleen Moldenhauer Memorial\n",
      "Montana Folklife Survey Collection\n",
      "Music for the Nation: American Sheet Music, ca. 1820-1860\n",
      "Music for the Nation: American Sheet Music, ca. 1870-1885\n",
      "Music Treasures Consortium\n",
      "Musical Instruments at the Library of Congress\n",
      "Nathan W. Daniels Diary and Scrapbook\n",
      "National American Woman Suffrage Association Collection\n",
      "National American Woman Suffrage Association Records\n",
      "National Child Labor Committee Collection\n",
      "National Jukebox\n",
      "National Photo Company Collection\n",
      "National Screening Room\n",
      "National Transportation Safety Board Orders, Petitions, and Decisions\n",
      "Nelson W. Aldrich Papers\n",
      "New Mexico Folklife Project Collection\n",
      "New York Journal and Related Titles, 1896-1899\n",
      "Newspaper Pictorials: World War I Rotogravures, 1914-1919\n",
      "North Korean Serials\n",
      "Now What a Time: Blues, Gospel, and the Fort Valley Music Festivals, 1938-1943\n",
      "Occupational Folklife Project\n",
      "Olmsted Associates Records\n",
      "Omaha Indian Music\n",
      "Omar Ibn Said Collection\n",
      "Origins of American Animation\n",
      "Panoramic Maps\n",
      "Panoramic Photographs\n",
      "Papal Transition 2005 Web Archive\n",
      "Papal Transition 2013 Web Archive\n",
      "Patriotic Melodies\n",
      "Performing Arts Web Archive\n",
      "Persian Language Rare Materials\n",
      "PH Filing Series Photographs\n",
      "Philip Henry Sheridan Papers\n",
      "Philippine Elections Web Archive\n",
      "Phillips/Mathée Collection\n",
      "Photochrom Prints\n",
      "Pioneering the Upper Midwest: Books from Michigan, Minnesota, and Wisconsin, ca. 1820-1910\n",
      "Polish Declarations of Admiration and Friendship for the United States, 1926\n",
      "Political Islam Web Archive\n",
      "Popular Graphic Arts\n",
      "Posters: Artist Posters\n",
      "Posters: Performing Arts Posters\n",
      "Posters: Spanish Civil War Posters\n",
      "Posters: World War I Posters\n",
      "Posters: WPA Posters\n",
      "Posters: Yanker Poster Collection\n",
      "Prairie Settlement: Nebraska Photographs and Family Letters, 1862-1912\n",
      "Pre-1700 Musical Treasures: Manuscript and Print Collection\n",
      "Printed Ephemera: Three Centuries of Broadsides and Other Printed Ephemera\n",
      "Prokudin-Gorskii Collection\n",
      "Prosperity and Thrift: The Coolidge Era and the Consumer Economy, 1921-1929\n",
      "Public Policy Topics Web Archive\n",
      "Publications of the Law Library of Congress\n",
      "Puerto Rico at the Dawn of the Modern Age: Nineteenth- and Early-Twentieth-Century Perspectives\n",
      "Quilts and Quiltmaking in America, 1978-1996\n",
      "Ragtime\n",
      "Railroad Maps, 1828-1900\n",
      "Rare Book Selections\n",
      "Rhode Island Folklife Project Collection\n",
      "Robert Lansing Papers\n",
      "Rochambeau Map Collection\n",
      "The Roger Reynolds Collection\n",
      "Roman Totenberg Papers\n",
      "Roman Totenberg Papers: Totenberg-Wilk Holocaust Material\n",
      "Rosa Parks Papers\n",
      "Royal Cremation Ceremony for H.M. King Bhumibol Adulyadej of Thailand Web Archive\n",
      "Salmon P. Chase Papers\n",
      "Samuel Barber at the Library of Congress\n",
      "Samuel F. B. Morse Papers at the Library of Congress, 1793-1919\n",
      "Samuel J. Gibson Diary and Correspondence\n",
      "Sanborn Maps\n",
      "Science Blogs Web Archive\n",
      "Selected Datasets\n",
      "Selected Digitized Books\n",
      "Selections from the Katherine Dunham Collection\n",
      "Selections from the National Film Registry\n",
      "September 11, 2001 Web Archive\n",
      "September 11, 2001, Documentary Project\n",
      "Show Music on Record\n",
      "Sigmund Freud Papers\n",
      "Sikkim Photos (Kandell Collection)\n",
      "Sir Francis Drake (Kraus Collection)\n",
      "Slaves and the Courts, 1740-1860\n",
      "Small Press Expo Comic and Comic Art Web Archive\n",
      "South Pacific Islands Web Archive\n",
      "South-Central Georgia Folklife Project Collection\n",
      "Southern Mosaic: The John and Ruby Lomax 1939 Southern States Recording Trip\n",
      "The Spalding Base Ball Guides, 1889-1939\n",
      "Spanish Legal Documents (15th-19th Centuries)\n",
      "The Spanish-American War in Motion Pictures\n",
      "Sports Byline\n",
      "Sri Lankan Elections Web Archive\n",
      "Stars and Stripes: The American Soldiers' Newspaper of World War I, 1918-1919\n",
      "Stereograph Cards\n",
      "Susan B. Anthony Papers\n",
      "Tending the Commons: Folklife and Landscape in Southern West Virginia\n",
      "Thaddeus Stevens Papers\n",
      "Thai Elections Web Archive\n",
      "Theodore Roosevelt Papers\n",
      "Theodore Roosevelt: His Life and Times on Film\n",
      "Thomas Biggs Harned Collection of Walt Whitman Papers\n",
      "Thomas Jefferson Papers, 1606-1827\n",
      "Tibetan Oral History Archive Project\n",
      "Timor-Leste 2010-2011 Web Archive\n",
      "Timor-Leste Elections Web Archive\n",
      "Tissandier Collection\n",
      "Today in History\n",
      "Traditional Music and Spoken Word\n",
      "Transit of Venus March\n",
      "Transportation and Communication\n",
      "U.S. Code\n",
      "U.S. Reports\n",
      "U.S. Telephone Directory Collection\n",
      "Ulysses S. Grant Papers\n",
      "United States Congressional Web Archive\n",
      "United States Elections Web Archive\n",
      "United States Supreme Court Nominations Web Archive\n",
      "Van Vechten Collection\n",
      "Variety Stage Sound Recordings and Motion Pictures\n",
      "Veterans History Project\n",
      "Veterans History Project Web Archive\n",
      "Vietnam-Era Prisoner-of-War/Missing-in-Action Database\n",
      "Vietnamese Elections Web Archive\n",
      "Visual Image Web Archive\n",
      "Voices from the Dust Bowl: the Charles L. Todd and Robert Sonkin Migrant Worker Collection, 1940-1941\n",
      "Voices Remembering Slavery: Freed People Tell Their Stories\n",
      "Walt Whitman Papers (Miscellaneous Manuscript Collection)\n",
      "Walt Whitman Papers in the Charles E. Feinberg Collection\n",
      "War of 1812 Bicentennial Web Archive\n",
      "Warren G. Harding-Carrie Fulton Phillips Correspondence\n",
      "Washington During the Civil War: The Diary of Horatio Nelson Taft, 1861-1865\n",
      "Web Cultures Web Archive\n",
      "Webcomics Web Archive\n",
      "Webinars\n",
      "Wilbur and Orville Wright Papers at the Library of Congress\n",
      "William A. Gladstone Afro-American Military Collection\n",
      "William H. Taft Papers\n",
      "William Henry Harrison Papers\n",
      "William McKinley Papers\n",
      "William P. Gottlieb Collection\n",
      "William Speiden Journals\n",
      "William T. Sherman Papers\n",
      "Winter Olympic Games 2002 Web Archive\n",
      "Wm. Oland Bourne Papers\n",
      "Women of Protest: Photographs from the Records of the National Woman's Party\n",
      "Women's and Gender Studies Web Archive\n",
      "Women's Suffrage in Sheet Music\n",
      "Woodrow Wilson Papers\n",
      "Woody Guthrie and the Archive of American Folk Song: Correspondence, 1940-1950\n",
      "Working in Paterson: Occupational Heritage in an Urban Setting\n",
      "World War History: Newspaper Clippings, 1914-1926\n",
      "World War I Centennial Web Archive\n",
      "World War I Sheet Music\n",
      "World War II Military Situation Maps\n",
      "World's Transportation Commission\n",
      "Wright Brothers Negatives\n",
      "Yiddish American Popular Sheet Music\n",
      "Zachary Taylor Papers\n",
      "Zine Web Archive\n",
      "Zora Neale Hurston Plays at the Library of Congress\n"
     ]
    }
   ],
   "source": [
    "collections_json = requests.get(\"https://www.loc.gov/collections/?fo=json\").json()\n",
    "\n",
    "while True: #As long as we have a next page, go and fetch it\n",
    "    for collection in collections_json[\"results\"]: \n",
    "        print(collection[\"title\"]) #print out the collection's title\n",
    "    next_page = collections_json[\"pagination\"][\"next\"] #get the next page url\n",
    "    if next_page is not None: #make sure we haven't hit the end of the pages\n",
    "        collections_json = requests.get(next_page).json()\n",
    "    else:\n",
    "        break #we are done and can stop looping\n"
   ]
  },
  {
   "cell_type": "markdown",
   "metadata": {},
   "source": [
    "## Looking more closely at Collections\n",
    "We hear you saying \"Ohh cool, you have World War I Sheet Music! \"\n",
    "Yes we do! Let's grab the titles and the front covers:"
   ]
  },
  {
   "cell_type": "code",
   "execution_count": 15,
   "metadata": {},
   "outputs": [
    {
     "name": "stdout",
     "output_type": "stream",
     "text": [
      "All the way from San Jose\n"
     ]
    },
    {
     "data": {
      "text/html": [
       "<img src=\"https://lcweb2.loc.gov/diglib/media/loc.natlib.ihas.200211896/0001.tif/239\"/>"
      ],
      "text/plain": [
       "<IPython.core.display.Image object>"
      ]
     },
     "metadata": {},
     "output_type": "display_data"
    },
    {
     "name": "stdout",
     "output_type": "stream",
     "text": [
      "Sailor's life\n"
     ]
    },
    {
     "data": {
      "text/html": [
       "<img src=\"https://lcweb2.loc.gov/diglib/media/loc.natlib.ihas.200206210/0001.tif/134\"/>"
      ],
      "text/plain": [
       "<IPython.core.display.Image object>"
      ]
     },
     "metadata": {},
     "output_type": "display_data"
    },
    {
     "name": "stdout",
     "output_type": "stream",
     "text": [
      "For the boys who did not return\n"
     ]
    },
    {
     "data": {
      "text/html": [
       "<img src=\"https://lcweb2.loc.gov/diglib/media/loc.natlib.ihas.200206211/0001.tif/133\"/>"
      ],
      "text/plain": [
       "<IPython.core.display.Image object>"
      ]
     },
     "metadata": {},
     "output_type": "display_data"
    },
    {
     "name": "stdout",
     "output_type": "stream",
     "text": [
      "The  parting sailor boy's vow\n"
     ]
    },
    {
     "data": {
      "text/html": [
       "<img src=\"https://lcweb2.loc.gov/diglib/media/loc.natlib.ihas.200206212/0001.tif/135\"/>"
      ],
      "text/plain": [
       "<IPython.core.display.Image object>"
      ]
     },
     "metadata": {},
     "output_type": "display_data"
    },
    {
     "name": "stdout",
     "output_type": "stream",
     "text": [
      "God speed the day we get the Kaiser's goat\n"
     ]
    },
    {
     "data": {
      "text/html": [
       "<img src=\"https://lcweb2.loc.gov/diglib/media/loc.natlib.ihas.200206213/0001.tif/147\"/>"
      ],
      "text/plain": [
       "<IPython.core.display.Image object>"
      ]
     },
     "metadata": {},
     "output_type": "display_data"
    },
    {
     "name": "stdout",
     "output_type": "stream",
     "text": [
      "On to Berlin spirit of 1918\n"
     ]
    },
    {
     "data": {
      "text/html": [
       "<img src=\"https://lcweb2.loc.gov/diglib/media/loc.natlib.ihas.200206214/0001.tif/137\"/>"
      ],
      "text/plain": [
       "<IPython.core.display.Image object>"
      ]
     },
     "metadata": {},
     "output_type": "display_data"
    },
    {
     "name": "stdout",
     "output_type": "stream",
     "text": [
      "Hats off to U.S.A\n"
     ]
    },
    {
     "data": {
      "text/html": [
       "<img src=\"https://lcweb2.loc.gov/diglib/media/loc.natlib.ihas.200206215/0001.tif/138\"/>"
      ],
      "text/plain": [
       "<IPython.core.display.Image object>"
      ]
     },
     "metadata": {},
     "output_type": "display_data"
    },
    {
     "name": "stdout",
     "output_type": "stream",
     "text": [
      "Hats off to U.S.A\n"
     ]
    },
    {
     "data": {
      "text/html": [
       "<img src=\"https://lcweb2.loc.gov/diglib/media/loc.natlib.ihas.200206216/0001.tif/138\"/>"
      ],
      "text/plain": [
       "<IPython.core.display.Image object>"
      ]
     },
     "metadata": {},
     "output_type": "display_data"
    },
    {
     "name": "stdout",
     "output_type": "stream",
     "text": [
      "Now he is over\n"
     ]
    },
    {
     "data": {
      "text/html": [
       "<img src=\"https://lcweb2.loc.gov/diglib/media/loc.natlib.ihas.200206217/0001.tif/132\"/>"
      ],
      "text/plain": [
       "<IPython.core.display.Image object>"
      ]
     },
     "metadata": {},
     "output_type": "display_data"
    },
    {
     "name": "stdout",
     "output_type": "stream",
     "text": [
      "Kaiser Bill, world's assassin\n"
     ]
    },
    {
     "data": {
      "text/html": [
       "<img src=\"https://lcweb2.loc.gov/diglib/media/loc.natlib.ihas.200206218/0001.tif/141\"/>"
      ],
      "text/plain": [
       "<IPython.core.display.Image object>"
      ]
     },
     "metadata": {},
     "output_type": "display_data"
    },
    {
     "name": "stdout",
     "output_type": "stream",
     "text": [
      "America, the greatest of them all\n"
     ]
    },
    {
     "data": {
      "text/html": [
       "<img src=\"https://lcweb2.loc.gov/diglib/media/loc.natlib.ihas.200206219/0001.tif/138\"/>"
      ],
      "text/plain": [
       "<IPython.core.display.Image object>"
      ]
     },
     "metadata": {},
     "output_type": "display_data"
    },
    {
     "name": "stdout",
     "output_type": "stream",
     "text": [
      "Good bye my boy we're proud to see you go\n"
     ]
    },
    {
     "data": {
      "text/html": [
       "<img src=\"https://lcweb2.loc.gov/diglib/media/loc.natlib.ihas.200206220/0001.tif/250\"/>"
      ],
      "text/plain": [
       "<IPython.core.display.Image object>"
      ]
     },
     "metadata": {},
     "output_type": "display_data"
    },
    {
     "name": "stdout",
     "output_type": "stream",
     "text": [
      "Ev-ry-bod-y takes you by the hand in home sweet home\n"
     ]
    },
    {
     "data": {
      "text/html": [
       "<img src=\"https://lcweb2.loc.gov/diglib/media/loc.natlib.ihas.200206221/0001.tif/137\"/>"
      ],
      "text/plain": [
       "<IPython.core.display.Image object>"
      ]
     },
     "metadata": {},
     "output_type": "display_data"
    },
    {
     "name": "stdout",
     "output_type": "stream",
     "text": [
      "Arise! ye stalwart sons\n"
     ]
    },
    {
     "data": {
      "text/html": [
       "<img src=\"https://lcweb2.loc.gov/diglib/media/loc.natlib.ihas.200206222/0001.tif/139\"/>"
      ],
      "text/plain": [
       "<IPython.core.display.Image object>"
      ]
     },
     "metadata": {},
     "output_type": "display_data"
    },
    {
     "name": "stdout",
     "output_type": "stream",
     "text": [
      "When I come back to you op. 75, no. 1\n"
     ]
    },
    {
     "data": {
      "text/html": [
       "<img src=\"https://lcweb2.loc.gov/diglib/media/loc.natlib.ihas.200206223/0001.tif/245\"/>"
      ],
      "text/plain": [
       "<IPython.core.display.Image object>"
      ]
     },
     "metadata": {},
     "output_type": "display_data"
    },
    {
     "name": "stdout",
     "output_type": "stream",
     "text": [
      "Since my boy has gone away\n"
     ]
    },
    {
     "data": {
      "text/html": [
       "<img src=\"https://lcweb2.loc.gov/diglib/media/loc.natlib.ihas.200206224/0001.tif/134\"/>"
      ],
      "text/plain": [
       "<IPython.core.display.Image object>"
      ]
     },
     "metadata": {},
     "output_type": "display_data"
    },
    {
     "name": "stdout",
     "output_type": "stream",
     "text": [
      "The  Irish Kaiser\n"
     ]
    },
    {
     "data": {
      "text/html": [
       "<img src=\"https://lcweb2.loc.gov/diglib/media/loc.natlib.ihas.200206225/0001.tif/143\"/>"
      ],
      "text/plain": [
       "<IPython.core.display.Image object>"
      ]
     },
     "metadata": {},
     "output_type": "display_data"
    },
    {
     "name": "stdout",
     "output_type": "stream",
     "text": [
      "Safe for democracy New America\n"
     ]
    },
    {
     "data": {
      "text/html": [
       "<img src=\"https://lcweb2.loc.gov/diglib/media/loc.natlib.ihas.200206226/0001.tif/138\"/>"
      ],
      "text/plain": [
       "<IPython.core.display.Image object>"
      ]
     },
     "metadata": {},
     "output_type": "display_data"
    },
    {
     "name": "stdout",
     "output_type": "stream",
     "text": [
      "Safe for democracy Take your pen and sign the peace\n"
     ]
    },
    {
     "data": {
      "text/html": [
       "<img src=\"https://lcweb2.loc.gov/diglib/media/loc.natlib.ihas.200206227/0001.tif/140\"/>"
      ],
      "text/plain": [
       "<IPython.core.display.Image object>"
      ]
     },
     "metadata": {},
     "output_type": "display_data"
    },
    {
     "name": "stdout",
     "output_type": "stream",
     "text": [
      "Safe for democracy When my boy comes marching home\n"
     ]
    },
    {
     "data": {
      "text/html": [
       "<img src=\"https://lcweb2.loc.gov/diglib/media/loc.natlib.ihas.200206228/0001.tif/139\"/>"
      ],
      "text/plain": [
       "<IPython.core.display.Image object>"
      ]
     },
     "metadata": {},
     "output_type": "display_data"
    },
    {
     "name": "stdout",
     "output_type": "stream",
     "text": [
      "Lullaby of war while your daddy's far away\n"
     ]
    },
    {
     "data": {
      "text/html": [
       "<img src=\"https://lcweb2.loc.gov/diglib/media/loc.natlib.ihas.200206229/0001.tif/141\"/>"
      ],
      "text/plain": [
       "<IPython.core.display.Image object>"
      ]
     },
     "metadata": {},
     "output_type": "display_data"
    },
    {
     "name": "stdout",
     "output_type": "stream",
     "text": [
      "Welcome home to our soldier boys\n"
     ]
    },
    {
     "data": {
      "text/html": [
       "<img src=\"https://lcweb2.loc.gov/diglib/media/loc.natlib.ihas.200206230/0001.tif/137\"/>"
      ],
      "text/plain": [
       "<IPython.core.display.Image object>"
      ]
     },
     "metadata": {},
     "output_type": "display_data"
    },
    {
     "name": "stdout",
     "output_type": "stream",
     "text": [
      "There is no place like home dear in the good old U.S.A\n"
     ]
    },
    {
     "data": {
      "text/html": [
       "<img src=\"https://lcweb2.loc.gov/diglib/media/loc.natlib.ihas.200206232/0001.tif/141\"/>"
      ],
      "text/plain": [
       "<IPython.core.display.Image object>"
      ]
     },
     "metadata": {},
     "output_type": "display_data"
    },
    {
     "name": "stdout",
     "output_type": "stream",
     "text": [
      "The  working man\n"
     ]
    },
    {
     "data": {
      "text/html": [
       "<img src=\"https://lcweb2.loc.gov/diglib/media/loc.natlib.ihas.200206233/0001.tif/139\"/>"
      ],
      "text/plain": [
       "<IPython.core.display.Image object>"
      ]
     },
     "metadata": {},
     "output_type": "display_data"
    },
    {
     "name": "stdout",
     "output_type": "stream",
     "text": [
      "Lafayette--we are here!\n"
     ]
    },
    {
     "data": {
      "text/html": [
       "<img src=\"https://lcweb2.loc.gov/diglib/media/loc.natlib.ihas.200206235/0001.tif/141\"/>"
      ],
      "text/plain": [
       "<IPython.core.display.Image object>"
      ]
     },
     "metadata": {},
     "output_type": "display_data"
    }
   ],
   "source": [
    "from IPython.display import Image, display #tell python that we want to reuse some code to display the images for us\n",
    "\n",
    "wwi_sheet_music = requests.get(\"https://www.loc.gov/collections/world-war-i-sheet-music/?fo=json\").json() #get the JSON data\n",
    "for item in wwi_sheet_music[\"results\"]:\n",
    "    print(item[\"title\"]) #print out the title\n",
    "    display(Image(url=item[\"image_url\"][0])) #display the front cover art\n"
   ]
  },
  {
   "cell_type": "markdown",
   "metadata": {},
   "source": [
    "## Asking another question\n",
    "You noticed that the sheet music covers sometimes include publishers. You wonder if you can get more details about that. Yes, you can!\n",
    "Much of the sheet music was published by multiple organizations or people and around the country and world. \n",
    "We'll use some python code to display the list of publishers and created date of the titles:"
   ]
  },
  {
   "cell_type": "code",
   "execution_count": 14,
   "metadata": {},
   "outputs": [
    {
     "name": "stdout",
     "output_type": "stream",
     "text": [
      "'All the way from San Jose', ['1948, monographic.', 'SANTLY-JOY, Inc. Music Publishers,, New York :, [1948].']\n",
      "'Sailor's life', ['1919, monographic.', 'Delmar Music Co.,, Chicago :, [1919].']\n",
      "'For the boys who did not return', ['1919, monographic.', 'Legters Music Co.,, Chicago :, [1919].']\n",
      "'The  parting sailor boy's vow', ['1918, monographic.', 'Ehrgott & Kahl,, Union Square, N.Y. :, [1918].']\n",
      "'God speed the day we get the Kaiser's goat', ['1918, monographic.', 'Adam D. Kahler,, [United States?] :, [1918].']\n",
      "'On to Berlin spirit of 1918', ['1918, monographic.', 'O.L. Burch,, Denver, Colo. :, [1918].']\n",
      "'Hats off to U.S.A', ['1917, monographic.', 'Howard Earl Jaynes,, Detroit, Mich. :, [1917].']\n",
      "'Hats off to U.S.A', ['monographic.']\n",
      "'Now he is over', ['1919, monographic.', 'Delmar Music Co.,, Chicago:, [1919].']\n",
      "'Kaiser Bill, world's assassin', ['monographic.']\n",
      "'America, the greatest of them all', ['monographic.']\n",
      "'Good bye my boy we're proud to see you go', ['monographic.']\n",
      "'Ev-ry-bod-y takes you by the hand in home sweet home', ['1919, monographic.', 'Triangle Music Pub. Co.,, New York :, [1919].']\n",
      "'Arise! ye stalwart sons', ['monographic.']\n",
      "'When I come back to you op. 75, no. 1', ['monographic.', 'Willis Music Company,, Cincinatti, O. :, [1919].']\n",
      "'Since my boy has gone away', ['monographic.']\n",
      "'The  Irish Kaiser', ['1917, monographic.', 'Edwin Forrest Kamerly,, Philadelphia :, [1917].']\n",
      "'Safe for democracy New America', ['monographic.']\n",
      "'Safe for democracy Take your pen and sign the peace', ['monographic.']\n",
      "'Safe for democracy When my boy comes marching home', ['monographic.']\n",
      "'Lullaby of war while your daddy's far away', ['monographic.', 'Thos. Goggan & Bros.,, San Antonio, Texas :, [1917].']\n",
      "'Welcome home to our soldier boys', ['1918, monographic.', 'Jennie D. Kane,, Stroudsburg, Pa. :, [1918].']\n",
      "'There is no place like home dear in the good old U.S.A', ['1918, monographic.', 'Lyric Music Co.,, Seattle, Wash., U.S.A. :, [1918].']\n",
      "'The  working man', ['monographic.', 'Lyric Music Publishing Company,, Seattle, U.S.A. :, [1918].']\n",
      "'Lafayette--we are here!', ['monographic.']\n"
     ]
    }
   ],
   "source": [
    "wwi_sheet_music = requests.get(\"https://www.loc.gov/collections/world-war-i-sheet-music/?fo=json\").json()\n",
    "for item in wwi_sheet_music[\"results\"]:\n",
    "    item_json = requests.get(item[\"id\"] + \"?fo=json\").json()\n",
    "    print(\"'%s', %s\" % (item_json[\"item\"][\"title\"], item_json[\"item\"][\"created_published\"]))"
   ]
  },
  {
   "cell_type": "markdown",
   "metadata": {
    "collapsed": true
   },
   "source": [
    "## Digging into the results\n",
    "Now that you have the list of who published the sheet music and when, you might want to learn where they were published.\n",
    "Let's create a graph of the places where the sheet music was published for the first 25 items. Note, sheet music can have multiple places where it was published."
   ]
  },
  {
   "cell_type": "code",
   "execution_count": 12,
   "metadata": {},
   "outputs": [
    {
     "data": {
      "text/plain": [
       "<matplotlib.axes._subplots.AxesSubplot at 0x110712bd0>"
      ]
     },
     "execution_count": 12,
     "metadata": {},
     "output_type": "execute_result"
    },
    {
     "data": {
      "image/png": "[encoded data removed]",
      "text/plain": [
       "<Figure size 648x648 with 1 Axes>"
      ]
     },
     "metadata": {
      "needs_background": "light"
     },
     "output_type": "display_data"
    }
   ],
   "source": [
    "import pandas as pd\n",
    "%matplotlib inline\n",
    "from collections import Counter\n",
    "location_counter = Counter()\n",
    "wwi_sheet_music = requests.get(\"https://www.loc.gov/collections/world-war-i-sheet-music/?fo=json\").json()\n",
    "\n",
    "for item in wwi_sheet_music[\"results\"]:\n",
    "    if item['location'] is not None: #check that the item has a location, since it is optional\n",
    "        for location in item['location']:\n",
    "            location_counter[location] += 1 #add one for the location\n",
    "    \n",
    "locations = pd.Series(location_counter)\n",
    "locations.sort_values(ascending=True).plot(kind='barh', figsize=(9,9))"
   ]
  },
  {
   "cell_type": "markdown",
   "metadata": {
    "collapsed": true
   },
   "source": [
    "## Further Research\n",
    "Check out the \"ask a librarian\" section of our website: https://www.loc.gov/rr/askalib/"
   ]
  },
  {
   "cell_type": "code",
   "execution_count": null,
   "metadata": {
    "collapsed": true
   },
   "outputs": [],
   "source": []
  }
 ],
 "metadata": {
  "kernelspec": {
   "display_name": "Python 3",
   "language": "python",
   "name": "python3"
  },
  "language_info": {
   "codemirror_mode": {
    "name": "ipython",
    "version": 3
   },
   "file_extension": ".py",
   "mimetype": "text/x-python",
   "name": "python",
   "nbconvert_exporter": "python",
   "pygments_lexer": "ipython3",
   "version": "3.7.4"
  }
 },
 "nbformat": 4,
 "nbformat_minor": 2
}
