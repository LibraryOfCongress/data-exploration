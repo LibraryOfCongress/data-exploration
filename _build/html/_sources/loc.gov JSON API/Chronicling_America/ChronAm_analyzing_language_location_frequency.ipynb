{
 "cells": [
  {
   "cell_type": "markdown",
   "metadata": {},
   "source": [
    "# Using Chronicling America to analyze word frequency and geographic usage\n",
    "Feel free to download this notebook and put in your own search queries."
   ]
  },
  {
   "cell_type": "markdown",
   "metadata": {
    "id": "b2g2vYF5Dl8D"
   },
   "source": [
    "## Notebook Example\n",
    "\n",
    "For this example, we will look at the term \"**influenza**\" and its occurence in the U.S. newspapers in Chronicling America during **1800** and **1830**.\n",
    "\n",
    "Specifically, we want to utilize the API to look at the word usage in relationship to time and location:\n",
    "1. Time: When was the term published in newspapers?\n",
    "2. Location: Where was the term most commonly used based on a newspaper's publication location?"
   ]
  },
  {
   "cell_type": "markdown",
   "metadata": {
    "id": "b2g2vYF5Dl8D"
   },
   "source": [
    "## Importing Modules [Required]\n",
    "The following imports are required for the scripts to run properly:\n",
    "\n",
    "---\n",
    "1. Run the following code below.\n",
    "    * It will import all the modules you need for this notebook.\n",
    "    * Do not change anything."
   ]
  },
  {
   "cell_type": "code",
   "execution_count": 1,
   "metadata": {
    "id": "cmWQhXNdLc8j"
   },
   "outputs": [],
   "source": [
    "import time\n",
    "import re\n",
    "import json\n",
    "from urllib.request import urlopen\n",
    "import requests\n",
    "import pandas as pd\n",
    "import matplotlib.pyplot as plt\n",
    "import plotly.express as px\n",
    "import pprint"
   ]
  },
  {
   "cell_type": "markdown",
   "metadata": {
    "id": "IryW_02CDuA2"
   },
   "source": [
    "# Perform a Query\n"
   ]
  },
  {
   "cell_type": "code",
   "execution_count": 2,
   "metadata": {
    "id": "JBKT2O-5Dtom"
   },
   "outputs": [],
   "source": [
    "# Perform Query - Paste your API Search Query URL into the searchURL.  It should have &fo=json at the end of the URL.\n",
    "searchURL = 'https://www.loc.gov/collections/chronicling-america/?dl=page&end_date=1830-12-31&ops=AND&qs=influenza&searchType=advanced&start_date=1800-01-01&fo=json'\n"
   ]
  },
  {
   "cell_type": "markdown",
   "metadata": {
    "id": "c-eM5fx6EO3z"
   },
   "source": [
    "## Run Function\n",
    "Functions and limits define what will be included and excluded in the search for downloads.\n",
    "The code below will use the above query and gather the list of records associated with the search results. \n",
    "\n",
    "---\n",
    "1. Run the code below.\n",
    "    * Do not change anything.\n",
    "    * Be patient and mindful when creating queries to run. Queries with more search results will take longer to process.\n",
    "2. When the script is complete, it will tell you how many Newspaper Pages it found from your search.\n",
    "3. If you are satisfied with the amount of results, proceed to the next section to run the metadata download.\n",
    "4. If you are not satisfied with the amount of results, go back and redo the API Search Query."
   ]
  },
  {
   "cell_type": "code",
   "execution_count": 3,
   "metadata": {
    "colab": {
     "base_uri": "https://localhost:8080/"
    },
    "executionInfo": {
     "elapsed": 151236,
     "status": "ok",
     "timestamp": 1712098815981,
     "user": {
      "displayName": "Mike Saelee",
      "userId": "09356275809855701196"
     },
     "user_tz": 240
    },
    "id": "EH_zFjdHEPVk",
    "outputId": "b280594a-24bb-40b0-9267-35ac7d3168a6"
   },
   "outputs": [
    {
     "name": "stdout",
     "output_type": "stream",
     "text": [
      "\n",
      "Success. Your API Search Query found 256 related newspaper pages.\n"
     ]
    }
   ],
   "source": [
    "def get_item_ids(url, items=[], conditional='True'):\n",
    "    # Check that the query URL is not an item or resource link.\n",
    "    exclude = [\"loc.gov/item\",\"loc.gov/resource\"]\n",
    "    if any(string in url for string in exclude):\n",
    "        raise NameError('Your URL points directly to an item or '\n",
    "                        'resource page (you can tell because \"item\" '\n",
    "                        'or \"resource\" is in the URL). Please use '\n",
    "                        'a search URL instead. For example, instead '\n",
    "                        'of \\\"https://www.loc.gov/item/2009581123/\\\", '\n",
    "                        'try \\\"https://www.loc.gov/maps/?q=2009581123\\\". ')\n",
    "\n",
    "    # request pages of 100 results at a time\n",
    "    params = {\"fo\": \"json\", \"c\": 100, \"at\": \"results,pagination\"}\n",
    "    call = requests.get(url, params=params)\n",
    "    # Check that the API request was successful\n",
    "    if (call.status_code==200) & ('json' in call.headers.get('content-type')):\n",
    "        data = call.json()\n",
    "        results = data['results']\n",
    "        for result in results:\n",
    "            # Filter out anything that's a colletion or web page\n",
    "            filter_out = (\"collection\" in result.get(\"original_format\")) \\\n",
    "                    or (\"web page\" in result.get(\"original_format\")) \\\n",
    "                    or (eval(conditional)==False)\n",
    "            if not filter_out:\n",
    "                # Get the link to the item record\n",
    "                if result.get(\"id\"):\n",
    "                    item = result.get(\"id\")\n",
    "                    # Filter out links to Catalog or other platforms\n",
    "                    if item.startswith(\"http://www.loc.gov/resource\"):\n",
    "                      resource = item  # Assign item to resource\n",
    "                      items.append(resource)\n",
    "                    if item.startswith(\"http://www.loc.gov/item\"):\n",
    "                        items.append(item)\n",
    "        # Repeat the loop on the next page, unless we're on the last page.\n",
    "        if data[\"pagination\"][\"next\"] is not None:\n",
    "            next_url = data[\"pagination\"][\"next\"]\n",
    "            get_item_ids(next_url, items, conditional)\n",
    "\n",
    "        return items\n",
    "    else:\n",
    "            print('There was a problem. Try running the cell again, or check your searchURL.')\n",
    "\n",
    "# Generate a list of records found from performing a query and save these Item IDs. (Create ids_list based on items found in the searchURL result)\n",
    "ids_list = get_item_ids(searchURL, items=[])\n",
    "\n",
    "# Add 'fo=json' to the end of each row in ids_list (All individual ids from from the ids_list are now listed in JSON format in new_ids)\n",
    "ids_list_json = []\n",
    "for id in ids_list:\n",
    "  if not id.endswith('&fo=json'):\n",
    "    id += '&fo=json'\n",
    "  ids_list_json.append(id)\n",
    "ids = ids_list_json\n",
    "\n",
    "print('\\nSuccess. Your API Search Query found '+str(len(ids_list_json))+' related newspaper pages.')"
   ]
  },
  {
   "cell_type": "markdown",
   "metadata": {
    "id": "E-pSbCJNEri4"
   },
   "source": [
    "## Get Basic Metadata/Information for your Query and Store It in a List\n",
    "\n",
    "The script below will pull the metadata from your search query in preparation for download into a CSV. The JSON parameters in the script can be changed per your requirements. \n",
    "\n",
    "---\n",
    "1. Run the code below.\n",
    "    * Do not change anything.\n",
    "    * Be patient and mindful when creating queries to run. Queries with more search results will take longer to process.\n",
    "2. When the script is complete, a preview will be shown on the bottom."
   ]
  },
  {
   "cell_type": "code",
   "execution_count": 4,
   "metadata": {
    "colab": {
     "base_uri": "https://localhost:8080/"
    },
    "executionInfo": {
     "elapsed": 2249965,
     "status": "ok",
     "timestamp": 1712101074898,
     "user": {
      "displayName": "Mike Saelee",
      "userId": "09356275809855701196"
     },
     "user_tz": 240
    },
    "id": "ZkXEpC0TE7Ep",
    "outputId": "51cb7a0d-6bb7-4343-fb84-3b1fb5012590"
   },
   "outputs": [
    {
     "name": "stdout",
     "output_type": "stream",
     "text": [
      "\n",
      "Ready to proceed to the next step!\n"
     ]
    }
   ],
   "source": [
    "# Create a list of dictionaries to store the item metadata\n",
    "item_metadata_list = []\n",
    "\n",
    "# Iterate over the list of item IDs\n",
    "for item_id in ids_list_json:\n",
    "  item_response = requests.get(item_id)\n",
    "\n",
    "  # Check if the API call was successful and Parse the JSON response\n",
    "  if item_response.status_code == 200:\n",
    "    # Iterate over the ids_list_json list and extract the relevant metadata from each dictionary.\n",
    "    item_data = item_response.json()\n",
    "    if 'location_city' not in item_data['item']:\n",
    "      continue\n",
    "\n",
    "    # Extract the relevant item metadata\n",
    "    Newspaper_Title = item_data['item']['newspaper_title']\n",
    "    Issue_Date = item_data['item']['date']\n",
    "    Page = item_data['pagination']['current']\n",
    "    State = item_data['item']['location_state']\n",
    "    City = item_data['item']['location_city']\n",
    "    LCCN = item_data['item']['number_lccn']\n",
    "    Contributor = item_data['item']['contributor_names']\n",
    "    Batch = item_data['item']['batch']\n",
    "    pdf = item_data['resource']['pdf']\n",
    "\n",
    "    # Add the item metadata to the list\n",
    "    item_metadata_list.append({\n",
    "        'Newspaper Title': Newspaper_Title,\n",
    "        'Issue Date': Issue_Date,\n",
    "        'Page Number': Page,\n",
    "        'LCCN': LCCN,\n",
    "        'City': City,\n",
    "        'State': State,\n",
    "        'Contributor': Contributor,\n",
    "        'Batch': Batch,\n",
    "        'PDF Link': pdf,\n",
    "  })\n",
    "\n",
    "# Change date format to MM-DD-YYYY\n",
    "for item in item_metadata_list:\n",
    "  item['Issue Date'] = pd.to_datetime(item['Issue Date']).strftime('%m-%d-%Y')\n",
    "\n",
    "# Create a Pandas DataFrame from the list of dictionaries\n",
    "df = pd.DataFrame(item_metadata_list)\n",
    "\n",
    "print('\\nReady to proceed to the next step!')"
   ]
  },
  {
   "cell_type": "markdown",
   "metadata": {
    "id": "b-jd7tu-EZoh"
   },
   "source": [
    "# Export Metadata of Search Results to a CSV File\n",
    "\n",
    "---\n",
    "1. Edit your save location and the filename below.\n",
    "2. Then run the code."
   ]
  },
  {
   "cell_type": "code",
   "execution_count": 5,
   "metadata": {
    "id": "rTM9CWAJXsKC"
   },
   "outputs": [],
   "source": [
    "# Add your Local saveTo Location (e.g. C:/Downloads/)\n",
    "saveTo = 'output'\n",
    "\n",
    "# Set File Name. Make sure to rename the file so it doesn't overwrite previous!\n",
    "filename = 'MetadataFileName'"
   ]
  },
  {
   "cell_type": "markdown",
   "metadata": {
    "id": "-hoVtEK6XxKT"
   },
   "source": [
    "Press Run to save your file and print out a dataframe preview example below:\n",
    "\n"
   ]
  },
  {
   "cell_type": "code",
   "execution_count": 6,
   "metadata": {
    "colab": {
     "base_uri": "https://localhost:8080/",
     "height": 476
    },
    "executionInfo": {
     "elapsed": 268,
     "status": "ok",
     "timestamp": 1712101512445,
     "user": {
      "displayName": "Mike Saelee",
      "userId": "09356275809855701196"
     },
     "user_tz": 240
    },
    "id": "euHIY5dYDuOs",
    "outputId": "07b60959-000a-45e0-c885-8883c13c3da6"
   },
   "outputs": [
    {
     "name": "stdout",
     "output_type": "stream",
     "text": [
      "\n",
      "Success! Please check your saveTo location to see the saved csv file. See Preview Below:\n",
      "\n"
     ]
    },
    {
     "data": {
      "text/html": [
       "<div>\n",
       "<style scoped>\n",
       "    .dataframe tbody tr th:only-of-type {\n",
       "        vertical-align: middle;\n",
       "    }\n",
       "\n",
       "    .dataframe tbody tr th {\n",
       "        vertical-align: top;\n",
       "    }\n",
       "\n",
       "    .dataframe thead th {\n",
       "        text-align: right;\n",
       "    }\n",
       "</style>\n",
       "<table border=\"1\" class=\"dataframe\">\n",
       "  <thead>\n",
       "    <tr style=\"text-align: right;\">\n",
       "      <th></th>\n",
       "      <th>Newspaper Title</th>\n",
       "      <th>Issue Date</th>\n",
       "      <th>Page Number</th>\n",
       "      <th>LCCN</th>\n",
       "      <th>City</th>\n",
       "      <th>State</th>\n",
       "      <th>Contributor</th>\n",
       "      <th>Batch</th>\n",
       "      <th>PDF Link</th>\n",
       "    </tr>\n",
       "  </thead>\n",
       "  <tbody>\n",
       "    <tr>\n",
       "      <th>0</th>\n",
       "      <td>[Virginia Argus]</td>\n",
       "      <td>09-09-1807</td>\n",
       "      <td>1</td>\n",
       "      <td>[sn84024710]</td>\n",
       "      <td>[richmond]</td>\n",
       "      <td>[virginia]</td>\n",
       "      <td>[Library of Virginia; Richmond, VA]</td>\n",
       "      <td>[vi_otters_ver02]</td>\n",
       "      <td>https://tile.loc.gov/storage-services/service/...</td>\n",
       "    </tr>\n",
       "    <tr>\n",
       "      <th>1</th>\n",
       "      <td>[The Wilmingtonian, and Delaware advertiser]</td>\n",
       "      <td>04-20-1826</td>\n",
       "      <td>1</td>\n",
       "      <td>[sn85042523]</td>\n",
       "      <td>[wilmington]</td>\n",
       "      <td>[delaware]</td>\n",
       "      <td>[University of Delaware Library, Newark, DE]</td>\n",
       "      <td>[deu_kedavra_ver01]</td>\n",
       "      <td>https://tile.loc.gov/storage-services/service/...</td>\n",
       "    </tr>\n",
       "    <tr>\n",
       "      <th>2</th>\n",
       "      <td>[Alexandria gazette, commercial and political]</td>\n",
       "      <td>11-15-1815</td>\n",
       "      <td>2</td>\n",
       "      <td>[sn84024014]</td>\n",
       "      <td>[alexandria]</td>\n",
       "      <td>[virginia]</td>\n",
       "      <td>[Library of Virginia; Richmond, VA]</td>\n",
       "      <td>[vi_greenjackets_ver02]</td>\n",
       "      <td>https://tile.loc.gov/storage-services/service/...</td>\n",
       "    </tr>\n",
       "    <tr>\n",
       "      <th>3</th>\n",
       "      <td>[Virginia advocate]</td>\n",
       "      <td>06-11-1830</td>\n",
       "      <td>3</td>\n",
       "      <td>[sn84024689]</td>\n",
       "      <td>[charlottesville]</td>\n",
       "      <td>[virginia]</td>\n",
       "      <td>[Library of Virginia; Richmond, VA]</td>\n",
       "      <td>[vi_naturals_ver01]</td>\n",
       "      <td>https://tile.loc.gov/storage-services/service/...</td>\n",
       "    </tr>\n",
       "    <tr>\n",
       "      <th>4</th>\n",
       "      <td>[Northern star, and Warren and Bristol gazette]</td>\n",
       "      <td>03-11-1826</td>\n",
       "      <td>3</td>\n",
       "      <td>[sn83021518]</td>\n",
       "      <td>[warren]</td>\n",
       "      <td>[rhode island]</td>\n",
       "      <td>[Rhode Island Digital Newspaper Project]</td>\n",
       "      <td>[rp_azer_ver02]</td>\n",
       "      <td>https://tile.loc.gov/storage-services/service/...</td>\n",
       "    </tr>\n",
       "    <tr>\n",
       "      <th>...</th>\n",
       "      <td>...</td>\n",
       "      <td>...</td>\n",
       "      <td>...</td>\n",
       "      <td>...</td>\n",
       "      <td>...</td>\n",
       "      <td>...</td>\n",
       "      <td>...</td>\n",
       "      <td>...</td>\n",
       "      <td>...</td>\n",
       "    </tr>\n",
       "    <tr>\n",
       "      <th>244</th>\n",
       "      <td>[The Massachusetts spy, and Worcester County a...</td>\n",
       "      <td>04-09-1828</td>\n",
       "      <td>4</td>\n",
       "      <td>[sn83021206]</td>\n",
       "      <td>[worcester]</td>\n",
       "      <td>[massachusetts]</td>\n",
       "      <td>[Boston Public LIbrary]</td>\n",
       "      <td>[mb_circe_ver01]</td>\n",
       "      <td>https://tile.loc.gov/storage-services/service/...</td>\n",
       "    </tr>\n",
       "    <tr>\n",
       "      <th>245</th>\n",
       "      <td>[Richmond enquirer]</td>\n",
       "      <td>06-09-1826</td>\n",
       "      <td>3</td>\n",
       "      <td>[sn84024735]</td>\n",
       "      <td>[richmond]</td>\n",
       "      <td>[virginia]</td>\n",
       "      <td>[Library of Virginia; Richmond, VA]</td>\n",
       "      <td>[vi_naturals_ver01]</td>\n",
       "      <td>https://tile.loc.gov/storage-services/service/...</td>\n",
       "    </tr>\n",
       "    <tr>\n",
       "      <th>246</th>\n",
       "      <td>[Richmond enquirer]</td>\n",
       "      <td>06-09-1826</td>\n",
       "      <td>4</td>\n",
       "      <td>[sn84024735]</td>\n",
       "      <td>[richmond]</td>\n",
       "      <td>[virginia]</td>\n",
       "      <td>[Library of Virginia; Richmond, VA]</td>\n",
       "      <td>[vi_naturals_ver01]</td>\n",
       "      <td>https://tile.loc.gov/storage-services/service/...</td>\n",
       "    </tr>\n",
       "    <tr>\n",
       "      <th>247</th>\n",
       "      <td>[Richmond enquirer]</td>\n",
       "      <td>10-02-1821</td>\n",
       "      <td>3</td>\n",
       "      <td>[sn84024735]</td>\n",
       "      <td>[richmond]</td>\n",
       "      <td>[virginia]</td>\n",
       "      <td>[Library of Virginia; Richmond, VA]</td>\n",
       "      <td>[vi_mudhens_ver02]</td>\n",
       "      <td>https://tile.loc.gov/storage-services/service/...</td>\n",
       "    </tr>\n",
       "    <tr>\n",
       "      <th>248</th>\n",
       "      <td>[Richmond enquirer]</td>\n",
       "      <td>03-01-1827</td>\n",
       "      <td>4</td>\n",
       "      <td>[sn84024735]</td>\n",
       "      <td>[richmond]</td>\n",
       "      <td>[virginia]</td>\n",
       "      <td>[Library of Virginia; Richmond, VA]</td>\n",
       "      <td>[vi_naturals_ver01]</td>\n",
       "      <td>https://tile.loc.gov/storage-services/service/...</td>\n",
       "    </tr>\n",
       "  </tbody>\n",
       "</table>\n",
       "<p>249 rows × 9 columns</p>\n",
       "</div>"
      ],
      "text/plain": [
       "                                       Newspaper Title  Issue Date  \\\n",
       "0                                     [Virginia Argus]  09-09-1807   \n",
       "1         [The Wilmingtonian, and Delaware advertiser]  04-20-1826   \n",
       "2       [Alexandria gazette, commercial and political]  11-15-1815   \n",
       "3                                  [Virginia advocate]  06-11-1830   \n",
       "4      [Northern star, and Warren and Bristol gazette]  03-11-1826   \n",
       "..                                                 ...         ...   \n",
       "244  [The Massachusetts spy, and Worcester County a...  04-09-1828   \n",
       "245                                [Richmond enquirer]  06-09-1826   \n",
       "246                                [Richmond enquirer]  06-09-1826   \n",
       "247                                [Richmond enquirer]  10-02-1821   \n",
       "248                                [Richmond enquirer]  03-01-1827   \n",
       "\n",
       "     Page Number          LCCN               City            State  \\\n",
       "0              1  [sn84024710]         [richmond]       [virginia]   \n",
       "1              1  [sn85042523]       [wilmington]       [delaware]   \n",
       "2              2  [sn84024014]       [alexandria]       [virginia]   \n",
       "3              3  [sn84024689]  [charlottesville]       [virginia]   \n",
       "4              3  [sn83021518]           [warren]   [rhode island]   \n",
       "..           ...           ...                ...              ...   \n",
       "244            4  [sn83021206]        [worcester]  [massachusetts]   \n",
       "245            3  [sn84024735]         [richmond]       [virginia]   \n",
       "246            4  [sn84024735]         [richmond]       [virginia]   \n",
       "247            3  [sn84024735]         [richmond]       [virginia]   \n",
       "248            4  [sn84024735]         [richmond]       [virginia]   \n",
       "\n",
       "                                      Contributor                    Batch  \\\n",
       "0             [Library of Virginia; Richmond, VA]        [vi_otters_ver02]   \n",
       "1    [University of Delaware Library, Newark, DE]      [deu_kedavra_ver01]   \n",
       "2             [Library of Virginia; Richmond, VA]  [vi_greenjackets_ver02]   \n",
       "3             [Library of Virginia; Richmond, VA]      [vi_naturals_ver01]   \n",
       "4        [Rhode Island Digital Newspaper Project]          [rp_azer_ver02]   \n",
       "..                                            ...                      ...   \n",
       "244                       [Boston Public LIbrary]         [mb_circe_ver01]   \n",
       "245           [Library of Virginia; Richmond, VA]      [vi_naturals_ver01]   \n",
       "246           [Library of Virginia; Richmond, VA]      [vi_naturals_ver01]   \n",
       "247           [Library of Virginia; Richmond, VA]       [vi_mudhens_ver02]   \n",
       "248           [Library of Virginia; Richmond, VA]      [vi_naturals_ver01]   \n",
       "\n",
       "                                              PDF Link  \n",
       "0    https://tile.loc.gov/storage-services/service/...  \n",
       "1    https://tile.loc.gov/storage-services/service/...  \n",
       "2    https://tile.loc.gov/storage-services/service/...  \n",
       "3    https://tile.loc.gov/storage-services/service/...  \n",
       "4    https://tile.loc.gov/storage-services/service/...  \n",
       "..                                                 ...  \n",
       "244  https://tile.loc.gov/storage-services/service/...  \n",
       "245  https://tile.loc.gov/storage-services/service/...  \n",
       "246  https://tile.loc.gov/storage-services/service/...  \n",
       "247  https://tile.loc.gov/storage-services/service/...  \n",
       "248  https://tile.loc.gov/storage-services/service/...  \n",
       "\n",
       "[249 rows x 9 columns]"
      ]
     },
     "execution_count": 6,
     "metadata": {},
     "output_type": "execute_result"
    }
   ],
   "source": [
    "print('\\nSuccess! Please check your saveTo location to see the saved csv file. See Preview Below:\\n')\n",
    "\n",
    "metadata_dataframe = pd.DataFrame(item_metadata_list)\n",
    "metadata_dataframe.to_csv(saveTo + '/' + filename + '.csv')\n",
    "metadata_dataframe"
   ]
  },
  {
   "cell_type": "markdown",
   "metadata": {
    "id": "9hYEdExkEzmn"
   },
   "source": [
    "## Apply Visualizations to your Data Table\n",
    "\n",
    "\n",
    "Now that you have your saved data file, we recommend cleaning the data before applying it onto visualization applications like Tableau, Microsoft Excel, etc.\n",
    "\n",
    "\n",
    "\n",
    "---\n",
    "\n",
    "\n",
    "\n",
    "Below are examples created by the data we gathered from our search.\n",
    "\n",
    "\n",
    "\n"
   ]
  },
  {
   "cell_type": "code",
   "execution_count": 7,
   "metadata": {
    "colab": {
     "base_uri": "https://localhost:8080/",
     "height": 706
    },
    "executionInfo": {
     "elapsed": 1144,
     "status": "ok",
     "timestamp": 1712102941051,
     "user": {
      "displayName": "Mike Saelee",
      "userId": "09356275809855701196"
     },
     "user_tz": 240
    },
    "id": "JPOJolcAQzK8",
    "outputId": "6c173335-ff48-481e-9ed6-310c0514dcc0"
   },
   "outputs": [
    {
     "data": {
      "image/png": "[encoded data removed]",
      "text/plain": [
       "<Figure size 1200x600 with 1 Axes>"
      ]
     },
     "metadata": {},
     "output_type": "display_data"
    }
   ],
   "source": [
    "# Create a Visualization to show which State newspapers used the Term \n",
    "\n",
    "# Create a bar chart of the state counts\n",
    "plt.figure(figsize=(12,6))\n",
    "df['State'].value_counts().plot.bar()\n",
    "plt.xlabel('Newspaper Publication/State Location')\n",
    "plt.ylabel('Count of Newspaper Pages with the term \"influenza\"')\n",
    "plt.title('Frequency of \"Influenza\" in Newspaper Articles by Location 1800-1830')\n",
    "plt.show()\n"
   ]
  },
  {
   "cell_type": "code",
   "execution_count": null,
   "metadata": {},
   "outputs": [],
   "source": []
  }
 ],
 "metadata": {
  "colab": {
   "authorship_tag": "ABX9TyMReXejDPrrhoNfybH64BE9",
   "provenance": []
  },
  "kernelspec": {
   "display_name": "Python 3 (ipykernel)",
   "language": "python",
   "name": "python3"
  },
  "language_info": {
   "codemirror_mode": {
    "name": "ipython",
    "version": 3
   },
   "file_extension": ".py",
   "mimetype": "text/x-python",
   "name": "python",
   "nbconvert_exporter": "python",
   "pygments_lexer": "ipython3",
   "version": "3.9.13"
  }
 },
 "nbformat": 4,
 "nbformat_minor": 1
}


